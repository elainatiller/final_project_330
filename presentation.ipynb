{
 "cells": [
  {
   "cell_type": "code",
   "execution_count": 5,
   "metadata": {
    "scrolled": true
   },
   "outputs": [],
   "source": [
    "#!pip install geopandas\n",
    "#!pip install geopy\n",
    "#!pip install pgeocode\n",
    "#!pip install seaborn\n",
    "#!pip install haversine"
   ]
  },
  {
   "cell_type": "code",
   "execution_count": 4,
   "metadata": {},
   "outputs": [],
   "source": [
    "from setup import *\n",
    "import matplotlib.pyplot as plt\n",
    "%matplotlib inline"
   ]
  },
  {
   "cell_type": "code",
   "execution_count": 5,
   "metadata": {},
   "outputs": [],
   "source": [
    "# setup.file_pre_processing()"
   ]
  },
  {
   "cell_type": "code",
   "execution_count": 134,
   "metadata": {
    "scrolled": true
   },
   "outputs": [],
   "source": [
    "crime_data = pd.read_csv('crime_data_post_processing.csv', index_col=0)\n",
    "hospitals = pd.read_csv('hospitals_data_post_processing.csv', index_col=0)"
   ]
  },
  {
   "cell_type": "code",
   "execution_count": 104,
   "metadata": {},
   "outputs": [
    {
     "data": {
      "text/html": [
       "<div>\n",
       "<style scoped>\n",
       "    .dataframe tbody tr th:only-of-type {\n",
       "        vertical-align: middle;\n",
       "    }\n",
       "\n",
       "    .dataframe tbody tr th {\n",
       "        vertical-align: top;\n",
       "    }\n",
       "\n",
       "    .dataframe thead th {\n",
       "        text-align: right;\n",
       "    }\n",
       "</style>\n",
       "<table border=\"1\" class=\"dataframe\">\n",
       "  <thead>\n",
       "    <tr style=\"text-align: right;\">\n",
       "      <th></th>\n",
       "      <th>county_name</th>\n",
       "      <th>crime_rate_per_100000</th>\n",
       "      <th>MURDER</th>\n",
       "      <th>RAPE</th>\n",
       "      <th>ROBBERY</th>\n",
       "      <th>AGASSLT</th>\n",
       "      <th>BURGLRY</th>\n",
       "      <th>LARCENY</th>\n",
       "      <th>population</th>\n",
       "      <th>lat_long</th>\n",
       "    </tr>\n",
       "  </thead>\n",
       "  <tbody>\n",
       "    <tr>\n",
       "      <th>0</th>\n",
       "      <td>St. Louis city, MO</td>\n",
       "      <td>1791.995377</td>\n",
       "      <td>119</td>\n",
       "      <td>200</td>\n",
       "      <td>1778</td>\n",
       "      <td>3609</td>\n",
       "      <td>4995</td>\n",
       "      <td>13791</td>\n",
       "      <td>318416</td>\n",
       "      <td>(29.6993748, -91.20677)</td>\n",
       "    </tr>\n",
       "    <tr>\n",
       "      <th>1</th>\n",
       "      <td>Crittenden County, AR</td>\n",
       "      <td>1754.914968</td>\n",
       "      <td>8</td>\n",
       "      <td>38</td>\n",
       "      <td>165</td>\n",
       "      <td>662</td>\n",
       "      <td>1482</td>\n",
       "      <td>1753</td>\n",
       "      <td>49746</td>\n",
       "      <td>(35.2505701, -90.3192299)</td>\n",
       "    </tr>\n",
       "    <tr>\n",
       "      <th>2</th>\n",
       "      <td>Alexander County, IL</td>\n",
       "      <td>1664.700485</td>\n",
       "      <td>1</td>\n",
       "      <td>2</td>\n",
       "      <td>5</td>\n",
       "      <td>119</td>\n",
       "      <td>82</td>\n",
       "      <td>184</td>\n",
       "      <td>7629</td>\n",
       "      <td>(37.1801529, -89.3502834)</td>\n",
       "    </tr>\n",
       "    <tr>\n",
       "      <th>3</th>\n",
       "      <td>Kenedy County, TX</td>\n",
       "      <td>1456.310680</td>\n",
       "      <td>0</td>\n",
       "      <td>3</td>\n",
       "      <td>1</td>\n",
       "      <td>2</td>\n",
       "      <td>5</td>\n",
       "      <td>4</td>\n",
       "      <td>412</td>\n",
       "      <td>(27.221984, -97.79136)</td>\n",
       "    </tr>\n",
       "    <tr>\n",
       "      <th>4</th>\n",
       "      <td>De Soto Parish, LA</td>\n",
       "      <td>1447.402430</td>\n",
       "      <td>3</td>\n",
       "      <td>4</td>\n",
       "      <td>17</td>\n",
       "      <td>368</td>\n",
       "      <td>149</td>\n",
       "      <td>494</td>\n",
       "      <td>27083</td>\n",
       "      <td>(31.901498, -93.670989)</td>\n",
       "    </tr>\n",
       "  </tbody>\n",
       "</table>\n",
       "</div>"
      ],
      "text/plain": [
       "             county_name  crime_rate_per_100000  MURDER  RAPE  ROBBERY  \\\n",
       "0     St. Louis city, MO            1791.995377     119   200     1778   \n",
       "1  Crittenden County, AR            1754.914968       8    38      165   \n",
       "2   Alexander County, IL            1664.700485       1     2        5   \n",
       "3      Kenedy County, TX            1456.310680       0     3        1   \n",
       "4     De Soto Parish, LA            1447.402430       3     4       17   \n",
       "\n",
       "   AGASSLT  BURGLRY  LARCENY  population                   lat_long  \n",
       "0     3609     4995    13791      318416    (29.6993748, -91.20677)  \n",
       "1      662     1482     1753       49746  (35.2505701, -90.3192299)  \n",
       "2      119       82      184        7629  (37.1801529, -89.3502834)  \n",
       "3        2        5        4         412     (27.221984, -97.79136)  \n",
       "4      368      149      494       27083    (31.901498, -93.670989)  "
      ]
     },
     "execution_count": 104,
     "metadata": {},
     "output_type": "execute_result"
    }
   ],
   "source": [
    "crime_data.head()"
   ]
  },
  {
   "cell_type": "code",
   "execution_count": 105,
   "metadata": {},
   "outputs": [
    {
     "data": {
      "text/html": [
       "<div>\n",
       "<style scoped>\n",
       "    .dataframe tbody tr th:only-of-type {\n",
       "        vertical-align: middle;\n",
       "    }\n",
       "\n",
       "    .dataframe tbody tr th {\n",
       "        vertical-align: top;\n",
       "    }\n",
       "\n",
       "    .dataframe thead th {\n",
       "        text-align: right;\n",
       "    }\n",
       "</style>\n",
       "<table border=\"1\" class=\"dataframe\">\n",
       "  <thead>\n",
       "    <tr style=\"text-align: right;\">\n",
       "      <th></th>\n",
       "      <th>Provider ID</th>\n",
       "      <th>Hospital Name</th>\n",
       "      <th>Address</th>\n",
       "      <th>City</th>\n",
       "      <th>State</th>\n",
       "      <th>ZIP Code</th>\n",
       "      <th>Hospital Type</th>\n",
       "      <th>Hospital Ownership</th>\n",
       "      <th>Emergency Services</th>\n",
       "      <th>Hospital overall rating</th>\n",
       "      <th>Mortality national comparison</th>\n",
       "      <th>Patient experience national comparison</th>\n",
       "      <th>Effectiveness of care national comparison</th>\n",
       "      <th>full_address</th>\n",
       "      <th>lat_long</th>\n",
       "    </tr>\n",
       "  </thead>\n",
       "  <tbody>\n",
       "    <tr>\n",
       "      <th>0</th>\n",
       "      <td>10001</td>\n",
       "      <td>SOUTHEAST ALABAMA MEDICAL CENTER</td>\n",
       "      <td>1108 ROSS CLARK CIRCLE</td>\n",
       "      <td>DOTHAN</td>\n",
       "      <td>AL</td>\n",
       "      <td>36301</td>\n",
       "      <td>Acute Care Hospitals</td>\n",
       "      <td>Government - Hospital District or Authority</td>\n",
       "      <td>Yes</td>\n",
       "      <td>3</td>\n",
       "      <td>Same as the national average</td>\n",
       "      <td>Below the national average</td>\n",
       "      <td>Same as the national average</td>\n",
       "      <td>1108 ROSS CLARK CIRCLE DOTHAN AL 36301</td>\n",
       "      <td>(31.216402000000002, -85.36564064472296)</td>\n",
       "    </tr>\n",
       "    <tr>\n",
       "      <th>1</th>\n",
       "      <td>10005</td>\n",
       "      <td>MARSHALL MEDICAL CENTER SOUTH</td>\n",
       "      <td>2505 U S HIGHWAY 431 NORTH</td>\n",
       "      <td>BOAZ</td>\n",
       "      <td>AL</td>\n",
       "      <td>35957</td>\n",
       "      <td>Acute Care Hospitals</td>\n",
       "      <td>Government - Hospital District or Authority</td>\n",
       "      <td>Yes</td>\n",
       "      <td>3</td>\n",
       "      <td>Below the national average</td>\n",
       "      <td>Same as the national average</td>\n",
       "      <td>Same as the national average</td>\n",
       "      <td>2505 U S HIGHWAY 431 NORTH BOAZ AL 35957</td>\n",
       "      <td>NaN</td>\n",
       "    </tr>\n",
       "    <tr>\n",
       "      <th>2</th>\n",
       "      <td>10006</td>\n",
       "      <td>ELIZA COFFEE MEMORIAL HOSPITAL</td>\n",
       "      <td>205 MARENGO STREET</td>\n",
       "      <td>FLORENCE</td>\n",
       "      <td>AL</td>\n",
       "      <td>35631</td>\n",
       "      <td>Acute Care Hospitals</td>\n",
       "      <td>Government - Hospital District or Authority</td>\n",
       "      <td>Yes</td>\n",
       "      <td>2</td>\n",
       "      <td>Below the national average</td>\n",
       "      <td>Below the national average</td>\n",
       "      <td>Same as the national average</td>\n",
       "      <td>205 MARENGO STREET FLORENCE AL 35631</td>\n",
       "      <td>(34.7946245, -87.68303582998244)</td>\n",
       "    </tr>\n",
       "    <tr>\n",
       "      <th>3</th>\n",
       "      <td>10007</td>\n",
       "      <td>MIZELL MEMORIAL HOSPITAL</td>\n",
       "      <td>702 N MAIN ST</td>\n",
       "      <td>OPP</td>\n",
       "      <td>AL</td>\n",
       "      <td>36467</td>\n",
       "      <td>Acute Care Hospitals</td>\n",
       "      <td>Voluntary non-profit - Private</td>\n",
       "      <td>Yes</td>\n",
       "      <td>2</td>\n",
       "      <td>Same as the national average</td>\n",
       "      <td>Same as the national average</td>\n",
       "      <td>Below the national average</td>\n",
       "      <td>702 N MAIN ST OPP AL 36467</td>\n",
       "      <td>(31.2928787, -86.25490030241093)</td>\n",
       "    </tr>\n",
       "    <tr>\n",
       "      <th>4</th>\n",
       "      <td>10008</td>\n",
       "      <td>CRENSHAW COMMUNITY HOSPITAL</td>\n",
       "      <td>101 HOSPITAL CIRCLE</td>\n",
       "      <td>LUVERNE</td>\n",
       "      <td>AL</td>\n",
       "      <td>36049</td>\n",
       "      <td>Acute Care Hospitals</td>\n",
       "      <td>Proprietary</td>\n",
       "      <td>Yes</td>\n",
       "      <td>3</td>\n",
       "      <td>Same as the national average</td>\n",
       "      <td>Not Available</td>\n",
       "      <td>Same as the national average</td>\n",
       "      <td>101 HOSPITAL CIRCLE LUVERNE AL 36049</td>\n",
       "      <td>(31.6937493, -86.26470160380265)</td>\n",
       "    </tr>\n",
       "  </tbody>\n",
       "</table>\n",
       "</div>"
      ],
      "text/plain": [
       "   Provider ID                     Hospital Name                     Address  \\\n",
       "0        10001  SOUTHEAST ALABAMA MEDICAL CENTER      1108 ROSS CLARK CIRCLE   \n",
       "1        10005     MARSHALL MEDICAL CENTER SOUTH  2505 U S HIGHWAY 431 NORTH   \n",
       "2        10006    ELIZA COFFEE MEMORIAL HOSPITAL          205 MARENGO STREET   \n",
       "3        10007          MIZELL MEMORIAL HOSPITAL               702 N MAIN ST   \n",
       "4        10008       CRENSHAW COMMUNITY HOSPITAL         101 HOSPITAL CIRCLE   \n",
       "\n",
       "       City State  ZIP Code         Hospital Type  \\\n",
       "0    DOTHAN    AL     36301  Acute Care Hospitals   \n",
       "1      BOAZ    AL     35957  Acute Care Hospitals   \n",
       "2  FLORENCE    AL     35631  Acute Care Hospitals   \n",
       "3       OPP    AL     36467  Acute Care Hospitals   \n",
       "4   LUVERNE    AL     36049  Acute Care Hospitals   \n",
       "\n",
       "                            Hospital Ownership Emergency Services  \\\n",
       "0  Government - Hospital District or Authority                Yes   \n",
       "1  Government - Hospital District or Authority                Yes   \n",
       "2  Government - Hospital District or Authority                Yes   \n",
       "3               Voluntary non-profit - Private                Yes   \n",
       "4                                  Proprietary                Yes   \n",
       "\n",
       "  Hospital overall rating Mortality national comparison  \\\n",
       "0                       3  Same as the national average   \n",
       "1                       3    Below the national average   \n",
       "2                       2    Below the national average   \n",
       "3                       2  Same as the national average   \n",
       "4                       3  Same as the national average   \n",
       "\n",
       "  Patient experience national comparison  \\\n",
       "0             Below the national average   \n",
       "1           Same as the national average   \n",
       "2             Below the national average   \n",
       "3           Same as the national average   \n",
       "4                          Not Available   \n",
       "\n",
       "  Effectiveness of care national comparison  \\\n",
       "0              Same as the national average   \n",
       "1              Same as the national average   \n",
       "2              Same as the national average   \n",
       "3                Below the national average   \n",
       "4              Same as the national average   \n",
       "\n",
       "                               full_address  \\\n",
       "0    1108 ROSS CLARK CIRCLE DOTHAN AL 36301   \n",
       "1  2505 U S HIGHWAY 431 NORTH BOAZ AL 35957   \n",
       "2      205 MARENGO STREET FLORENCE AL 35631   \n",
       "3                702 N MAIN ST OPP AL 36467   \n",
       "4      101 HOSPITAL CIRCLE LUVERNE AL 36049   \n",
       "\n",
       "                                   lat_long  \n",
       "0  (31.216402000000002, -85.36564064472296)  \n",
       "1                                       NaN  \n",
       "2          (34.7946245, -87.68303582998244)  \n",
       "3          (31.2928787, -86.25490030241093)  \n",
       "4          (31.6937493, -86.26470160380265)  "
      ]
     },
     "execution_count": 105,
     "metadata": {},
     "output_type": "execute_result"
    }
   ],
   "source": [
    "hospitals.head()"
   ]
  },
  {
   "cell_type": "code",
   "execution_count": 135,
   "metadata": {},
   "outputs": [
    {
     "name": "stdout",
     "output_type": "stream",
     "text": [
      "3928\n"
     ]
    }
   ],
   "source": [
    "#drop null lat long hosp. and crime\n",
    "hospitals = hospitals[hospitals['lat_long'].notna()]\n",
    "print(len(hospitals))\n",
    "\n"
   ]
  },
  {
   "cell_type": "code",
   "execution_count": 136,
   "metadata": {},
   "outputs": [
    {
     "name": "stdout",
     "output_type": "stream",
     "text": [
      "3130\n"
     ]
    }
   ],
   "source": [
    "crime_data = crime_data[crime_data['lat_long'] != \"(Na,Na)\"]\n",
    "print(len(crime_data))"
   ]
  },
  {
   "cell_type": "code",
   "execution_count": 137,
   "metadata": {},
   "outputs": [],
   "source": [
    "import pgeocode\n",
    "nomi = pgeocode.Nominatim('US')"
   ]
  },
  {
   "cell_type": "code",
   "execution_count": 138,
   "metadata": {},
   "outputs": [
    {
     "name": "stdout",
     "output_type": "stream",
     "text": [
      "<class 'str'>\n"
     ]
    }
   ],
   "source": [
    "#!pip install haversine\n",
    "print(type(hospitals.loc[0]['lat_long']))"
   ]
  },
  {
   "cell_type": "code",
   "execution_count": 139,
   "metadata": {},
   "outputs": [],
   "source": [
    "\n",
    "import ast\n",
    "hospitals['lat_long'] = hospitals['lat_long'].apply(lambda x : ast.literal_eval(x))\n",
    "crime_data['lat_long'] = crime_data['lat_long'].apply(lambda x : ast.literal_eval(x))"
   ]
  },
  {
   "cell_type": "code",
   "execution_count": 140,
   "metadata": {},
   "outputs": [
    {
     "name": "stdout",
     "output_type": "stream",
     "text": [
      "<class 'tuple'>\n"
     ]
    }
   ],
   "source": [
    "print(type(hospitals.loc[0]['lat_long']))"
   ]
  },
  {
   "cell_type": "code",
   "execution_count": 141,
   "metadata": {},
   "outputs": [],
   "source": [
    "from haversine import haversine, Unit\n",
    "\n",
    "def find_hospital_closest_county(hospital_lat_long):\n",
    "    \n",
    "    minimum = float('inf')\n",
    "    index_of_minimum = 0\n",
    "    for i, county_lat_long in enumerate(crime_data['lat_long'].tolist()):\n",
    "\n",
    "        distance = haversine(hospital_lat_long, county_lat_long, unit=Unit.MILES)\n",
    "        if distance < minimum:\n",
    "            minimum = distance\n",
    "            index_of_minimum = i\n",
    "    \n",
    "    return (crime_data.iloc[index_of_minimum]['county_name'], minimum)"
   ]
  },
  {
   "cell_type": "code",
   "execution_count": 142,
   "metadata": {},
   "outputs": [],
   "source": [
    "# 18.2s: %timeit hospitals['county'], hospitals['distance_in_miles'] = zip(*hospitals['lat_long'].map(find_hospital_closest_county))\n",
    "# 18.2s: %timeit hospitals['county'], hospitals['distance_in_miles'] = zip(*hospitals['lat_long'].apply(find_hospital_closest_county))\n",
    "# 17.7s:\n",
    "hospitals['county'], hospitals['distance_in_miles'] = zip(*hospitals['lat_long'].apply(lambda x : find_hospital_closest_county(x)))"
   ]
  },
  {
   "cell_type": "code",
   "execution_count": 143,
   "metadata": {
    "scrolled": true
   },
   "outputs": [
    {
     "data": {
      "text/plain": [
       "0           Houston County, AL\n",
       "2        Lauderdale County, AL\n",
       "3         Covington County, AL\n",
       "4          Crenshaw County, AL\n",
       "5         Jefferson County, GA\n",
       "                 ...          \n",
       "4804    San Jacinto County, TX\n",
       "4805          Worth County, MO\n",
       "4806      Van Zandt County, TX\n",
       "4807          Jones County, TX\n",
       "4809     Assumption Parish, LA\n",
       "Name: county, Length: 3928, dtype: object"
      ]
     },
     "execution_count": 143,
     "metadata": {},
     "output_type": "execute_result"
    }
   ],
   "source": [
    "hospitals['county']"
   ]
  },
  {
   "cell_type": "code",
   "execution_count": 144,
   "metadata": {
    "scrolled": false
   },
   "outputs": [
    {
     "data": {
      "text/plain": [
       "0          8.140765\n",
       "2          7.637646\n",
       "3         13.809160\n",
       "4          3.619856\n",
       "5          9.474224\n",
       "           ...     \n",
       "4804      17.258489\n",
       "4805       7.650199\n",
       "4806      10.715789\n",
       "4807       6.943816\n",
       "4809    1324.743150\n",
       "Name: distance_in_miles, Length: 3928, dtype: float64"
      ]
     },
     "execution_count": 144,
     "metadata": {},
     "output_type": "execute_result"
    }
   ],
   "source": [
    "hospitals['distance_in_miles']"
   ]
  },
  {
   "cell_type": "code",
   "execution_count": 145,
   "metadata": {},
   "outputs": [
    {
     "data": {
      "text/plain": [
       "3928"
      ]
     },
     "execution_count": 145,
     "metadata": {},
     "output_type": "execute_result"
    }
   ],
   "source": [
    "len(hospitals)"
   ]
  },
  {
   "cell_type": "code",
   "execution_count": 146,
   "metadata": {},
   "outputs": [],
   "source": [
    "hospitals = hospitals.drop(hospitals[hospitals['distance_in_miles'] > 50].index)"
   ]
  },
  {
   "cell_type": "code",
   "execution_count": 147,
   "metadata": {},
   "outputs": [
    {
     "data": {
      "text/plain": [
       "3901"
      ]
     },
     "execution_count": 147,
     "metadata": {},
     "output_type": "execute_result"
    }
   ],
   "source": [
    "len(hospitals)"
   ]
  },
  {
   "cell_type": "code",
   "execution_count": 148,
   "metadata": {
    "scrolled": true
   },
   "outputs": [
    {
     "data": {
      "text/html": [
       "<div>\n",
       "<style scoped>\n",
       "    .dataframe tbody tr th:only-of-type {\n",
       "        vertical-align: middle;\n",
       "    }\n",
       "\n",
       "    .dataframe tbody tr th {\n",
       "        vertical-align: top;\n",
       "    }\n",
       "\n",
       "    .dataframe thead th {\n",
       "        text-align: right;\n",
       "    }\n",
       "</style>\n",
       "<table border=\"1\" class=\"dataframe\">\n",
       "  <thead>\n",
       "    <tr style=\"text-align: right;\">\n",
       "      <th></th>\n",
       "      <th>Provider ID</th>\n",
       "      <th>Hospital Name</th>\n",
       "      <th>Address</th>\n",
       "      <th>City</th>\n",
       "      <th>State</th>\n",
       "      <th>ZIP Code</th>\n",
       "      <th>Hospital Type</th>\n",
       "      <th>Hospital Ownership</th>\n",
       "      <th>Emergency Services</th>\n",
       "      <th>Hospital overall rating</th>\n",
       "      <th>Mortality national comparison</th>\n",
       "      <th>Patient experience national comparison</th>\n",
       "      <th>Effectiveness of care national comparison</th>\n",
       "      <th>full_address</th>\n",
       "      <th>lat_long</th>\n",
       "      <th>county</th>\n",
       "      <th>distance_in_miles</th>\n",
       "    </tr>\n",
       "  </thead>\n",
       "  <tbody>\n",
       "    <tr>\n",
       "      <th>0</th>\n",
       "      <td>10001</td>\n",
       "      <td>SOUTHEAST ALABAMA MEDICAL CENTER</td>\n",
       "      <td>1108 ROSS CLARK CIRCLE</td>\n",
       "      <td>DOTHAN</td>\n",
       "      <td>AL</td>\n",
       "      <td>36301</td>\n",
       "      <td>Acute Care Hospitals</td>\n",
       "      <td>Government - Hospital District or Authority</td>\n",
       "      <td>Yes</td>\n",
       "      <td>3</td>\n",
       "      <td>Same as the national average</td>\n",
       "      <td>Below the national average</td>\n",
       "      <td>Same as the national average</td>\n",
       "      <td>1108 ROSS CLARK CIRCLE DOTHAN AL 36301</td>\n",
       "      <td>(31.216402000000002, -85.36564064472296)</td>\n",
       "      <td>Houston County, AL</td>\n",
       "      <td>8.140765</td>\n",
       "    </tr>\n",
       "    <tr>\n",
       "      <th>2</th>\n",
       "      <td>10006</td>\n",
       "      <td>ELIZA COFFEE MEMORIAL HOSPITAL</td>\n",
       "      <td>205 MARENGO STREET</td>\n",
       "      <td>FLORENCE</td>\n",
       "      <td>AL</td>\n",
       "      <td>35631</td>\n",
       "      <td>Acute Care Hospitals</td>\n",
       "      <td>Government - Hospital District or Authority</td>\n",
       "      <td>Yes</td>\n",
       "      <td>2</td>\n",
       "      <td>Below the national average</td>\n",
       "      <td>Below the national average</td>\n",
       "      <td>Same as the national average</td>\n",
       "      <td>205 MARENGO STREET FLORENCE AL 35631</td>\n",
       "      <td>(34.7946245, -87.68303582998244)</td>\n",
       "      <td>Lauderdale County, AL</td>\n",
       "      <td>7.637646</td>\n",
       "    </tr>\n",
       "    <tr>\n",
       "      <th>3</th>\n",
       "      <td>10007</td>\n",
       "      <td>MIZELL MEMORIAL HOSPITAL</td>\n",
       "      <td>702 N MAIN ST</td>\n",
       "      <td>OPP</td>\n",
       "      <td>AL</td>\n",
       "      <td>36467</td>\n",
       "      <td>Acute Care Hospitals</td>\n",
       "      <td>Voluntary non-profit - Private</td>\n",
       "      <td>Yes</td>\n",
       "      <td>2</td>\n",
       "      <td>Same as the national average</td>\n",
       "      <td>Same as the national average</td>\n",
       "      <td>Below the national average</td>\n",
       "      <td>702 N MAIN ST OPP AL 36467</td>\n",
       "      <td>(31.2928787, -86.25490030241093)</td>\n",
       "      <td>Covington County, AL</td>\n",
       "      <td>13.809160</td>\n",
       "    </tr>\n",
       "    <tr>\n",
       "      <th>4</th>\n",
       "      <td>10008</td>\n",
       "      <td>CRENSHAW COMMUNITY HOSPITAL</td>\n",
       "      <td>101 HOSPITAL CIRCLE</td>\n",
       "      <td>LUVERNE</td>\n",
       "      <td>AL</td>\n",
       "      <td>36049</td>\n",
       "      <td>Acute Care Hospitals</td>\n",
       "      <td>Proprietary</td>\n",
       "      <td>Yes</td>\n",
       "      <td>3</td>\n",
       "      <td>Same as the national average</td>\n",
       "      <td>Not Available</td>\n",
       "      <td>Same as the national average</td>\n",
       "      <td>101 HOSPITAL CIRCLE LUVERNE AL 36049</td>\n",
       "      <td>(31.6937493, -86.26470160380265)</td>\n",
       "      <td>Crenshaw County, AL</td>\n",
       "      <td>3.619856</td>\n",
       "    </tr>\n",
       "    <tr>\n",
       "      <th>5</th>\n",
       "      <td>10011</td>\n",
       "      <td>ST VINCENT'S EAST</td>\n",
       "      <td>50 MEDICAL PARK EAST DRIVE</td>\n",
       "      <td>BIRMINGHAM</td>\n",
       "      <td>AL</td>\n",
       "      <td>35235</td>\n",
       "      <td>Acute Care Hospitals</td>\n",
       "      <td>Voluntary non-profit - Private</td>\n",
       "      <td>Yes</td>\n",
       "      <td>2</td>\n",
       "      <td>Same as the national average</td>\n",
       "      <td>Below the national average</td>\n",
       "      <td>Below the national average</td>\n",
       "      <td>50 MEDICAL PARK EAST DRIVE BIRMINGHAM AL 35235</td>\n",
       "      <td>(33.595315299999996, -86.66763066940506)</td>\n",
       "      <td>Jefferson County, GA</td>\n",
       "      <td>9.474224</td>\n",
       "    </tr>\n",
       "  </tbody>\n",
       "</table>\n",
       "</div>"
      ],
      "text/plain": [
       "   Provider ID                     Hospital Name                     Address  \\\n",
       "0        10001  SOUTHEAST ALABAMA MEDICAL CENTER      1108 ROSS CLARK CIRCLE   \n",
       "2        10006    ELIZA COFFEE MEMORIAL HOSPITAL          205 MARENGO STREET   \n",
       "3        10007          MIZELL MEMORIAL HOSPITAL               702 N MAIN ST   \n",
       "4        10008       CRENSHAW COMMUNITY HOSPITAL         101 HOSPITAL CIRCLE   \n",
       "5        10011                 ST VINCENT'S EAST  50 MEDICAL PARK EAST DRIVE   \n",
       "\n",
       "         City State  ZIP Code         Hospital Type  \\\n",
       "0      DOTHAN    AL     36301  Acute Care Hospitals   \n",
       "2    FLORENCE    AL     35631  Acute Care Hospitals   \n",
       "3         OPP    AL     36467  Acute Care Hospitals   \n",
       "4     LUVERNE    AL     36049  Acute Care Hospitals   \n",
       "5  BIRMINGHAM    AL     35235  Acute Care Hospitals   \n",
       "\n",
       "                            Hospital Ownership Emergency Services  \\\n",
       "0  Government - Hospital District or Authority                Yes   \n",
       "2  Government - Hospital District or Authority                Yes   \n",
       "3               Voluntary non-profit - Private                Yes   \n",
       "4                                  Proprietary                Yes   \n",
       "5               Voluntary non-profit - Private                Yes   \n",
       "\n",
       "  Hospital overall rating Mortality national comparison  \\\n",
       "0                       3  Same as the national average   \n",
       "2                       2    Below the national average   \n",
       "3                       2  Same as the national average   \n",
       "4                       3  Same as the national average   \n",
       "5                       2  Same as the national average   \n",
       "\n",
       "  Patient experience national comparison  \\\n",
       "0             Below the national average   \n",
       "2             Below the national average   \n",
       "3           Same as the national average   \n",
       "4                          Not Available   \n",
       "5             Below the national average   \n",
       "\n",
       "  Effectiveness of care national comparison  \\\n",
       "0              Same as the national average   \n",
       "2              Same as the national average   \n",
       "3                Below the national average   \n",
       "4              Same as the national average   \n",
       "5                Below the national average   \n",
       "\n",
       "                                     full_address  \\\n",
       "0          1108 ROSS CLARK CIRCLE DOTHAN AL 36301   \n",
       "2            205 MARENGO STREET FLORENCE AL 35631   \n",
       "3                      702 N MAIN ST OPP AL 36467   \n",
       "4            101 HOSPITAL CIRCLE LUVERNE AL 36049   \n",
       "5  50 MEDICAL PARK EAST DRIVE BIRMINGHAM AL 35235   \n",
       "\n",
       "                                   lat_long                 county  \\\n",
       "0  (31.216402000000002, -85.36564064472296)     Houston County, AL   \n",
       "2          (34.7946245, -87.68303582998244)  Lauderdale County, AL   \n",
       "3          (31.2928787, -86.25490030241093)   Covington County, AL   \n",
       "4          (31.6937493, -86.26470160380265)    Crenshaw County, AL   \n",
       "5  (33.595315299999996, -86.66763066940506)   Jefferson County, GA   \n",
       "\n",
       "   distance_in_miles  \n",
       "0           8.140765  \n",
       "2           7.637646  \n",
       "3          13.809160  \n",
       "4           3.619856  \n",
       "5           9.474224  "
      ]
     },
     "execution_count": 148,
     "metadata": {},
     "output_type": "execute_result"
    }
   ],
   "source": [
    "hospitals.head()"
   ]
  },
  {
   "cell_type": "markdown",
   "metadata": {},
   "source": [
    "## Elaina ->>"
   ]
  },
  {
   "cell_type": "code",
   "execution_count": 149,
   "metadata": {},
   "outputs": [
    {
     "data": {
      "text/html": [
       "<div>\n",
       "<style scoped>\n",
       "    .dataframe tbody tr th:only-of-type {\n",
       "        vertical-align: middle;\n",
       "    }\n",
       "\n",
       "    .dataframe tbody tr th {\n",
       "        vertical-align: top;\n",
       "    }\n",
       "\n",
       "    .dataframe thead th {\n",
       "        text-align: right;\n",
       "    }\n",
       "</style>\n",
       "<table border=\"1\" class=\"dataframe\">\n",
       "  <thead>\n",
       "    <tr style=\"text-align: right;\">\n",
       "      <th></th>\n",
       "      <th>Provider ID</th>\n",
       "      <th>Hospital Name</th>\n",
       "      <th>Address</th>\n",
       "      <th>City</th>\n",
       "      <th>State</th>\n",
       "      <th>ZIP Code</th>\n",
       "      <th>Hospital Type</th>\n",
       "      <th>Hospital Ownership</th>\n",
       "      <th>Emergency Services</th>\n",
       "      <th>Hospital overall rating</th>\n",
       "      <th>Mortality national comparison</th>\n",
       "      <th>Patient experience national comparison</th>\n",
       "      <th>Effectiveness of care national comparison</th>\n",
       "      <th>full_address</th>\n",
       "      <th>lat_long</th>\n",
       "      <th>county</th>\n",
       "      <th>distance_in_miles</th>\n",
       "    </tr>\n",
       "  </thead>\n",
       "  <tbody>\n",
       "    <tr>\n",
       "      <th>0</th>\n",
       "      <td>10001</td>\n",
       "      <td>SOUTHEAST ALABAMA MEDICAL CENTER</td>\n",
       "      <td>1108 ROSS CLARK CIRCLE</td>\n",
       "      <td>DOTHAN</td>\n",
       "      <td>AL</td>\n",
       "      <td>36301</td>\n",
       "      <td>Acute Care Hospitals</td>\n",
       "      <td>Government - Hospital District or Authority</td>\n",
       "      <td>Yes</td>\n",
       "      <td>3</td>\n",
       "      <td>Same as the national average</td>\n",
       "      <td>Below the national average</td>\n",
       "      <td>Same as the national average</td>\n",
       "      <td>1108 ROSS CLARK CIRCLE DOTHAN AL 36301</td>\n",
       "      <td>(31.216402000000002, -85.36564064472296)</td>\n",
       "      <td>Houston County, AL</td>\n",
       "      <td>8.140765</td>\n",
       "    </tr>\n",
       "    <tr>\n",
       "      <th>2</th>\n",
       "      <td>10006</td>\n",
       "      <td>ELIZA COFFEE MEMORIAL HOSPITAL</td>\n",
       "      <td>205 MARENGO STREET</td>\n",
       "      <td>FLORENCE</td>\n",
       "      <td>AL</td>\n",
       "      <td>35631</td>\n",
       "      <td>Acute Care Hospitals</td>\n",
       "      <td>Government - Hospital District or Authority</td>\n",
       "      <td>Yes</td>\n",
       "      <td>2</td>\n",
       "      <td>Below the national average</td>\n",
       "      <td>Below the national average</td>\n",
       "      <td>Same as the national average</td>\n",
       "      <td>205 MARENGO STREET FLORENCE AL 35631</td>\n",
       "      <td>(34.7946245, -87.68303582998244)</td>\n",
       "      <td>Lauderdale County, AL</td>\n",
       "      <td>7.637646</td>\n",
       "    </tr>\n",
       "    <tr>\n",
       "      <th>3</th>\n",
       "      <td>10007</td>\n",
       "      <td>MIZELL MEMORIAL HOSPITAL</td>\n",
       "      <td>702 N MAIN ST</td>\n",
       "      <td>OPP</td>\n",
       "      <td>AL</td>\n",
       "      <td>36467</td>\n",
       "      <td>Acute Care Hospitals</td>\n",
       "      <td>Voluntary non-profit - Private</td>\n",
       "      <td>Yes</td>\n",
       "      <td>2</td>\n",
       "      <td>Same as the national average</td>\n",
       "      <td>Same as the national average</td>\n",
       "      <td>Below the national average</td>\n",
       "      <td>702 N MAIN ST OPP AL 36467</td>\n",
       "      <td>(31.2928787, -86.25490030241093)</td>\n",
       "      <td>Covington County, AL</td>\n",
       "      <td>13.809160</td>\n",
       "    </tr>\n",
       "    <tr>\n",
       "      <th>4</th>\n",
       "      <td>10008</td>\n",
       "      <td>CRENSHAW COMMUNITY HOSPITAL</td>\n",
       "      <td>101 HOSPITAL CIRCLE</td>\n",
       "      <td>LUVERNE</td>\n",
       "      <td>AL</td>\n",
       "      <td>36049</td>\n",
       "      <td>Acute Care Hospitals</td>\n",
       "      <td>Proprietary</td>\n",
       "      <td>Yes</td>\n",
       "      <td>3</td>\n",
       "      <td>Same as the national average</td>\n",
       "      <td>Not Available</td>\n",
       "      <td>Same as the national average</td>\n",
       "      <td>101 HOSPITAL CIRCLE LUVERNE AL 36049</td>\n",
       "      <td>(31.6937493, -86.26470160380265)</td>\n",
       "      <td>Crenshaw County, AL</td>\n",
       "      <td>3.619856</td>\n",
       "    </tr>\n",
       "    <tr>\n",
       "      <th>5</th>\n",
       "      <td>10011</td>\n",
       "      <td>ST VINCENT'S EAST</td>\n",
       "      <td>50 MEDICAL PARK EAST DRIVE</td>\n",
       "      <td>BIRMINGHAM</td>\n",
       "      <td>AL</td>\n",
       "      <td>35235</td>\n",
       "      <td>Acute Care Hospitals</td>\n",
       "      <td>Voluntary non-profit - Private</td>\n",
       "      <td>Yes</td>\n",
       "      <td>2</td>\n",
       "      <td>Same as the national average</td>\n",
       "      <td>Below the national average</td>\n",
       "      <td>Below the national average</td>\n",
       "      <td>50 MEDICAL PARK EAST DRIVE BIRMINGHAM AL 35235</td>\n",
       "      <td>(33.595315299999996, -86.66763066940506)</td>\n",
       "      <td>Jefferson County, GA</td>\n",
       "      <td>9.474224</td>\n",
       "    </tr>\n",
       "    <tr>\n",
       "      <th>...</th>\n",
       "      <td>...</td>\n",
       "      <td>...</td>\n",
       "      <td>...</td>\n",
       "      <td>...</td>\n",
       "      <td>...</td>\n",
       "      <td>...</td>\n",
       "      <td>...</td>\n",
       "      <td>...</td>\n",
       "      <td>...</td>\n",
       "      <td>...</td>\n",
       "      <td>...</td>\n",
       "      <td>...</td>\n",
       "      <td>...</td>\n",
       "      <td>...</td>\n",
       "      <td>...</td>\n",
       "      <td>...</td>\n",
       "      <td>...</td>\n",
       "    </tr>\n",
       "    <tr>\n",
       "      <th>4779</th>\n",
       "      <td>670080</td>\n",
       "      <td>SETON MEDICAL CENTER HARKER HEIGHTS</td>\n",
       "      <td>850 W CENTRAL TEXAS EXPRESSWAY</td>\n",
       "      <td>HARKER HEIGHTS</td>\n",
       "      <td>TX</td>\n",
       "      <td>76548</td>\n",
       "      <td>Acute Care Hospitals</td>\n",
       "      <td>Proprietary</td>\n",
       "      <td>Yes</td>\n",
       "      <td>4</td>\n",
       "      <td>Same as the national average</td>\n",
       "      <td>Above the national average</td>\n",
       "      <td>Same as the national average</td>\n",
       "      <td>850 W CENTRAL TEXAS EXPRESSWAY HARKER HEIGHTS ...</td>\n",
       "      <td>(31.07255555, -97.68263831469964)</td>\n",
       "      <td>Coryell County, TX</td>\n",
       "      <td>25.371775</td>\n",
       "    </tr>\n",
       "    <tr>\n",
       "      <th>4780</th>\n",
       "      <td>670082</td>\n",
       "      <td>BAYLOR SCOTT AND WHITE  MEDICAL CENTER  MCKINNEY</td>\n",
       "      <td>5252 WEST UNIVERSITY DRIVE</td>\n",
       "      <td>MC KINNEY</td>\n",
       "      <td>TX</td>\n",
       "      <td>75071</td>\n",
       "      <td>Acute Care Hospitals</td>\n",
       "      <td>Voluntary non-profit - Private</td>\n",
       "      <td>Yes</td>\n",
       "      <td>4</td>\n",
       "      <td>Same as the national average</td>\n",
       "      <td>Above the national average</td>\n",
       "      <td>Same as the national average</td>\n",
       "      <td>5252 WEST UNIVERSITY DRIVE MC KINNEY TX 75071</td>\n",
       "      <td>(33.2196077, -96.68214955013056)</td>\n",
       "      <td>Kinney County, TX</td>\n",
       "      <td>6.012212</td>\n",
       "    </tr>\n",
       "    <tr>\n",
       "      <th>4784</th>\n",
       "      <td>670088</td>\n",
       "      <td>BAYLOR SCOTT &amp; WHITE MEDICAL CENTER- COLLEGE S...</td>\n",
       "      <td>700 SCOTT &amp; WHITE DRIVE</td>\n",
       "      <td>COLLEGE STATION</td>\n",
       "      <td>TX</td>\n",
       "      <td>77845</td>\n",
       "      <td>Acute Care Hospitals</td>\n",
       "      <td>Voluntary non-profit - Private</td>\n",
       "      <td>Yes</td>\n",
       "      <td>4</td>\n",
       "      <td>Same as the national average</td>\n",
       "      <td>Above the national average</td>\n",
       "      <td>Same as the national average</td>\n",
       "      <td>700 SCOTT &amp; WHITE DRIVE COLLEGE STATION TX 77845</td>\n",
       "      <td>(30.582118100000002, -96.27948966825502)</td>\n",
       "      <td>Burleson County, TX</td>\n",
       "      <td>24.886731</td>\n",
       "    </tr>\n",
       "    <tr>\n",
       "      <th>4787</th>\n",
       "      <td>670092</td>\n",
       "      <td>WALNUT HILL MEDICAL CENTER</td>\n",
       "      <td>7502 GREENVILLE AVENUE</td>\n",
       "      <td>DALLAS</td>\n",
       "      <td>TX</td>\n",
       "      <td>75231</td>\n",
       "      <td>Acute Care Hospitals</td>\n",
       "      <td>Proprietary</td>\n",
       "      <td>Yes</td>\n",
       "      <td>3</td>\n",
       "      <td>Same as the national average</td>\n",
       "      <td>Below the national average</td>\n",
       "      <td>Same as the national average</td>\n",
       "      <td>7502 GREENVILLE AVENUE DALLAS TX 75231</td>\n",
       "      <td>(32.8763542, -96.75192719885766)</td>\n",
       "      <td>Dawson County, TX</td>\n",
       "      <td>2.831800</td>\n",
       "    </tr>\n",
       "    <tr>\n",
       "      <th>4793</th>\n",
       "      <td>670098</td>\n",
       "      <td>RESOLUTE HEALTH HOSPITAL</td>\n",
       "      <td>555 CREEKSIDE XING,</td>\n",
       "      <td>NEW BRAUNFELS</td>\n",
       "      <td>TX</td>\n",
       "      <td>78130</td>\n",
       "      <td>Acute Care Hospitals</td>\n",
       "      <td>Proprietary</td>\n",
       "      <td>Yes</td>\n",
       "      <td>3</td>\n",
       "      <td>Not Available</td>\n",
       "      <td>Above the national average</td>\n",
       "      <td>Same as the national average</td>\n",
       "      <td>555 CREEKSIDE XING, NEW BRAUNFELS TX 78130</td>\n",
       "      <td>(29.7205877, -98.06964272347676)</td>\n",
       "      <td>Hays County, TX</td>\n",
       "      <td>8.617801</td>\n",
       "    </tr>\n",
       "  </tbody>\n",
       "</table>\n",
       "<p>3000 rows × 17 columns</p>\n",
       "</div>"
      ],
      "text/plain": [
       "      Provider ID                                      Hospital Name  \\\n",
       "0           10001                   SOUTHEAST ALABAMA MEDICAL CENTER   \n",
       "2           10006                     ELIZA COFFEE MEMORIAL HOSPITAL   \n",
       "3           10007                           MIZELL MEMORIAL HOSPITAL   \n",
       "4           10008                        CRENSHAW COMMUNITY HOSPITAL   \n",
       "5           10011                                  ST VINCENT'S EAST   \n",
       "...           ...                                                ...   \n",
       "4779       670080                SETON MEDICAL CENTER HARKER HEIGHTS   \n",
       "4780       670082   BAYLOR SCOTT AND WHITE  MEDICAL CENTER  MCKINNEY   \n",
       "4784       670088  BAYLOR SCOTT & WHITE MEDICAL CENTER- COLLEGE S...   \n",
       "4787       670092                         WALNUT HILL MEDICAL CENTER   \n",
       "4793       670098                           RESOLUTE HEALTH HOSPITAL   \n",
       "\n",
       "                             Address             City State  ZIP Code  \\\n",
       "0             1108 ROSS CLARK CIRCLE           DOTHAN    AL     36301   \n",
       "2                 205 MARENGO STREET         FLORENCE    AL     35631   \n",
       "3                      702 N MAIN ST              OPP    AL     36467   \n",
       "4                101 HOSPITAL CIRCLE          LUVERNE    AL     36049   \n",
       "5         50 MEDICAL PARK EAST DRIVE       BIRMINGHAM    AL     35235   \n",
       "...                              ...              ...   ...       ...   \n",
       "4779  850 W CENTRAL TEXAS EXPRESSWAY   HARKER HEIGHTS    TX     76548   \n",
       "4780      5252 WEST UNIVERSITY DRIVE        MC KINNEY    TX     75071   \n",
       "4784         700 SCOTT & WHITE DRIVE  COLLEGE STATION    TX     77845   \n",
       "4787          7502 GREENVILLE AVENUE           DALLAS    TX     75231   \n",
       "4793             555 CREEKSIDE XING,    NEW BRAUNFELS    TX     78130   \n",
       "\n",
       "             Hospital Type                           Hospital Ownership  \\\n",
       "0     Acute Care Hospitals  Government - Hospital District or Authority   \n",
       "2     Acute Care Hospitals  Government - Hospital District or Authority   \n",
       "3     Acute Care Hospitals               Voluntary non-profit - Private   \n",
       "4     Acute Care Hospitals                                  Proprietary   \n",
       "5     Acute Care Hospitals               Voluntary non-profit - Private   \n",
       "...                    ...                                          ...   \n",
       "4779  Acute Care Hospitals                                  Proprietary   \n",
       "4780  Acute Care Hospitals               Voluntary non-profit - Private   \n",
       "4784  Acute Care Hospitals               Voluntary non-profit - Private   \n",
       "4787  Acute Care Hospitals                                  Proprietary   \n",
       "4793  Acute Care Hospitals                                  Proprietary   \n",
       "\n",
       "     Emergency Services Hospital overall rating Mortality national comparison  \\\n",
       "0                   Yes                       3  Same as the national average   \n",
       "2                   Yes                       2    Below the national average   \n",
       "3                   Yes                       2  Same as the national average   \n",
       "4                   Yes                       3  Same as the national average   \n",
       "5                   Yes                       2  Same as the national average   \n",
       "...                 ...                     ...                           ...   \n",
       "4779                Yes                       4  Same as the national average   \n",
       "4780                Yes                       4  Same as the national average   \n",
       "4784                Yes                       4  Same as the national average   \n",
       "4787                Yes                       3  Same as the national average   \n",
       "4793                Yes                       3                 Not Available   \n",
       "\n",
       "     Patient experience national comparison  \\\n",
       "0                Below the national average   \n",
       "2                Below the national average   \n",
       "3              Same as the national average   \n",
       "4                             Not Available   \n",
       "5                Below the national average   \n",
       "...                                     ...   \n",
       "4779             Above the national average   \n",
       "4780             Above the national average   \n",
       "4784             Above the national average   \n",
       "4787             Below the national average   \n",
       "4793             Above the national average   \n",
       "\n",
       "     Effectiveness of care national comparison  \\\n",
       "0                 Same as the national average   \n",
       "2                 Same as the national average   \n",
       "3                   Below the national average   \n",
       "4                 Same as the national average   \n",
       "5                   Below the national average   \n",
       "...                                        ...   \n",
       "4779              Same as the national average   \n",
       "4780              Same as the national average   \n",
       "4784              Same as the national average   \n",
       "4787              Same as the national average   \n",
       "4793              Same as the national average   \n",
       "\n",
       "                                           full_address  \\\n",
       "0                1108 ROSS CLARK CIRCLE DOTHAN AL 36301   \n",
       "2                  205 MARENGO STREET FLORENCE AL 35631   \n",
       "3                            702 N MAIN ST OPP AL 36467   \n",
       "4                  101 HOSPITAL CIRCLE LUVERNE AL 36049   \n",
       "5        50 MEDICAL PARK EAST DRIVE BIRMINGHAM AL 35235   \n",
       "...                                                 ...   \n",
       "4779  850 W CENTRAL TEXAS EXPRESSWAY HARKER HEIGHTS ...   \n",
       "4780      5252 WEST UNIVERSITY DRIVE MC KINNEY TX 75071   \n",
       "4784   700 SCOTT & WHITE DRIVE COLLEGE STATION TX 77845   \n",
       "4787             7502 GREENVILLE AVENUE DALLAS TX 75231   \n",
       "4793         555 CREEKSIDE XING, NEW BRAUNFELS TX 78130   \n",
       "\n",
       "                                      lat_long                 county  \\\n",
       "0     (31.216402000000002, -85.36564064472296)     Houston County, AL   \n",
       "2             (34.7946245, -87.68303582998244)  Lauderdale County, AL   \n",
       "3             (31.2928787, -86.25490030241093)   Covington County, AL   \n",
       "4             (31.6937493, -86.26470160380265)    Crenshaw County, AL   \n",
       "5     (33.595315299999996, -86.66763066940506)   Jefferson County, GA   \n",
       "...                                        ...                    ...   \n",
       "4779         (31.07255555, -97.68263831469964)     Coryell County, TX   \n",
       "4780          (33.2196077, -96.68214955013056)      Kinney County, TX   \n",
       "4784  (30.582118100000002, -96.27948966825502)    Burleson County, TX   \n",
       "4787          (32.8763542, -96.75192719885766)      Dawson County, TX   \n",
       "4793          (29.7205877, -98.06964272347676)        Hays County, TX   \n",
       "\n",
       "      distance_in_miles  \n",
       "0              8.140765  \n",
       "2              7.637646  \n",
       "3             13.809160  \n",
       "4              3.619856  \n",
       "5              9.474224  \n",
       "...                 ...  \n",
       "4779          25.371775  \n",
       "4780           6.012212  \n",
       "4784          24.886731  \n",
       "4787           2.831800  \n",
       "4793           8.617801  \n",
       "\n",
       "[3000 rows x 17 columns]"
      ]
     },
     "execution_count": 149,
     "metadata": {},
     "output_type": "execute_result"
    }
   ],
   "source": [
    "hospitals = hospitals[hospitals['Hospital overall rating']!='Not Available']\n",
    "hospitals"
   ]
  },
  {
   "cell_type": "code",
   "execution_count": 150,
   "metadata": {},
   "outputs": [],
   "source": [
    "hospitals['Hospital overall rating']=hospitals['Hospital overall rating'].astype(int)\n"
   ]
  },
  {
   "cell_type": "code",
   "execution_count": 151,
   "metadata": {},
   "outputs": [],
   "source": [
    "hosp_grouped = hospitals.groupby('county')\n",
    "hospital_mean_rating_by_county = hosp_grouped['Hospital overall rating'].mean()"
   ]
  },
  {
   "cell_type": "code",
   "execution_count": 153,
   "metadata": {},
   "outputs": [
    {
     "data": {
      "text/plain": [
       "Index(['Craven County, NC', 'Dubois County, IN', 'Emmet County, MI',\n",
       "       'Gillespie County, TX', 'Houston County, GA', 'Jackson County, IN',\n",
       "       'La Plata County, CO', 'Lincoln County, SD', 'Madison County, IA',\n",
       "       'Morgan County, GA', 'Newport County, RI', 'Newton County, GA',\n",
       "       'Winston County, AL'],\n",
       "      dtype='object', name='county')"
      ]
     },
     "execution_count": 153,
     "metadata": {},
     "output_type": "execute_result"
    }
   ],
   "source": [
    "#get countys with avg. rating of 5 and avg. rating of 1\n",
    "top_rated_counties = hospital_mean_rating_by_county[hospital_mean_rating_by_county==5.0].index\n",
    "top_rated_counties\n"
   ]
  },
  {
   "cell_type": "code",
   "execution_count": 154,
   "metadata": {},
   "outputs": [],
   "source": [
    "lowest_rated_counties = hospital_mean_rating_by_county[hospital_mean_rating_by_county==1.0].index"
   ]
  },
  {
   "cell_type": "code",
   "execution_count": 155,
   "metadata": {},
   "outputs": [
    {
     "data": {
      "text/plain": [
       "Index(['Banks County, GA', 'Bronx County, NY', 'Irwin County, GA',\n",
       "       'Pittsylvania County, VA', 'Santa Cruz County, AZ', 'Sumner County, KS',\n",
       "       'Sutter County, CA', 'York County, VA'],\n",
       "      dtype='object', name='county')"
      ]
     },
     "execution_count": 155,
     "metadata": {},
     "output_type": "execute_result"
    }
   ],
   "source": [
    "lowest_rated_counties"
   ]
  },
  {
   "cell_type": "code",
   "execution_count": 156,
   "metadata": {},
   "outputs": [],
   "source": [
    "crime_for_highest_rated=[]\n",
    "counties_highest_rated=[]\n",
    "\n",
    "for county in top_rated_counties:\n",
    "    counties_highest_rated.append(county)\n",
    "    crime_for_highest_rated.append(crime_data[crime_data['county_name']==county]['crime_rate_per_100000'].values[0])"
   ]
  },
  {
   "cell_type": "code",
   "execution_count": 157,
   "metadata": {},
   "outputs": [],
   "source": [
    "crime_for_lowest_rated=[]\n",
    "counties_lowest_rated=[]\n",
    "for county in lowest_rated_counties:\n",
    "    counties_lowest_rated.append(county)\n",
    "    crime_for_lowest_rated.append(crime_data[crime_data['county_name']==county]['crime_rate_per_100000'].values[0])"
   ]
  },
  {
   "cell_type": "code",
   "execution_count": 158,
   "metadata": {},
   "outputs": [],
   "source": [
    "avg_crime_for_lowest_rated = sum(crime_for_lowest_rated)/len(crime_for_lowest_rated)\n",
    "avg_crime_for_highest_rated = sum(crime_for_highest_rated)/len(crime_for_highest_rated)"
   ]
  },
  {
   "cell_type": "code",
   "execution_count": 159,
   "metadata": {},
   "outputs": [
    {
     "data": {
      "image/png": "[encoded data removed]",
      "text/plain": [
       "<Figure size 720x504 with 2 Axes>"
      ]
     },
     "metadata": {
      "needs_background": "light"
     },
     "output_type": "display_data"
    }
   ],
   "source": [
    "from matplotlib.pyplot import figure\n",
    "import matplotlib.patches as mpatches\n",
    "\n",
    "width = 0.35\n",
    "font = {'size'   : '13','family' : 'DejaVu Sans','weight' : 'bold'}\n",
    "plt.rc('font', **font)\n",
    "fig, (ax1, ax2) = plt.subplots(1, 2)\n",
    "ax1.bar(counties_highest_rated, crime_for_highest_rated, width)\n",
    "ax1.set_ylabel('Crime Rate Per 100000')\n",
    "ax1.set_xlabel('Counties')\n",
    "ax1.tick_params(axis='x', rotation=45)\n",
    "ax1.set_title('                                           Crime rate for Highest rated (left) and Lowest rated (right) hospital care in counties')\n",
    "ax1.set_ylim([0, 650])\n",
    "ax1.axhline(avg_crime_for_highest_rated, color='red', ls='dotted')\n",
    "\n",
    "\n",
    "\n",
    "\n",
    "ax2.bar(counties_lowest_rated, crime_for_lowest_rated, width)\n",
    "# ax2.set_ylabel('Crime Rate Per 100000')\n",
    "ax2.set_xlabel('Counties')\n",
    "ax2.tick_params(axis='x', rotation=60)\n",
    "# ax2.set_title('Crime rate for Lowest rated hospital care in counties')\n",
    "ax2.set_ylim([0, 650])\n",
    "avg = ax2.axhline(avg_crime_for_lowest_rated, color='red', ls='dotted')\n",
    "plt.rcParams['figure.figsize'] = [10, 7]\n",
    "# plt.legend('avg')\n",
    "font = {'size'   : '8','family' : 'DejaVu Sans'}\n",
    "plt.rc('font', **font)\n",
    "red_patch = mpatches.Patch(color='red', ls='dotted', label='Average Crime')\n",
    "plt.legend(handles=[red_patch], loc='upper right')\n",
    "\n",
    "plt.show()"
   ]
  },
  {
   "cell_type": "markdown",
   "metadata": {},
   "source": [
    "# highest murder rate counties vs. Mortality national comparison\n"
   ]
  },
  {
   "cell_type": "code",
   "execution_count": 174,
   "metadata": {},
   "outputs": [],
   "source": [
    "top_5_murder_counties = list(crime_data.sort_values(['MURDER'], ascending=False)[:5]['county_name'])\n"
   ]
  },
  {
   "cell_type": "code",
   "execution_count": 167,
   "metadata": {},
   "outputs": [
    {
     "data": {
      "text/plain": [
       "['Los Angeles County, CA',\n",
       " 'Cook County, IL',\n",
       " 'Wayne County, MI',\n",
       " 'Philadelphia County, PA',\n",
       " 'Harris County, TX',\n",
       " 'Baltimore city, MD']"
      ]
     },
     "execution_count": 167,
     "metadata": {},
     "output_type": "execute_result"
    }
   ],
   "source": [
    "top_6_counties"
   ]
  },
  {
   "cell_type": "code",
   "execution_count": 162,
   "metadata": {},
   "outputs": [],
   "source": [
    "dict_mortality_options = {\n",
    "    'Not Available':-1,\n",
    "    \"Below the national average\":0,\n",
    "    \"Same as the national average\":1,\n",
    "    \"Above the national average\":2\n",
    "}\n",
    "def Mortality_num_category(mortality_comparision):\n",
    "    return dict_mortality_options[mortality_comparision]\n",
    "\n",
    "hospitals['num_mortality_comparision'] = hospitals['Mortality national comparison'].map(dict_mortality_options)\n"
   ]
  },
  {
   "cell_type": "code",
   "execution_count": 163,
   "metadata": {},
   "outputs": [],
   "source": [
    "hospitals_filtered = hospitals[hospitals['num_mortality_comparision']!=-1]"
   ]
  },
  {
   "cell_type": "code",
   "execution_count": 186,
   "metadata": {},
   "outputs": [],
   "source": [
    "hosp_grouped = hospitals.groupby('county')['num_mortality_comparision'].mean()\n",
    "\n",
    "def get_mortality_avg(county):\n",
    "    return hosp_grouped[county]\n",
    "values = crime_data.sort_values(['MURDER'], ascending=False)[:5]['county_name'].apply(get_mortality_avg)"
   ]
  },
  {
   "cell_type": "code",
   "execution_count": 185,
   "metadata": {},
   "outputs": [
    {
     "data": {
      "image/png": "[encoded data removed]",
      "text/plain": [
       "<Figure size 720x504 with 1 Axes>"
      ]
     },
     "metadata": {
      "needs_background": "light"
     },
     "output_type": "display_data"
    }
   ],
   "source": [
    "width = 0.4\n",
    "font = {'size'   : '13','family' : 'DejaVu Sans','weight' : 'bold'}\n",
    "plt.rc('font', **font)\n",
    "fig,ax1 = plt.subplots(1)\n",
    "ax1.bar(top_5_murder_counties, values, width)\n",
    "ax1.set_ylabel('Avg. Mortality Rate in hospitals Compared to National Average')\n",
    "ax1.set_xlabel('Counties')\n",
    "ax1.tick_params(axis='x', rotation=45)\n",
    "ax1.set_title('Top 5 Highest Murder rate Counties Mortality Rate')\n",
    "ax1.set_ylim([0, 3])\n",
    "font = {'size'   : '8','family' : 'DejaVu Sans'}\n",
    "plt.rc('font', **font)\n",
    "avg = ax1.axhline(1, color='red', ls='dotted')\n",
    "red_patch = mpatches.Patch(color='red', ls='dotted', label='Average mortality Rate')\n",
    "plt.legend(handles=[red_patch], loc='upper right')\n",
    "\n",
    "\n",
    "plt.show()\n"
   ]
  },
  {
   "cell_type": "markdown",
   "metadata": {},
   "source": [
    "## Adam ->>"
   ]
  },
  {
   "cell_type": "code",
   "execution_count": 37,
   "metadata": {},
   "outputs": [],
   "source": [
    "hospitals = hospitals.rename({'county':'county_name'}, axis=1)"
   ]
  },
  {
   "cell_type": "code",
   "execution_count": 38,
   "metadata": {},
   "outputs": [
    {
     "data": {
      "text/html": [
       "<div>\n",
       "<style scoped>\n",
       "    .dataframe tbody tr th:only-of-type {\n",
       "        vertical-align: middle;\n",
       "    }\n",
       "\n",
       "    .dataframe tbody tr th {\n",
       "        vertical-align: top;\n",
       "    }\n",
       "\n",
       "    .dataframe thead th {\n",
       "        text-align: right;\n",
       "    }\n",
       "</style>\n",
       "<table border=\"1\" class=\"dataframe\">\n",
       "  <thead>\n",
       "    <tr style=\"text-align: right;\">\n",
       "      <th></th>\n",
       "      <th>Provider ID</th>\n",
       "      <th>Hospital Name</th>\n",
       "      <th>Address</th>\n",
       "      <th>City</th>\n",
       "      <th>State</th>\n",
       "      <th>ZIP Code</th>\n",
       "      <th>Hospital Type</th>\n",
       "      <th>Hospital Ownership</th>\n",
       "      <th>Emergency Services</th>\n",
       "      <th>Hospital overall rating</th>\n",
       "      <th>Mortality national comparison</th>\n",
       "      <th>Patient experience national comparison</th>\n",
       "      <th>Effectiveness of care national comparison</th>\n",
       "      <th>full_address</th>\n",
       "      <th>lat_long</th>\n",
       "      <th>county_name</th>\n",
       "      <th>distance_in_miles</th>\n",
       "    </tr>\n",
       "  </thead>\n",
       "  <tbody>\n",
       "    <tr>\n",
       "      <th>0</th>\n",
       "      <td>10001</td>\n",
       "      <td>SOUTHEAST ALABAMA MEDICAL CENTER</td>\n",
       "      <td>1108 ROSS CLARK CIRCLE</td>\n",
       "      <td>DOTHAN</td>\n",
       "      <td>AL</td>\n",
       "      <td>36301</td>\n",
       "      <td>Acute Care Hospitals</td>\n",
       "      <td>Government - Hospital District or Authority</td>\n",
       "      <td>Yes</td>\n",
       "      <td>3</td>\n",
       "      <td>Same as the national average</td>\n",
       "      <td>Below the national average</td>\n",
       "      <td>Same as the national average</td>\n",
       "      <td>1108 ROSS CLARK CIRCLE DOTHAN AL 36301</td>\n",
       "      <td>(31.216402000000002, -85.36564064472296)</td>\n",
       "      <td>Houston County, AL</td>\n",
       "      <td>8.140765</td>\n",
       "    </tr>\n",
       "  </tbody>\n",
       "</table>\n",
       "</div>"
      ],
      "text/plain": [
       "   Provider ID                     Hospital Name                 Address  \\\n",
       "0        10001  SOUTHEAST ALABAMA MEDICAL CENTER  1108 ROSS CLARK CIRCLE   \n",
       "\n",
       "     City State  ZIP Code         Hospital Type  \\\n",
       "0  DOTHAN    AL     36301  Acute Care Hospitals   \n",
       "\n",
       "                            Hospital Ownership Emergency Services  \\\n",
       "0  Government - Hospital District or Authority                Yes   \n",
       "\n",
       "  Hospital overall rating Mortality national comparison  \\\n",
       "0                       3  Same as the national average   \n",
       "\n",
       "  Patient experience national comparison  \\\n",
       "0             Below the national average   \n",
       "\n",
       "  Effectiveness of care national comparison  \\\n",
       "0              Same as the national average   \n",
       "\n",
       "                             full_address  \\\n",
       "0  1108 ROSS CLARK CIRCLE DOTHAN AL 36301   \n",
       "\n",
       "                                   lat_long         county_name  \\\n",
       "0  (31.216402000000002, -85.36564064472296)  Houston County, AL   \n",
       "\n",
       "   distance_in_miles  \n",
       "0           8.140765  "
      ]
     },
     "execution_count": 38,
     "metadata": {},
     "output_type": "execute_result"
    }
   ],
   "source": [
    "hospitals.head(1)"
   ]
  },
  {
   "cell_type": "code",
   "execution_count": 39,
   "metadata": {},
   "outputs": [
    {
     "data": {
      "text/html": [
       "<div>\n",
       "<style scoped>\n",
       "    .dataframe tbody tr th:only-of-type {\n",
       "        vertical-align: middle;\n",
       "    }\n",
       "\n",
       "    .dataframe tbody tr th {\n",
       "        vertical-align: top;\n",
       "    }\n",
       "\n",
       "    .dataframe thead th {\n",
       "        text-align: right;\n",
       "    }\n",
       "</style>\n",
       "<table border=\"1\" class=\"dataframe\">\n",
       "  <thead>\n",
       "    <tr style=\"text-align: right;\">\n",
       "      <th></th>\n",
       "      <th>county_name</th>\n",
       "      <th>crime_rate_per_100000</th>\n",
       "      <th>MURDER</th>\n",
       "      <th>RAPE</th>\n",
       "      <th>ROBBERY</th>\n",
       "      <th>AGASSLT</th>\n",
       "      <th>BURGLRY</th>\n",
       "      <th>LARCENY</th>\n",
       "      <th>population</th>\n",
       "      <th>lat_long</th>\n",
       "    </tr>\n",
       "  </thead>\n",
       "  <tbody>\n",
       "    <tr>\n",
       "      <th>0</th>\n",
       "      <td>St. Louis city, MO</td>\n",
       "      <td>1791.995377</td>\n",
       "      <td>119</td>\n",
       "      <td>200</td>\n",
       "      <td>1778</td>\n",
       "      <td>3609</td>\n",
       "      <td>4995</td>\n",
       "      <td>13791</td>\n",
       "      <td>318416</td>\n",
       "      <td>(29.6993748, -91.20677)</td>\n",
       "    </tr>\n",
       "  </tbody>\n",
       "</table>\n",
       "</div>"
      ],
      "text/plain": [
       "          county_name  crime_rate_per_100000  MURDER  RAPE  ROBBERY  AGASSLT  \\\n",
       "0  St. Louis city, MO            1791.995377     119   200     1778     3609   \n",
       "\n",
       "   BURGLRY  LARCENY  population                 lat_long  \n",
       "0     4995    13791      318416  (29.6993748, -91.20677)  "
      ]
     },
     "execution_count": 39,
     "metadata": {},
     "output_type": "execute_result"
    }
   ],
   "source": [
    "crime_data.head(1)"
   ]
  },
  {
   "cell_type": "code",
   "execution_count": 43,
   "metadata": {},
   "outputs": [],
   "source": [
    "hospitals_merged = hospitals.\\\n",
    "merge(crime_data, on='county_name', how='left').drop(['full_address', 'lat_long_x', 'lat_long_y'], axis=1)"
   ]
  },
  {
   "cell_type": "code",
   "execution_count": 51,
   "metadata": {
    "scrolled": false
   },
   "outputs": [
    {
     "data": {
      "text/html": [
       "<div>\n",
       "<style scoped>\n",
       "    .dataframe tbody tr th:only-of-type {\n",
       "        vertical-align: middle;\n",
       "    }\n",
       "\n",
       "    .dataframe tbody tr th {\n",
       "        vertical-align: top;\n",
       "    }\n",
       "\n",
       "    .dataframe thead th {\n",
       "        text-align: right;\n",
       "    }\n",
       "</style>\n",
       "<table border=\"1\" class=\"dataframe\">\n",
       "  <thead>\n",
       "    <tr style=\"text-align: right;\">\n",
       "      <th></th>\n",
       "      <th>Provider ID</th>\n",
       "      <th>Hospital Name</th>\n",
       "      <th>Address</th>\n",
       "      <th>City</th>\n",
       "      <th>State</th>\n",
       "      <th>ZIP Code</th>\n",
       "      <th>Hospital Type</th>\n",
       "      <th>Hospital Ownership</th>\n",
       "      <th>Emergency Services</th>\n",
       "      <th>Hospital overall rating</th>\n",
       "      <th>...</th>\n",
       "      <th>county_name</th>\n",
       "      <th>distance_in_miles</th>\n",
       "      <th>crime_rate_per_100000</th>\n",
       "      <th>MURDER</th>\n",
       "      <th>RAPE</th>\n",
       "      <th>ROBBERY</th>\n",
       "      <th>AGASSLT</th>\n",
       "      <th>BURGLRY</th>\n",
       "      <th>LARCENY</th>\n",
       "      <th>population</th>\n",
       "    </tr>\n",
       "  </thead>\n",
       "  <tbody>\n",
       "    <tr>\n",
       "      <th>0</th>\n",
       "      <td>10001</td>\n",
       "      <td>SOUTHEAST ALABAMA MEDICAL CENTER</td>\n",
       "      <td>1108 ROSS CLARK CIRCLE</td>\n",
       "      <td>DOTHAN</td>\n",
       "      <td>AL</td>\n",
       "      <td>36301</td>\n",
       "      <td>Acute Care Hospitals</td>\n",
       "      <td>Government - Hospital District or Authority</td>\n",
       "      <td>Yes</td>\n",
       "      <td>3</td>\n",
       "      <td>...</td>\n",
       "      <td>Houston County, AL</td>\n",
       "      <td>8.140765</td>\n",
       "      <td>401.281012</td>\n",
       "      <td>7</td>\n",
       "      <td>42</td>\n",
       "      <td>108</td>\n",
       "      <td>259</td>\n",
       "      <td>1095</td>\n",
       "      <td>2380</td>\n",
       "      <td>103668</td>\n",
       "    </tr>\n",
       "  </tbody>\n",
       "</table>\n",
       "<p>1 rows × 23 columns</p>\n",
       "</div>"
      ],
      "text/plain": [
       "   Provider ID                     Hospital Name                 Address  \\\n",
       "0        10001  SOUTHEAST ALABAMA MEDICAL CENTER  1108 ROSS CLARK CIRCLE   \n",
       "\n",
       "     City State  ZIP Code         Hospital Type  \\\n",
       "0  DOTHAN    AL     36301  Acute Care Hospitals   \n",
       "\n",
       "                            Hospital Ownership Emergency Services  \\\n",
       "0  Government - Hospital District or Authority                Yes   \n",
       "\n",
       "  Hospital overall rating  ...         county_name distance_in_miles  \\\n",
       "0                       3  ...  Houston County, AL          8.140765   \n",
       "\n",
       "  crime_rate_per_100000 MURDER  RAPE  ROBBERY  AGASSLT  BURGLRY  LARCENY  \\\n",
       "0            401.281012      7    42      108      259     1095     2380   \n",
       "\n",
       "   population  \n",
       "0      103668  \n",
       "\n",
       "[1 rows x 23 columns]"
      ]
     },
     "execution_count": 51,
     "metadata": {},
     "output_type": "execute_result"
    }
   ],
   "source": [
    "hospitals_merged.head(1)"
   ]
  },
  {
   "cell_type": "code",
   "execution_count": 75,
   "metadata": {},
   "outputs": [
    {
     "data": {
      "text/plain": [
       "Index(['Provider ID', 'Hospital Name', 'Address', 'City', 'State', 'ZIP Code',\n",
       "       'Hospital Type', 'Hospital Ownership', 'Emergency Services',\n",
       "       'Hospital overall rating', 'Mortality national comparison',\n",
       "       'Patient experience national comparison',\n",
       "       'Effectiveness of care national comparison', 'county_name',\n",
       "       'distance_in_miles', 'crime_rate_per_100000', 'MURDER', 'RAPE',\n",
       "       'ROBBERY', 'AGASSLT', 'BURGLRY', 'LARCENY', 'population', 'pop_bin'],\n",
       "      dtype='object')"
      ]
     },
     "execution_count": 75,
     "metadata": {},
     "output_type": "execute_result"
    }
   ],
   "source": [
    "hospitals_merged.columns"
   ]
  },
  {
   "cell_type": "markdown",
   "metadata": {},
   "source": [
    "### Density of distances from hospital to nearest county. ~2/3 are within the county"
   ]
  },
  {
   "cell_type": "code",
   "execution_count": 52,
   "metadata": {},
   "outputs": [
    {
     "data": {
      "text/plain": [
       "<AxesSubplot:ylabel='Density'>"
      ]
     },
     "execution_count": 52,
     "metadata": {},
     "output_type": "execute_result"
    },
    {
     "data": {
      "image/png": "[encoded data removed]",
      "text/plain": [
       "<Figure size 432x288 with 1 Axes>"
      ]
     },
     "metadata": {
      "needs_background": "light"
     },
     "output_type": "display_data"
    }
   ],
   "source": [
    "hospitals_merged.distance_in_miles.plot.density()"
   ]
  },
  {
   "cell_type": "code",
   "execution_count": 53,
   "metadata": {},
   "outputs": [
    {
     "data": {
      "text/plain": [
       "Los Angeles County, CA       69\n",
       "Granite County, MT           27\n",
       "Orange County, CA            21\n",
       "San Bernardino County, CA    18\n",
       "Orange County, VA            18\n",
       "                             ..\n",
       "Jeff Davis County, TX         1\n",
       "Mecosta County, MI            1\n",
       "Hale County, TX               1\n",
       "Smith County, MS              1\n",
       "Geneva County, AL             1\n",
       "Name: county_name, Length: 2030, dtype: int64"
      ]
     },
     "execution_count": 53,
     "metadata": {},
     "output_type": "execute_result"
    }
   ],
   "source": [
    "hospitals_merged.county_name.value_counts()"
   ]
  },
  {
   "cell_type": "code",
   "execution_count": 57,
   "metadata": {},
   "outputs": [
    {
     "data": {
      "text/plain": [
       "448931.4719302743"
      ]
     },
     "execution_count": 57,
     "metadata": {},
     "output_type": "execute_result"
    }
   ],
   "source": [
    "hospitals_merged.population.mean()"
   ]
  },
  {
   "cell_type": "code",
   "execution_count": 58,
   "metadata": {},
   "outputs": [
    {
     "data": {
      "text/plain": [
       "1419338.6763189603"
      ]
     },
     "execution_count": 58,
     "metadata": {},
     "output_type": "execute_result"
    }
   ],
   "source": [
    "hospitals_merged.population.std()"
   ]
  },
  {
   "cell_type": "code",
   "execution_count": 62,
   "metadata": {},
   "outputs": [],
   "source": [
    "hospitals_merged['pop_bin'] = pd.qcut(hospitals_merged['population'], 10)"
   ]
  },
  {
   "cell_type": "code",
   "execution_count": 63,
   "metadata": {},
   "outputs": [
    {
     "data": {
      "text/plain": [
       "0       (88457.0, 161451.0]\n",
       "1       (88457.0, 161451.0]\n",
       "2        (34689.0, 51577.0]\n",
       "3        (13898.0, 21893.0]\n",
       "4        (13898.0, 21893.0]\n",
       "               ...         \n",
       "3896     (13898.0, 21893.0]\n",
       "3897     (21893.0, 34689.0]\n",
       "3898       (89.999, 7828.0]\n",
       "3899     (51577.0, 88457.0]\n",
       "3900     (13898.0, 21893.0]\n",
       "Name: pop_bin, Length: 3901, dtype: category\n",
       "Categories (10, interval[float64]): [(89.999, 7828.0] < (7828.0, 13898.0] < (13898.0, 21893.0] < (21893.0, 34689.0] ... (88457.0, 161451.0] < (161451.0, 361220.0] < (361220.0, 919866.0] < (919866.0, 10017068.0]]"
      ]
     },
     "execution_count": 63,
     "metadata": {},
     "output_type": "execute_result"
    }
   ],
   "source": [
    "hospitals_merged['pop_bin']"
   ]
  },
  {
   "cell_type": "code",
   "execution_count": 74,
   "metadata": {
    "scrolled": true
   },
   "outputs": [
    {
     "name": "stderr",
     "output_type": "stream",
     "text": [
      "/opt/anaconda3/envs/py36/lib/python3.6/site-packages/ipykernel_launcher.py:2: SettingWithCopyWarning: \n",
      "A value is trying to be set on a copy of a slice from a DataFrame.\n",
      "Try using .loc[row_indexer,col_indexer] = value instead\n",
      "\n",
      "See the caveats in the documentation: https://pandas.pydata.org/pandas-docs/stable/user_guide/indexing.html#returning-a-view-versus-a-copy\n",
      "  \n"
     ]
    },
    {
     "data": {
      "text/plain": [
       "pop_bin\n",
       "(89.999, 7828.0]          118.500547\n",
       "(7828.0, 13898.0]         181.498182\n",
       "(13898.0, 21893.0]        217.596108\n",
       "(21893.0, 34689.0]        231.912831\n",
       "(34689.0, 51577.0]        236.672266\n",
       "(51577.0, 88457.0]        250.904169\n",
       "(88457.0, 161451.0]       276.337083\n",
       "(161451.0, 361220.0]      339.359648\n",
       "(361220.0, 919866.0]      473.596985\n",
       "(919866.0, 10017068.0]    498.267222\n",
       "Name: crime_rate_per_100000, dtype: float64"
      ]
     },
     "execution_count": 74,
     "metadata": {},
     "output_type": "execute_result"
    }
   ],
   "source": [
    "no_unrated_hospitals = hospitals_merged[hospitals_merged['Hospital overall rating'] != 'Not Available']\n",
    "no_unrated_hospitals['Hospital overall rating'] = pd.to_numeric(no_unrated_hospitals['Hospital overall rating'])\n",
    "no_unrated_hospitals.groupby('pop_bin')['crime_rate_per_100000'].mean()"
   ]
  },
  {
   "cell_type": "code",
   "execution_count": 65,
   "metadata": {},
   "outputs": [
    {
     "data": {
      "text/plain": [
       "Provider ID                                     int64\n",
       "Hospital Name                                  object\n",
       "Address                                        object\n",
       "City                                           object\n",
       "State                                          object\n",
       "ZIP Code                                        int64\n",
       "Hospital Type                                  object\n",
       "Hospital Ownership                             object\n",
       "Emergency Services                             object\n",
       "Hospital overall rating                        object\n",
       "Mortality national comparison                  object\n",
       "Patient experience national comparison         object\n",
       "Effectiveness of care national comparison      object\n",
       "county_name                                    object\n",
       "distance_in_miles                             float64\n",
       "crime_rate_per_100000                         float64\n",
       "MURDER                                          int64\n",
       "RAPE                                            int64\n",
       "ROBBERY                                         int64\n",
       "AGASSLT                                         int64\n",
       "BURGLRY                                         int64\n",
       "LARCENY                                         int64\n",
       "population                                      int64\n",
       "pop_bin                                      category\n",
       "dtype: object"
      ]
     },
     "execution_count": 65,
     "metadata": {},
     "output_type": "execute_result"
    }
   ],
   "source": []
  },
  {
   "cell_type": "code",
   "execution_count": 68,
   "metadata": {},
   "outputs": [
    {
     "data": {
      "text/plain": [
       "str"
      ]
     },
     "execution_count": 68,
     "metadata": {},
     "output_type": "execute_result"
    }
   ],
   "source": [
    "type(hospitals_merged['Hospital overall rating'].iloc[0])"
   ]
  },
  {
   "cell_type": "code",
   "execution_count": 77,
   "metadata": {},
   "outputs": [
    {
     "data": {
      "text/plain": [
       "Voluntary non-profit - Private                 1677\n",
       "Proprietary                                     628\n",
       "Government - Hospital District or Authority     473\n",
       "Voluntary non-profit - Other                    379\n",
       "Government - Local                              325\n",
       "Voluntary non-profit - Church                   295\n",
       "Physician                                        55\n",
       "Government - State                               45\n",
       "Government - Federal                             20\n",
       "Tribal                                            4\n",
       "Name: Hospital Ownership, dtype: int64"
      ]
     },
     "execution_count": 77,
     "metadata": {},
     "output_type": "execute_result"
    }
   ],
   "source": [
    "hospitals_merged['Hospital Ownership'].value_counts()"
   ]
  },
  {
   "cell_type": "code",
   "execution_count": null,
   "metadata": {},
   "outputs": [],
   "source": []
  },
  {
   "cell_type": "markdown",
   "metadata": {},
   "source": [
    "The analysis of the 2000 UCR crime data for the 1,294 cities with populations over 25,000 revealed a significant positive relationship between crime rate and population size, indicating that the higher populated cities reported the higher crime rates.\n",
    "\n",
    "(Nolan, James J., 'Establishing the statistical relationship between population size and UCR crime rate: Its impact and implications', Journal of Criminal Justice\n",
    "Volume 32, Issue 6, November–December 2004, Pages 547-555, https://www.sciencedirect.com/science/article/pii/S0047235204000832)"
   ]
  },
  {
   "cell_type": "markdown",
   "metadata": {},
   "source": [
    "So there is evidence to show that higher populated areas reported higher crime rates, which is evidenced in our data by grouping counties by population size and examining crime rates:"
   ]
  },
  {
   "cell_type": "code",
   "execution_count": 78,
   "metadata": {},
   "outputs": [
    {
     "name": "stderr",
     "output_type": "stream",
     "text": [
      "/opt/anaconda3/envs/py36/lib/python3.6/site-packages/ipykernel_launcher.py:2: SettingWithCopyWarning: \n",
      "A value is trying to be set on a copy of a slice from a DataFrame.\n",
      "Try using .loc[row_indexer,col_indexer] = value instead\n",
      "\n",
      "See the caveats in the documentation: https://pandas.pydata.org/pandas-docs/stable/user_guide/indexing.html#returning-a-view-versus-a-copy\n",
      "  \n"
     ]
    },
    {
     "data": {
      "text/plain": [
       "pop_bin\n",
       "(89.999, 7828.0]          118.500547\n",
       "(7828.0, 13898.0]         181.498182\n",
       "(13898.0, 21893.0]        217.596108\n",
       "(21893.0, 34689.0]        231.912831\n",
       "(34689.0, 51577.0]        236.672266\n",
       "(51577.0, 88457.0]        250.904169\n",
       "(88457.0, 161451.0]       276.337083\n",
       "(161451.0, 361220.0]      339.359648\n",
       "(361220.0, 919866.0]      473.596985\n",
       "(919866.0, 10017068.0]    498.267222\n",
       "Name: crime_rate_per_100000, dtype: float64"
      ]
     },
     "execution_count": 78,
     "metadata": {},
     "output_type": "execute_result"
    }
   ],
   "source": [
    "no_unrated_hospitals = hospitals_merged[hospitals_merged['Hospital overall rating'] != 'Not Available']\n",
    "no_unrated_hospitals['Hospital overall rating'] = pd.to_numeric(no_unrated_hospitals['Hospital overall rating'])\n",
    "no_unrated_hospitals.groupby('pop_bin')['crime_rate_per_100000'].mean()"
   ]
  },
  {
   "cell_type": "markdown",
   "metadata": {},
   "source": [
    "It seems our data supports this conclusion. But what can county populations tell us about the quality of hospitals? Does crime play a part in the quality of hospitals?"
   ]
  },
  {
   "cell_type": "code",
   "execution_count": 83,
   "metadata": {},
   "outputs": [
    {
     "data": {
      "text/plain": [
       "pop_bin\n",
       "(89.999, 7828.0]          3.125683\n",
       "(7828.0, 13898.0]         3.096154\n",
       "(13898.0, 21893.0]        3.212838\n",
       "(21893.0, 34689.0]        3.193651\n",
       "(34689.0, 51577.0]        3.147910\n",
       "(51577.0, 88457.0]        3.115854\n",
       "(88457.0, 161451.0]       3.143750\n",
       "(161451.0, 361220.0]      3.020349\n",
       "(361220.0, 919866.0]      3.000000\n",
       "(919866.0, 10017068.0]    2.786787\n",
       "Name: Hospital overall rating, dtype: float64"
      ]
     },
     "execution_count": 83,
     "metadata": {},
     "output_type": "execute_result"
    }
   ],
   "source": [
    "no_unrated_hospitals.groupby('pop_bin')['Hospital overall rating'].mean()"
   ]
  },
  {
   "cell_type": "markdown",
   "metadata": {},
   "source": [
    "It would seem that there is not an enormously noticeable difference between different county populations and hospital ratings, though the counties with the largest populations did, on average, seem to have the lowest  hospital ratings. Perhaps we can look to try and find some kind of relationship between crime rates and other crime metrics versus the quality of hospitals."
   ]
  },
  {
   "cell_type": "code",
   "execution_count": 181,
   "metadata": {},
   "outputs": [],
   "source": [
    "hospital_rating_vs_crime = no_unrated_hospitals.groupby('Hospital overall rating')['crime_rate_per_100000'].mean()"
   ]
  },
  {
   "cell_type": "code",
   "execution_count": 182,
   "metadata": {},
   "outputs": [],
   "source": [
    "x = hospital_rating_vs_crime.index\n",
    "y = hospital_rating_vs_crime.values"
   ]
  },
  {
   "cell_type": "code",
   "execution_count": 184,
   "metadata": {},
   "outputs": [
    {
     "data": {
      "text/plain": [
       "([<matplotlib.axis.XTick at 0x7fe1e4f29b38>,\n",
       "  <matplotlib.axis.XTick at 0x7fe1e4f29780>,\n",
       "  <matplotlib.axis.XTick at 0x7fe1e4f29470>,\n",
       "  <matplotlib.axis.XTick at 0x7fe1e4f7b208>,\n",
       "  <matplotlib.axis.XTick at 0x7fe1e4f7b6a0>],\n",
       " [Text(0, 0, ''),\n",
       "  Text(0, 0, ''),\n",
       "  Text(0, 0, ''),\n",
       "  Text(0, 0, ''),\n",
       "  Text(0, 0, '')])"
      ]
     },
     "execution_count": 184,
     "metadata": {},
     "output_type": "execute_result"
    },
    {
     "data": {
      "image/png": "[encoded data removed]",
      "text/plain": [
       "<Figure size 432x288 with 1 Axes>"
      ]
     },
     "metadata": {
      "needs_background": "light"
     },
     "output_type": "display_data"
    }
   ],
   "source": [
    "import numpy as np\n",
    "from sklearn.linear_model import LinearRegression\n",
    "plt.plot(x, y, 'o')\n",
    "m, b = np.polyfit(x, y, 1)\n",
    "plt.plot(x, m*x+b)\n",
    "plt.xticks([1, 2, 3, 4, 5])"
   ]
  },
  {
   "cell_type": "code",
   "execution_count": 110,
   "metadata": {},
   "outputs": [],
   "source": [
    "x_as_np = np.array(x).reshape((-1, 1))\n",
    "y_as_np = np.array(y)"
   ]
  },
  {
   "cell_type": "code",
   "execution_count": 111,
   "metadata": {},
   "outputs": [
    {
     "name": "stdout",
     "output_type": "stream",
     "text": [
      "coefficient of determination: 0.7748650630657178\n"
     ]
    }
   ],
   "source": [
    "model = LinearRegression().fit(x_as_np, y_as_np)\n",
    "r_sq = model.score(x_as_np, y_as_np)\n",
    "print('coefficient of determination:', r_sq)"
   ]
  },
  {
   "cell_type": "code",
   "execution_count": null,
   "metadata": {},
   "outputs": [],
   "source": [
    "hospital_rating_vs_crime = no_unrated_hospitals.groupby('Hospital overall rating')['crime_rate_per_100000'].mean()"
   ]
  },
  {
   "cell_type": "code",
   "execution_count": 185,
   "metadata": {},
   "outputs": [
    {
     "name": "stderr",
     "output_type": "stream",
     "text": [
      "/opt/anaconda3/envs/py36/lib/python3.6/site-packages/ipykernel_launcher.py:1: SettingWithCopyWarning: \n",
      "A value is trying to be set on a copy of a slice from a DataFrame.\n",
      "Try using .loc[row_indexer,col_indexer] = value instead\n",
      "\n",
      "See the caveats in the documentation: https://pandas.pydata.org/pandas-docs/stable/user_guide/indexing.html#returning-a-view-versus-a-copy\n",
      "  \"\"\"Entry point for launching an IPython kernel.\n"
     ]
    }
   ],
   "source": [
    "no_unrated_hospitals['crime_rate_bin'] = pd.qcut(no_unrated_hospitals['crime_rate_per_100000'], 10)"
   ]
  },
  {
   "cell_type": "code",
   "execution_count": 186,
   "metadata": {},
   "outputs": [],
   "source": [
    "crime_vs_hospital_rating = no_unrated_hospitals.groupby('crime_rate_bin')['Hospital overall rating'].mean()"
   ]
  },
  {
   "cell_type": "code",
   "execution_count": 187,
   "metadata": {
    "scrolled": true
   },
   "outputs": [
    {
     "data": {
      "text/plain": [
       "crime_rate_bin\n",
       "(-0.001, 63.709]       3.203333\n",
       "(63.709, 108.947]      3.256667\n",
       "(108.947, 150.425]     3.120000\n",
       "(150.425, 192.612]     3.243333\n",
       "(192.612, 239.653]     3.123333\n",
       "(239.653, 298.366]     3.120000\n",
       "(298.366, 374.904]     2.990066\n",
       "(374.904, 444.801]     2.971609\n",
       "(444.801, 583.327]     2.946996\n",
       "(583.327, 1791.995]    2.815436\n",
       "Name: Hospital overall rating, dtype: float64"
      ]
     },
     "execution_count": 187,
     "metadata": {},
     "output_type": "execute_result"
    }
   ],
   "source": [
    "crime_vs_hospital_rating"
   ]
  },
  {
   "cell_type": "code",
   "execution_count": 188,
   "metadata": {},
   "outputs": [],
   "source": [
    "x = crime_vs_hospital_rating.index\n",
    "y = crime_vs_hospital_rating.values"
   ]
  },
  {
   "cell_type": "code",
   "execution_count": 189,
   "metadata": {},
   "outputs": [],
   "source": [
    "x = x.astype(str)"
   ]
  },
  {
   "cell_type": "code",
   "execution_count": 190,
   "metadata": {},
   "outputs": [
    {
     "data": {
      "text/plain": [
       "array([ 1,  2,  3,  4,  5,  6,  7,  8,  9, 10])"
      ]
     },
     "execution_count": 190,
     "metadata": {},
     "output_type": "execute_result"
    }
   ],
   "source": [
    "idex = np.asarray([i+1 for i in range(len(x))])\n",
    "idex"
   ]
  },
  {
   "cell_type": "code",
   "execution_count": 192,
   "metadata": {
    "scrolled": true
   },
   "outputs": [
    {
     "data": {
      "text/plain": [
       "([<matplotlib.axis.YTick at 0x7fe1e58e9fd0>,\n",
       "  <matplotlib.axis.YTick at 0x7fe1e58e97f0>,\n",
       "  <matplotlib.axis.YTick at 0x7fe1e586b5f8>,\n",
       "  <matplotlib.axis.YTick at 0x7fe1e5926630>,\n",
       "  <matplotlib.axis.YTick at 0x7fe1e5926ac8>],\n",
       " [Text(0, 0, ''),\n",
       "  Text(0, 0, ''),\n",
       "  Text(0, 0, ''),\n",
       "  Text(0, 0, ''),\n",
       "  Text(0, 0, '')])"
      ]
     },
     "execution_count": 192,
     "metadata": {},
     "output_type": "execute_result"
    },
    {
     "data": {
      "image/png": "[encoded data removed]",
      "text/plain": [
       "<Figure size 432x288 with 1 Axes>"
      ]
     },
     "metadata": {
      "needs_background": "light"
     },
     "output_type": "display_data"
    }
   ],
   "source": [
    "plt.plot(idex, y, 'o')\n",
    "m, b = np.polyfit(idex, y, 1)\n",
    "plt.plot(idex, m*idex+b)\n",
    "plt.xticks(idex)\n",
    "plt.xticks(np.arange(10), x,\n",
    "       rotation=45)  # Set text labels and properties.\n",
    "plt.yticks([1, 2, 3, 4, 5])"
   ]
  },
  {
   "cell_type": "code",
   "execution_count": 193,
   "metadata": {},
   "outputs": [
    {
     "data": {
      "text/plain": [
       "([<matplotlib.axis.YTick at 0x7fe1e5942cf8>,\n",
       "  <matplotlib.axis.YTick at 0x7fe1e5942c88>,\n",
       "  <matplotlib.axis.YTick at 0x7fe1e593c390>],\n",
       " [Text(0, 0, ''), Text(0, 0, ''), Text(0, 0, '')])"
      ]
     },
     "execution_count": 193,
     "metadata": {},
     "output_type": "execute_result"
    },
    {
     "data": {
      "image/png": "[encoded data removed]",
      "text/plain": [
       "<Figure size 432x288 with 1 Axes>"
      ]
     },
     "metadata": {
      "needs_background": "light"
     },
     "output_type": "display_data"
    }
   ],
   "source": [
    "plt.plot(idex, y, 'o')\n",
    "m, b = np.polyfit(idex, y, 1)\n",
    "plt.plot(idex, m*idex+b)\n",
    "plt.xticks(idex)\n",
    "plt.xticks(np.arange(10), x,\n",
    "       rotation=45)  # Set text labels and properties.\n",
    "plt.yticks([2.5, 3, 3.5])"
   ]
  },
  {
   "cell_type": "code",
   "execution_count": 194,
   "metadata": {},
   "outputs": [],
   "source": [
    "x_as_np = np.array(idex).reshape((-1, 1))\n",
    "y_as_np = np.array(y)"
   ]
  },
  {
   "cell_type": "code",
   "execution_count": 195,
   "metadata": {},
   "outputs": [
    {
     "name": "stdout",
     "output_type": "stream",
     "text": [
      "coefficient of determination: 0.8375126921639457\n"
     ]
    }
   ],
   "source": [
    "model = LinearRegression().fit(x_as_np, y_as_np)\n",
    "r_sq = model.score(x_as_np, y_as_np)\n",
    "print('coefficient of determination:', r_sq)"
   ]
  },
  {
   "cell_type": "markdown",
   "metadata": {},
   "source": [
    "The R-Squared coefficient of determination measures the proportion of variation in the dependent variable that can be attributed to the independent variable. In this instance, ~83% of the variation in hospital rating seemingly can be attributed to crime rates. But this is misleading: we already know crime rates increase with population size and that hospital rating decreases with increasing population size, so it could be possible that population size is a confounding variable which makes it hard to verify that hospital rating and crime rates are directly related."
   ]
  },
  {
   "cell_type": "markdown",
   "metadata": {},
   "source": [
    "What if we tried to control for population size?"
   ]
  },
  {
   "cell_type": "code",
   "execution_count": 523,
   "metadata": {
    "scrolled": false
   },
   "outputs": [
    {
     "name": "stderr",
     "output_type": "stream",
     "text": [
      "/opt/anaconda3/envs/py36/lib/python3.6/site-packages/ipykernel_launcher.py:1: SettingWithCopyWarning: \n",
      "A value is trying to be set on a copy of a slice from a DataFrame.\n",
      "Try using .loc[row_indexer,col_indexer] = value instead\n",
      "\n",
      "See the caveats in the documentation: https://pandas.pydata.org/pandas-docs/stable/user_guide/indexing.html#returning-a-view-versus-a-copy\n",
      "  \"\"\"Entry point for launching an IPython kernel.\n"
     ]
    },
    {
     "data": {
      "text/plain": [
       "0        (81174.0, 110079.2]\n",
       "1        (81174.0, 110079.2]\n",
       "2         (34689.0, 41665.2]\n",
       "3         (10790.5, 14055.9]\n",
       "4         (14055.9, 17713.0]\n",
       "                ...         \n",
       "3883      (63620.0, 81174.0]\n",
       "3884        (94.999, 6401.8]\n",
       "3887      (14055.9, 17713.0]\n",
       "3889      (10790.5, 14055.9]\n",
       "3892    (147590.4, 194020.0]\n",
       "Name: pop_bin, Length: 3000, dtype: category\n",
       "Categories (20, interval[float64]): [(94.999, 6401.8] < (6401.8, 10790.5] < (10790.5, 14055.9] < (14055.9, 17713.0] ... (413632.6, 687802.0] < (687802.0, 970264.7] < (970264.7, 2088371.0] < (2088371.0, 10017068.0]]"
      ]
     },
     "execution_count": 523,
     "metadata": {},
     "output_type": "execute_result"
    }
   ],
   "source": [
    "no_unrated_hospitals['pop_bin'] = pd.qcut(no_unrated_hospitals['population'], 20)\n",
    "no_unrated_hospitals['pop_bin']"
   ]
  },
  {
   "cell_type": "code",
   "execution_count": 524,
   "metadata": {},
   "outputs": [],
   "source": [
    "import scipy.stats as st"
   ]
  },
  {
   "cell_type": "code",
   "execution_count": 526,
   "metadata": {},
   "outputs": [],
   "source": [
    "def confidence_interval(sample):\n",
    "    if type(sample) != list:\n",
    "        return np.nan\n",
    "    elif len(sample) < 5:\n",
    "        return np.nan\n",
    "    elif len(sample) < 30:\n",
    "        return st.t.interval(alpha=0.95, df=len(sample)-1, loc=np.mean(sample), scale=st.sem(sample))\n",
    "    else:\n",
    "        return st.norm.interval(alpha=0.95, loc=np.mean(sample), scale=st.sem(sample))"
   ]
  },
  {
   "cell_type": "code",
   "execution_count": 527,
   "metadata": {
    "scrolled": true
   },
   "outputs": [
    {
     "data": {
      "text/plain": [
       "0       401.281012\n",
       "1       262.939535\n",
       "2       258.670749\n",
       "3       479.050479\n",
       "4       306.372549\n",
       "           ...    \n",
       "3883    185.058799\n",
       "3884      0.000000\n",
       "3887    139.786825\n",
       "3889    188.269370\n",
       "3892    201.674753\n",
       "Name: crime_rate_per_100000, Length: 3000, dtype: float64"
      ]
     },
     "execution_count": 527,
     "metadata": {},
     "output_type": "execute_result"
    }
   ],
   "source": [
    "no_unrated_hospitals['crime_rate_per_100000']"
   ]
  },
  {
   "cell_type": "code",
   "execution_count": 529,
   "metadata": {},
   "outputs": [],
   "source": [
    "grouped_by_pop_and_hospital_rating = \\\n",
    "no_unrated_hospitals.groupby(['pop_bin', 'Hospital overall rating']) \\\n",
    "['crime_rate_per_100000'].agg(lambda x : confidence_interval(x.tolist()))"
   ]
  },
  {
   "cell_type": "code",
   "execution_count": 530,
   "metadata": {},
   "outputs": [
    {
     "data": {
      "text/plain": [
       "pop_bin                  Hospital overall rating\n",
       "(94.999, 6401.8]         1                                                               NaN\n",
       "                         2                           (50.95317049937865, 141.49972278157372)\n",
       "                         3                           (62.93855022622761, 118.73775952351599)\n",
       "                         4                           (61.95672024534626, 134.48543491365376)\n",
       "                         5                           (27.75232376828552, 170.60293931171447)\n",
       "                                                                      ...                   \n",
       "(2088371.0, 10017068.0]  1                            (490.8451768447728, 670.4010799734087)\n",
       "                         2                          (402.36264273946256, 486.59780378275957)\n",
       "                         3                           (436.73456020708227, 498.9681587595842)\n",
       "                         4                            (386.3216316450688, 467.0192442652759)\n",
       "                         5                                                               NaN\n",
       "Name: crime_rate_per_100000, Length: 100, dtype: object"
      ]
     },
     "execution_count": 530,
     "metadata": {},
     "output_type": "execute_result"
    }
   ],
   "source": [
    "grouped_by_pop_and_hospital_rating"
   ]
  },
  {
   "cell_type": "code",
   "execution_count": 531,
   "metadata": {},
   "outputs": [
    {
     "data": {
      "text/plain": [
       "pop_bin                  Hospital overall rating\n",
       "(94.999, 6401.8]         1                                                               NaN\n",
       "                         2                           (50.95317049937865, 141.49972278157372)\n",
       "                         3                           (62.93855022622761, 118.73775952351599)\n",
       "                         4                           (61.95672024534626, 134.48543491365376)\n",
       "                         5                           (27.75232376828552, 170.60293931171447)\n",
       "                                                                      ...                   \n",
       "(2088371.0, 10017068.0]  1                            (490.8451768447728, 670.4010799734087)\n",
       "                         2                          (402.36264273946256, 486.59780378275957)\n",
       "                         3                           (436.73456020708227, 498.9681587595842)\n",
       "                         4                            (386.3216316450688, 467.0192442652759)\n",
       "                         5                                                               NaN\n",
       "Name: crime_rate_per_100000, Length: 100, dtype: object"
      ]
     },
     "execution_count": 531,
     "metadata": {},
     "output_type": "execute_result"
    }
   ],
   "source": [
    "grouped_by_pop_and_hospital_rating"
   ]
  },
  {
   "cell_type": "code",
   "execution_count": 532,
   "metadata": {},
   "outputs": [
    {
     "data": {
      "text/plain": [
       "pop_bin                  Hospital overall rating\n",
       "(94.999, 6401.8]         1                           4\n",
       "                         2                          21\n",
       "                         3                          78\n",
       "                         4                          40\n",
       "                         5                           7\n",
       "                                                    ..\n",
       "(2088371.0, 10017068.0]  1                          11\n",
       "                         2                          36\n",
       "                         3                          60\n",
       "                         4                          29\n",
       "                         5                           2\n",
       "Name: crime_rate_per_100000, Length: 100, dtype: int64"
      ]
     },
     "execution_count": 532,
     "metadata": {},
     "output_type": "execute_result"
    }
   ],
   "source": [
    "no_unrated_hospitals.groupby(['pop_bin', 'Hospital overall rating']) \\\n",
    "['crime_rate_per_100000'].count()"
   ]
  },
  {
   "cell_type": "code",
   "execution_count": 537,
   "metadata": {},
   "outputs": [],
   "source": [
    "grouped_by_pop_and_hospital_rating = \\\n",
    "no_unrated_hospitals.groupby(['pop_bin', 'Hospital overall rating']) \\\n",
    "['crime_rate_per_100000'].agg('mean').unstack(level=0)"
   ]
  },
  {
   "cell_type": "code",
   "execution_count": 538,
   "metadata": {},
   "outputs": [
    {
     "data": {
      "text/html": [
       "<div>\n",
       "<style scoped>\n",
       "    .dataframe tbody tr th:only-of-type {\n",
       "        vertical-align: middle;\n",
       "    }\n",
       "\n",
       "    .dataframe tbody tr th {\n",
       "        vertical-align: top;\n",
       "    }\n",
       "\n",
       "    .dataframe thead th {\n",
       "        text-align: right;\n",
       "    }\n",
       "</style>\n",
       "<table border=\"1\" class=\"dataframe\">\n",
       "  <thead>\n",
       "    <tr style=\"text-align: right;\">\n",
       "      <th>pop_bin</th>\n",
       "      <th>(94.999, 6401.8]</th>\n",
       "      <th>(6401.8, 10790.5]</th>\n",
       "      <th>(10790.5, 14055.9]</th>\n",
       "      <th>(14055.9, 17713.0]</th>\n",
       "      <th>(17713.0, 22449.25]</th>\n",
       "      <th>(22449.25, 27887.2]</th>\n",
       "      <th>(27887.2, 34689.0]</th>\n",
       "      <th>(34689.0, 41665.2]</th>\n",
       "      <th>(41665.2, 49873.2]</th>\n",
       "      <th>(49873.2, 63620.0]</th>\n",
       "      <th>(63620.0, 81174.0]</th>\n",
       "      <th>(81174.0, 110079.2]</th>\n",
       "      <th>(110079.2, 147590.4]</th>\n",
       "      <th>(147590.4, 194020.0]</th>\n",
       "      <th>(194020.0, 270937.0]</th>\n",
       "      <th>(270937.0, 413632.6]</th>\n",
       "      <th>(413632.6, 687802.0]</th>\n",
       "      <th>(687802.0, 970264.7]</th>\n",
       "      <th>(970264.7, 2088371.0]</th>\n",
       "      <th>(2088371.0, 10017068.0]</th>\n",
       "    </tr>\n",
       "    <tr>\n",
       "      <th>Hospital overall rating</th>\n",
       "      <th></th>\n",
       "      <th></th>\n",
       "      <th></th>\n",
       "      <th></th>\n",
       "      <th></th>\n",
       "      <th></th>\n",
       "      <th></th>\n",
       "      <th></th>\n",
       "      <th></th>\n",
       "      <th></th>\n",
       "      <th></th>\n",
       "      <th></th>\n",
       "      <th></th>\n",
       "      <th></th>\n",
       "      <th></th>\n",
       "      <th></th>\n",
       "      <th></th>\n",
       "      <th></th>\n",
       "      <th></th>\n",
       "      <th></th>\n",
       "    </tr>\n",
       "  </thead>\n",
       "  <tbody>\n",
       "    <tr>\n",
       "      <th>1</th>\n",
       "      <td>102.599179</td>\n",
       "      <td>156.376392</td>\n",
       "      <td>71.556351</td>\n",
       "      <td>230.205367</td>\n",
       "      <td>187.123303</td>\n",
       "      <td>254.334280</td>\n",
       "      <td>NaN</td>\n",
       "      <td>NaN</td>\n",
       "      <td>182.032159</td>\n",
       "      <td>180.907640</td>\n",
       "      <td>167.157580</td>\n",
       "      <td>387.974854</td>\n",
       "      <td>206.134140</td>\n",
       "      <td>230.438358</td>\n",
       "      <td>363.291500</td>\n",
       "      <td>585.783354</td>\n",
       "      <td>850.080680</td>\n",
       "      <td>569.348735</td>\n",
       "      <td>618.439233</td>\n",
       "      <td>580.623128</td>\n",
       "    </tr>\n",
       "    <tr>\n",
       "      <th>2</th>\n",
       "      <td>96.226447</td>\n",
       "      <td>191.926925</td>\n",
       "      <td>158.057816</td>\n",
       "      <td>206.442535</td>\n",
       "      <td>301.922419</td>\n",
       "      <td>403.756885</td>\n",
       "      <td>251.978560</td>\n",
       "      <td>315.975128</td>\n",
       "      <td>249.919965</td>\n",
       "      <td>284.277816</td>\n",
       "      <td>335.366917</td>\n",
       "      <td>263.379617</td>\n",
       "      <td>275.911174</td>\n",
       "      <td>326.404943</td>\n",
       "      <td>363.765486</td>\n",
       "      <td>415.813923</td>\n",
       "      <td>500.958664</td>\n",
       "      <td>553.980471</td>\n",
       "      <td>484.009921</td>\n",
       "      <td>444.480223</td>\n",
       "    </tr>\n",
       "    <tr>\n",
       "      <th>3</th>\n",
       "      <td>90.838155</td>\n",
       "      <td>193.092094</td>\n",
       "      <td>211.870314</td>\n",
       "      <td>169.387297</td>\n",
       "      <td>261.431114</td>\n",
       "      <td>262.484424</td>\n",
       "      <td>214.250684</td>\n",
       "      <td>269.087879</td>\n",
       "      <td>235.676633</td>\n",
       "      <td>265.894046</td>\n",
       "      <td>264.790707</td>\n",
       "      <td>280.792058</td>\n",
       "      <td>279.730371</td>\n",
       "      <td>272.589562</td>\n",
       "      <td>352.077342</td>\n",
       "      <td>431.329916</td>\n",
       "      <td>411.478919</td>\n",
       "      <td>505.446774</td>\n",
       "      <td>469.484938</td>\n",
       "      <td>467.851359</td>\n",
       "    </tr>\n",
       "    <tr>\n",
       "      <th>4</th>\n",
       "      <td>98.221078</td>\n",
       "      <td>147.588230</td>\n",
       "      <td>198.660120</td>\n",
       "      <td>195.187698</td>\n",
       "      <td>216.289231</td>\n",
       "      <td>193.155618</td>\n",
       "      <td>169.721641</td>\n",
       "      <td>171.637743</td>\n",
       "      <td>192.221920</td>\n",
       "      <td>183.868174</td>\n",
       "      <td>229.824954</td>\n",
       "      <td>237.137806</td>\n",
       "      <td>234.031829</td>\n",
       "      <td>293.299067</td>\n",
       "      <td>304.899770</td>\n",
       "      <td>345.191006</td>\n",
       "      <td>449.052650</td>\n",
       "      <td>576.893348</td>\n",
       "      <td>515.145335</td>\n",
       "      <td>426.670438</td>\n",
       "    </tr>\n",
       "    <tr>\n",
       "      <th>5</th>\n",
       "      <td>99.177632</td>\n",
       "      <td>99.488575</td>\n",
       "      <td>203.166361</td>\n",
       "      <td>38.839979</td>\n",
       "      <td>272.000899</td>\n",
       "      <td>225.803114</td>\n",
       "      <td>210.678271</td>\n",
       "      <td>NaN</td>\n",
       "      <td>232.166351</td>\n",
       "      <td>188.130273</td>\n",
       "      <td>NaN</td>\n",
       "      <td>232.313638</td>\n",
       "      <td>344.543816</td>\n",
       "      <td>410.009157</td>\n",
       "      <td>443.602085</td>\n",
       "      <td>378.273035</td>\n",
       "      <td>395.532454</td>\n",
       "      <td>559.056971</td>\n",
       "      <td>396.610574</td>\n",
       "      <td>537.598508</td>\n",
       "    </tr>\n",
       "  </tbody>\n",
       "</table>\n",
       "</div>"
      ],
      "text/plain": [
       "pop_bin                  (94.999, 6401.8]  (6401.8, 10790.5]  \\\n",
       "Hospital overall rating                                        \n",
       "1                              102.599179         156.376392   \n",
       "2                               96.226447         191.926925   \n",
       "3                               90.838155         193.092094   \n",
       "4                               98.221078         147.588230   \n",
       "5                               99.177632          99.488575   \n",
       "\n",
       "pop_bin                  (10790.5, 14055.9]  (14055.9, 17713.0]  \\\n",
       "Hospital overall rating                                           \n",
       "1                                 71.556351          230.205367   \n",
       "2                                158.057816          206.442535   \n",
       "3                                211.870314          169.387297   \n",
       "4                                198.660120          195.187698   \n",
       "5                                203.166361           38.839979   \n",
       "\n",
       "pop_bin                  (17713.0, 22449.25]  (22449.25, 27887.2]  \\\n",
       "Hospital overall rating                                             \n",
       "1                                 187.123303           254.334280   \n",
       "2                                 301.922419           403.756885   \n",
       "3                                 261.431114           262.484424   \n",
       "4                                 216.289231           193.155618   \n",
       "5                                 272.000899           225.803114   \n",
       "\n",
       "pop_bin                  (27887.2, 34689.0]  (34689.0, 41665.2]  \\\n",
       "Hospital overall rating                                           \n",
       "1                                       NaN                 NaN   \n",
       "2                                251.978560          315.975128   \n",
       "3                                214.250684          269.087879   \n",
       "4                                169.721641          171.637743   \n",
       "5                                210.678271                 NaN   \n",
       "\n",
       "pop_bin                  (41665.2, 49873.2]  (49873.2, 63620.0]  \\\n",
       "Hospital overall rating                                           \n",
       "1                                182.032159          180.907640   \n",
       "2                                249.919965          284.277816   \n",
       "3                                235.676633          265.894046   \n",
       "4                                192.221920          183.868174   \n",
       "5                                232.166351          188.130273   \n",
       "\n",
       "pop_bin                  (63620.0, 81174.0]  (81174.0, 110079.2]  \\\n",
       "Hospital overall rating                                            \n",
       "1                                167.157580           387.974854   \n",
       "2                                335.366917           263.379617   \n",
       "3                                264.790707           280.792058   \n",
       "4                                229.824954           237.137806   \n",
       "5                                       NaN           232.313638   \n",
       "\n",
       "pop_bin                  (110079.2, 147590.4]  (147590.4, 194020.0]  \\\n",
       "Hospital overall rating                                               \n",
       "1                                  206.134140            230.438358   \n",
       "2                                  275.911174            326.404943   \n",
       "3                                  279.730371            272.589562   \n",
       "4                                  234.031829            293.299067   \n",
       "5                                  344.543816            410.009157   \n",
       "\n",
       "pop_bin                  (194020.0, 270937.0]  (270937.0, 413632.6]  \\\n",
       "Hospital overall rating                                               \n",
       "1                                  363.291500            585.783354   \n",
       "2                                  363.765486            415.813923   \n",
       "3                                  352.077342            431.329916   \n",
       "4                                  304.899770            345.191006   \n",
       "5                                  443.602085            378.273035   \n",
       "\n",
       "pop_bin                  (413632.6, 687802.0]  (687802.0, 970264.7]  \\\n",
       "Hospital overall rating                                               \n",
       "1                                  850.080680            569.348735   \n",
       "2                                  500.958664            553.980471   \n",
       "3                                  411.478919            505.446774   \n",
       "4                                  449.052650            576.893348   \n",
       "5                                  395.532454            559.056971   \n",
       "\n",
       "pop_bin                  (970264.7, 2088371.0]  (2088371.0, 10017068.0]  \n",
       "Hospital overall rating                                                  \n",
       "1                                   618.439233               580.623128  \n",
       "2                                   484.009921               444.480223  \n",
       "3                                   469.484938               467.851359  \n",
       "4                                   515.145335               426.670438  \n",
       "5                                   396.610574               537.598508  "
      ]
     },
     "execution_count": 538,
     "metadata": {},
     "output_type": "execute_result"
    }
   ],
   "source": [
    "df = grouped_by_pop_and_hospital_rating.copy()\n",
    "df"
   ]
  },
  {
   "cell_type": "code",
   "execution_count": 539,
   "metadata": {},
   "outputs": [],
   "source": [
    "for column in grouped_by_pop_and_hospital_rating.columns:\n",
    "    df[column] = (df[column]-df[column].mean())/df[column].std()"
   ]
  },
  {
   "cell_type": "code",
   "execution_count": 543,
   "metadata": {
    "scrolled": false
   },
   "outputs": [
    {
     "data": {
      "text/html": [
       "<div>\n",
       "<style scoped>\n",
       "    .dataframe tbody tr th:only-of-type {\n",
       "        vertical-align: middle;\n",
       "    }\n",
       "\n",
       "    .dataframe tbody tr th {\n",
       "        vertical-align: top;\n",
       "    }\n",
       "\n",
       "    .dataframe thead th {\n",
       "        text-align: right;\n",
       "    }\n",
       "</style>\n",
       "<table border=\"1\" class=\"dataframe\">\n",
       "  <thead>\n",
       "    <tr style=\"text-align: right;\">\n",
       "      <th>pop_bin</th>\n",
       "      <th>(94.999, 6401.8]</th>\n",
       "      <th>(6401.8, 10790.5]</th>\n",
       "      <th>(10790.5, 14055.9]</th>\n",
       "      <th>(14055.9, 17713.0]</th>\n",
       "      <th>(17713.0, 22449.25]</th>\n",
       "      <th>(22449.25, 27887.2]</th>\n",
       "      <th>(27887.2, 34689.0]</th>\n",
       "      <th>(34689.0, 41665.2]</th>\n",
       "      <th>(41665.2, 49873.2]</th>\n",
       "      <th>(49873.2, 63620.0]</th>\n",
       "      <th>(63620.0, 81174.0]</th>\n",
       "      <th>(81174.0, 110079.2]</th>\n",
       "      <th>(110079.2, 147590.4]</th>\n",
       "      <th>(147590.4, 194020.0]</th>\n",
       "      <th>(194020.0, 270937.0]</th>\n",
       "      <th>(270937.0, 413632.6]</th>\n",
       "      <th>(413632.6, 687802.0]</th>\n",
       "      <th>(687802.0, 970264.7]</th>\n",
       "      <th>(970264.7, 2088371.0]</th>\n",
       "      <th>(2088371.0, 10017068.0]</th>\n",
       "    </tr>\n",
       "    <tr>\n",
       "      <th>Hospital overall rating</th>\n",
       "      <th></th>\n",
       "      <th></th>\n",
       "      <th></th>\n",
       "      <th></th>\n",
       "      <th></th>\n",
       "      <th></th>\n",
       "      <th></th>\n",
       "      <th></th>\n",
       "      <th></th>\n",
       "      <th></th>\n",
       "      <th></th>\n",
       "      <th></th>\n",
       "      <th></th>\n",
       "      <th></th>\n",
       "      <th></th>\n",
       "      <th></th>\n",
       "      <th></th>\n",
       "      <th></th>\n",
       "      <th></th>\n",
       "      <th></th>\n",
       "    </tr>\n",
       "  </thead>\n",
       "  <tbody>\n",
       "    <tr>\n",
       "      <th>1</th>\n",
       "      <td>1.195425</td>\n",
       "      <td>-0.034271</td>\n",
       "      <td>-1.671548</td>\n",
       "      <td>0.824293</td>\n",
       "      <td>-1.325006</td>\n",
       "      <td>-0.168252</td>\n",
       "      <td>NaN</td>\n",
       "      <td>NaN</td>\n",
       "      <td>-1.231436</td>\n",
       "      <td>-0.790789</td>\n",
       "      <td>-1.170302</td>\n",
       "      <td>1.699733</td>\n",
       "      <td>-1.178916</td>\n",
       "      <td>-1.127711</td>\n",
       "      <td>-0.044804</td>\n",
       "      <td>1.667732</td>\n",
       "      <td>1.746757</td>\n",
       "      <td>0.585734</td>\n",
       "      <td>1.507194</td>\n",
       "      <td>1.366288</td>\n",
       "    </tr>\n",
       "    <tr>\n",
       "      <th>2</th>\n",
       "      <td>-0.273361</td>\n",
       "      <td>0.890083</td>\n",
       "      <td>-0.182540</td>\n",
       "      <td>0.509344</td>\n",
       "      <td>1.183806</td>\n",
       "      <td>1.684063</td>\n",
       "      <td>1.199116</td>\n",
       "      <td>0.865701</td>\n",
       "      <td>1.067069</td>\n",
       "      <td>1.267842</td>\n",
       "      <td>1.226652</td>\n",
       "      <td>-0.267460</td>\n",
       "      <td>0.149247</td>\n",
       "      <td>0.294215</td>\n",
       "      <td>-0.035305</td>\n",
       "      <td>-0.166922</td>\n",
       "      <td>-0.108751</td>\n",
       "      <td>0.036965</td>\n",
       "      <td>-0.157629</td>\n",
       "      <td>-0.719536</td>\n",
       "    </tr>\n",
       "    <tr>\n",
       "      <th>3</th>\n",
       "      <td>-1.515253</td>\n",
       "      <td>0.920378</td>\n",
       "      <td>0.743770</td>\n",
       "      <td>0.018220</td>\n",
       "      <td>0.298912</td>\n",
       "      <td>-0.067219</td>\n",
       "      <td>0.077125</td>\n",
       "      <td>0.228905</td>\n",
       "      <td>0.584827</td>\n",
       "      <td>0.901727</td>\n",
       "      <td>0.220953</td>\n",
       "      <td>0.007460</td>\n",
       "      <td>0.221943</td>\n",
       "      <td>-0.503162</td>\n",
       "      <td>-0.269532</td>\n",
       "      <td>0.000558</td>\n",
       "      <td>-0.584317</td>\n",
       "      <td>-1.696073</td>\n",
       "      <td>-0.337512</td>\n",
       "      <td>-0.361470</td>\n",
       "    </tr>\n",
       "    <tr>\n",
       "      <th>4</th>\n",
       "      <td>0.186361</td>\n",
       "      <td>-0.262773</td>\n",
       "      <td>0.516375</td>\n",
       "      <td>0.360174</td>\n",
       "      <td>-0.687616</td>\n",
       "      <td>-0.926653</td>\n",
       "      <td>-1.247126</td>\n",
       "      <td>-1.094607</td>\n",
       "      <td>-0.886437</td>\n",
       "      <td>-0.731830</td>\n",
       "      <td>-0.277303</td>\n",
       "      <td>-0.681783</td>\n",
       "      <td>-0.647901</td>\n",
       "      <td>-0.196311</td>\n",
       "      <td>-1.214959</td>\n",
       "      <td>-0.929228</td>\n",
       "      <td>-0.384620</td>\n",
       "      <td>0.855137</td>\n",
       "      <td>0.227963</td>\n",
       "      <td>-0.992397</td>\n",
       "    </tr>\n",
       "    <tr>\n",
       "      <th>5</th>\n",
       "      <td>0.406828</td>\n",
       "      <td>-1.513417</td>\n",
       "      <td>0.593943</td>\n",
       "      <td>-1.712032</td>\n",
       "      <td>0.529903</td>\n",
       "      <td>-0.521939</td>\n",
       "      <td>-0.029115</td>\n",
       "      <td>NaN</td>\n",
       "      <td>0.465978</td>\n",
       "      <td>-0.646949</td>\n",
       "      <td>NaN</td>\n",
       "      <td>-0.757950</td>\n",
       "      <td>1.455627</td>\n",
       "      <td>1.532969</td>\n",
       "      <td>1.564600</td>\n",
       "      <td>-0.572139</td>\n",
       "      <td>-0.669069</td>\n",
       "      <td>0.218237</td>\n",
       "      <td>-1.240016</td>\n",
       "      <td>0.707115</td>\n",
       "    </tr>\n",
       "  </tbody>\n",
       "</table>\n",
       "</div>"
      ],
      "text/plain": [
       "pop_bin                  (94.999, 6401.8]  (6401.8, 10790.5]  \\\n",
       "Hospital overall rating                                        \n",
       "1                                1.195425          -0.034271   \n",
       "2                               -0.273361           0.890083   \n",
       "3                               -1.515253           0.920378   \n",
       "4                                0.186361          -0.262773   \n",
       "5                                0.406828          -1.513417   \n",
       "\n",
       "pop_bin                  (10790.5, 14055.9]  (14055.9, 17713.0]  \\\n",
       "Hospital overall rating                                           \n",
       "1                                 -1.671548            0.824293   \n",
       "2                                 -0.182540            0.509344   \n",
       "3                                  0.743770            0.018220   \n",
       "4                                  0.516375            0.360174   \n",
       "5                                  0.593943           -1.712032   \n",
       "\n",
       "pop_bin                  (17713.0, 22449.25]  (22449.25, 27887.2]  \\\n",
       "Hospital overall rating                                             \n",
       "1                                  -1.325006            -0.168252   \n",
       "2                                   1.183806             1.684063   \n",
       "3                                   0.298912            -0.067219   \n",
       "4                                  -0.687616            -0.926653   \n",
       "5                                   0.529903            -0.521939   \n",
       "\n",
       "pop_bin                  (27887.2, 34689.0]  (34689.0, 41665.2]  \\\n",
       "Hospital overall rating                                           \n",
       "1                                       NaN                 NaN   \n",
       "2                                  1.199116            0.865701   \n",
       "3                                  0.077125            0.228905   \n",
       "4                                 -1.247126           -1.094607   \n",
       "5                                 -0.029115                 NaN   \n",
       "\n",
       "pop_bin                  (41665.2, 49873.2]  (49873.2, 63620.0]  \\\n",
       "Hospital overall rating                                           \n",
       "1                                 -1.231436           -0.790789   \n",
       "2                                  1.067069            1.267842   \n",
       "3                                  0.584827            0.901727   \n",
       "4                                 -0.886437           -0.731830   \n",
       "5                                  0.465978           -0.646949   \n",
       "\n",
       "pop_bin                  (63620.0, 81174.0]  (81174.0, 110079.2]  \\\n",
       "Hospital overall rating                                            \n",
       "1                                 -1.170302             1.699733   \n",
       "2                                  1.226652            -0.267460   \n",
       "3                                  0.220953             0.007460   \n",
       "4                                 -0.277303            -0.681783   \n",
       "5                                       NaN            -0.757950   \n",
       "\n",
       "pop_bin                  (110079.2, 147590.4]  (147590.4, 194020.0]  \\\n",
       "Hospital overall rating                                               \n",
       "1                                   -1.178916             -1.127711   \n",
       "2                                    0.149247              0.294215   \n",
       "3                                    0.221943             -0.503162   \n",
       "4                                   -0.647901             -0.196311   \n",
       "5                                    1.455627              1.532969   \n",
       "\n",
       "pop_bin                  (194020.0, 270937.0]  (270937.0, 413632.6]  \\\n",
       "Hospital overall rating                                               \n",
       "1                                   -0.044804              1.667732   \n",
       "2                                   -0.035305             -0.166922   \n",
       "3                                   -0.269532              0.000558   \n",
       "4                                   -1.214959             -0.929228   \n",
       "5                                    1.564600             -0.572139   \n",
       "\n",
       "pop_bin                  (413632.6, 687802.0]  (687802.0, 970264.7]  \\\n",
       "Hospital overall rating                                               \n",
       "1                                    1.746757              0.585734   \n",
       "2                                   -0.108751              0.036965   \n",
       "3                                   -0.584317             -1.696073   \n",
       "4                                   -0.384620              0.855137   \n",
       "5                                   -0.669069              0.218237   \n",
       "\n",
       "pop_bin                  (970264.7, 2088371.0]  (2088371.0, 10017068.0]  \n",
       "Hospital overall rating                                                  \n",
       "1                                     1.507194                 1.366288  \n",
       "2                                    -0.157629                -0.719536  \n",
       "3                                    -0.337512                -0.361470  \n",
       "4                                     0.227963                -0.992397  \n",
       "5                                    -1.240016                 0.707115  "
      ]
     },
     "execution_count": 543,
     "metadata": {},
     "output_type": "execute_result"
    }
   ],
   "source": [
    "df"
   ]
  },
  {
   "cell_type": "code",
   "execution_count": 544,
   "metadata": {},
   "outputs": [
    {
     "name": "stdout",
     "output_type": "stream",
     "text": [
      "# of instances where crime DECREASED as hospital quality increased: 16\n",
      "# of instances where crime INCREASED as hospital quality increased: 4\n",
      "\n",
      "Avg # of standard deviations of REDUCTION in crime as hospital quality increased: 1.2400332967827434\n",
      "Avg # of standard deviations of INCREASE in crime as hospital quality increased: 0.5906002654504938\n"
     ]
    }
   ],
   "source": [
    "count_where_higher_quality_hospital_and_crime_reduced = 0\n",
    "count_where_higher_quality_hospital_and_crime_increased = 0\n",
    "higher_quality_hospital_and_crime_reduced_std = 0\n",
    "higher_quality_hospital_and_crime_increased_std = 0\n",
    "for column in df.columns:\n",
    "    this_column_values = df[column].values\n",
    "    if pd.isnull(this_column_values[1]) or pd.isnull(this_column_values[3]):\n",
    "        pass\n",
    "    else: \n",
    "        if this_column_values[3] < this_column_values[1]:\n",
    "            higher_quality_hospital_and_crime_reduced_std += this_column_values[3] - this_column_values[1]\n",
    "            count_where_higher_quality_hospital_and_crime_reduced += 1\n",
    "        else:\n",
    "            higher_quality_hospital_and_crime_increased_std += this_column_values[1] - this_column_values[3]\n",
    "            count_where_higher_quality_hospital_and_crime_increased += 1\n",
    "            \n",
    "print(f'# of instances where crime DECREASED as hospital quality increased: {count_where_higher_quality_hospital_and_crime_reduced}')\n",
    "print(f'# of instances where crime INCREASED as hospital quality increased: {count_where_higher_quality_hospital_and_crime_increased}')\n",
    "print(f'\\nAvg # of standard deviations of REDUCTION in crime as hospital quality increased: {-higher_quality_hospital_and_crime_reduced_std/count_where_higher_quality_hospital_and_crime_reduced}')\n",
    "print(f'Avg # of standard deviations of INCREASE in crime as hospital quality increased: {-higher_quality_hospital_and_crime_increased_std/count_where_higher_quality_hospital_and_crime_increased}')"
   ]
  },
  {
   "cell_type": "code",
   "execution_count": 552,
   "metadata": {},
   "outputs": [],
   "source": [
    "grouped_by_pop_and_hospital_rating = \\\n",
    "no_unrated_hospitals.groupby(['pop_bin', 'Hospital overall rating']) \\\n",
    "['crime_rate_per_100000'].agg('mean').unstack(level=0)"
   ]
  },
  {
   "cell_type": "code",
   "execution_count": 557,
   "metadata": {},
   "outputs": [],
   "source": [
    "from math import sqrt"
   ]
  },
  {
   "cell_type": "code",
   "execution_count": 559,
   "metadata": {
    "scrolled": true
   },
   "outputs": [
    {
     "data": {
      "text/plain": [
       "([<matplotlib.axis.XTick at 0x7fe1e755bcc0>,\n",
       "  <matplotlib.axis.XTick at 0x7fe1e755b8d0>,\n",
       "  <matplotlib.axis.XTick at 0x7fe1e755b748>,\n",
       "  <matplotlib.axis.XTick at 0x7fe1e766b128>,\n",
       "  <matplotlib.axis.XTick at 0x7fe1e76ae6d8>],\n",
       " [Text(0, 0, ''),\n",
       "  Text(0, 0, ''),\n",
       "  Text(0, 0, ''),\n",
       "  Text(0, 0, ''),\n",
       "  Text(0, 0, '')])"
      ]
     },
     "execution_count": 559,
     "metadata": {},
     "output_type": "execute_result"
    },
    {
     "data": {
      "image/png": "[encoded data removed]",
      "text/plain": [
       "<Figure size 432x288 with 1 Axes>"
      ]
     },
     "metadata": {
      "needs_background": "light"
     },
     "output_type": "display_data"
    }
   ],
   "source": [
    "plt.plot(grouped_by_pop_and_hospital_rating)\n",
    "plt.legend(grouped_by_pop_and_hospital_rating.columns, bbox_to_anchor=(1.05, 1))\n",
    "plt.xticks([1, 2, 3, 4, 5])"
   ]
  },
  {
   "cell_type": "markdown",
   "metadata": {},
   "source": [
    "It seems population does seem to play a significant role in crime rates. The larger population bins saw higher crime rates (a relationship previously shown), but also saw greater reductions in crime as hospital quality increased. This was evident in the fact that the two largest population county bins (each bin had an equal number of counties) saw the greatest reduction in crime rates as hospital quality increased. 4/10 (5/10 if accounting for the N/A, which generally saw a decline) bins which demonstrated a reduction in crime rates as hospital quality increased saw a greater average standard deviation of reduction (1.86 st devs) in comparison to the 5/10 bins which saw an increase in crime rates as hospital quality increased (1.02 st devs). So, we are able to conclude that population is a factor in determining the crime rate of a county. Intuitively, because of the positive relationship between population and crime and the negative relationship between population and hospital rating, hospital rating and crime should also have a negative relationship. Though without more data (especially on hospitals rated 1 or 5) it is difficult to discern exactly how impactful hospital quality"
   ]
  },
  {
   "cell_type": "markdown",
   "metadata": {},
   "source": [
    "^ different conclusion based on more data!!"
   ]
  },
  {
   "cell_type": "code",
   "execution_count": null,
   "metadata": {},
   "outputs": [],
   "source": []
  },
  {
   "cell_type": "code",
   "execution_count": null,
   "metadata": {},
   "outputs": [],
   "source": []
  },
  {
   "cell_type": "code",
   "execution_count": null,
   "metadata": {},
   "outputs": [],
   "source": []
  },
  {
   "cell_type": "code",
   "execution_count": null,
   "metadata": {},
   "outputs": [],
   "source": []
  },
  {
   "cell_type": "code",
   "execution_count": null,
   "metadata": {},
   "outputs": [],
   "source": []
  },
  {
   "cell_type": "markdown",
   "metadata": {},
   "source": [
    "## Problem Statement\n",
    "My goal with this notebook is to use to answer the question: *is class positively correlated with survival on the ship Titanic?*"
   ]
  },
  {
   "cell_type": "markdown",
   "metadata": {},
   "source": [
    "## Data\n",
    "\n",
    "To answer this question I will use a dataset from Kaggle called titanic \n",
    "(link here: [titanic dataset](https://www.kaggle.com/c/titanic)). I collected this by downloading the csv. The data is stored in a csv format. There are 891 rows and 12 columns. The total size of the file is 59 kB. "
   ]
  },
  {
   "cell_type": "markdown",
   "metadata": {},
   "source": [
    "## Data cleaning and manipulation\n",
    "\n",
    "To address my central question I did the following data cleaning steps:\n",
    "    ....\n",
    "    \n",
    "This are all contained in the file data_cleaning_functions.py. "
   ]
  },
  {
   "cell_type": "markdown",
   "metadata": {},
   "source": [
    "## Analysis\n",
    "\n",
    "To present my analysis I first consider a table of survival rates for each class. Here I can see that the proportion of passengers in the first class who survived is much higher than for the second and third classes. "
   ]
  },
  {
   "cell_type": "markdown",
   "metadata": {},
   "source": [
    "However, it is possible that this gap is not trustworthy if there is very little data in one of these classes. So I will also plot survival and include the size of the category in the plot. "
   ]
  },
  {
   "cell_type": "markdown",
   "metadata": {},
   "source": [
    "In the plot although we can see there is more data in the third class the amount of data in the first class is not so small that I am concerned. I do think there is a statistically valid relationship between class and survival. However, to be triple sure, I'll check the correlation coefficient between plcass and survival rate and check that it is statistically significant. "
   ]
  },
  {
   "cell_type": "markdown",
   "metadata": {},
   "source": [
    "Surprisingly, although the correlation coefficient is very strong negative, it is not statistically signifanct (probably because I only have three values and have lost all information about the size of the data). \n"
   ]
  },
  {
   "cell_type": "markdown",
   "metadata": {},
   "source": [
    "Now I see a weaker but much more significant relationship between the two variables. However, it the pearson correlation coefficient isn't really set up for this kind of comparison, so in future work I will use a better measure. "
   ]
  },
  {
   "cell_type": "markdown",
   "metadata": {},
   "source": [
    "## Take-aways\n",
    "For now, I am convinced that as class goes up from 3 -> 1 there is an increase in survival rates. While the relationship is strong and seems to be significant, I will test the significant levels more thoroughly in future work.  "
   ]
  },
  {
   "cell_type": "markdown",
   "metadata": {},
   "source": [
    "## References \n",
    "\n",
    "Include all references to sources for the code, sources for any packages or methods you used and a guide to all of the files you wrote and are including. "
   ]
  },
  {
   "cell_type": "code",
   "execution_count": null,
   "metadata": {},
   "outputs": [],
   "source": []
  }
 ],
 "metadata": {
  "kernelspec": {
   "display_name": "Python 3",
   "language": "python",
   "name": "python3"
  },
  "language_info": {
   "codemirror_mode": {
    "name": "ipython",
    "version": 3
   },
   "file_extension": ".py",
   "mimetype": "text/x-python",
   "name": "python",
   "nbconvert_exporter": "python",
   "pygments_lexer": "ipython3",
   "version": "3.8.3"
  }
 },
 "nbformat": 4,
 "nbformat_minor": 2
}
