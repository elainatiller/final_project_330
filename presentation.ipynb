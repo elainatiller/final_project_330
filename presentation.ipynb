{
 "cells": [
  {
   "cell_type": "code",
   "execution_count": 15,
   "metadata": {},
   "outputs": [
    {
     "name": "stdout",
     "output_type": "stream",
     "text": [
      "Collecting haversine\n",
      "  Downloading haversine-2.5.1-py2.py3-none-any.whl (6.1 kB)\n",
      "Installing collected packages: haversine\n",
      "Successfully installed haversine-2.5.1\n"
     ]
    }
   ],
   "source": [
    "#!pip install geopandas\n",
    "#!pip install geopy\n",
    "#!pip install pgeocode\n",
    "#!pip install seaborn\n",
    "!pip install haversine"
   ]
  },
  {
   "cell_type": "code",
   "execution_count": 250,
   "metadata": {},
   "outputs": [],
   "source": [
    "from setup import *\n",
    "import matplotlib.pyplot as plt\n",
    "%matplotlib inline"
   ]
  },
  {
   "cell_type": "code",
   "execution_count": 45,
   "metadata": {},
   "outputs": [],
   "source": [
    "# setup.file_pre_processing()"
   ]
  },
  {
   "cell_type": "code",
   "execution_count": 158,
   "metadata": {
    "scrolled": true
   },
   "outputs": [],
   "source": [
    "crime_data = pd.read_csv('crime_data_post_processing.csv', index_col=0)\n",
    "hospitals = pd.read_csv('hospitals_data_post_processing.csv', index_col=0)"
   ]
  },
  {
   "cell_type": "code",
   "execution_count": 159,
   "metadata": {},
   "outputs": [
    {
     "data": {
      "text/html": [
       "<div>\n",
       "<style scoped>\n",
       "    .dataframe tbody tr th:only-of-type {\n",
       "        vertical-align: middle;\n",
       "    }\n",
       "\n",
       "    .dataframe tbody tr th {\n",
       "        vertical-align: top;\n",
       "    }\n",
       "\n",
       "    .dataframe thead th {\n",
       "        text-align: right;\n",
       "    }\n",
       "</style>\n",
       "<table border=\"1\" class=\"dataframe\">\n",
       "  <thead>\n",
       "    <tr style=\"text-align: right;\">\n",
       "      <th></th>\n",
       "      <th>county_name</th>\n",
       "      <th>crime_rate_per_100000</th>\n",
       "      <th>MURDER</th>\n",
       "      <th>RAPE</th>\n",
       "      <th>ROBBERY</th>\n",
       "      <th>AGASSLT</th>\n",
       "      <th>BURGLRY</th>\n",
       "      <th>LARCENY</th>\n",
       "      <th>population</th>\n",
       "      <th>lat_long</th>\n",
       "    </tr>\n",
       "  </thead>\n",
       "  <tbody>\n",
       "    <tr>\n",
       "      <th>0</th>\n",
       "      <td>St. Louis city, MO</td>\n",
       "      <td>1791.995377</td>\n",
       "      <td>119</td>\n",
       "      <td>200</td>\n",
       "      <td>1778</td>\n",
       "      <td>3609</td>\n",
       "      <td>4995</td>\n",
       "      <td>13791</td>\n",
       "      <td>318416</td>\n",
       "      <td>(29.6993748, -91.20677)</td>\n",
       "    </tr>\n",
       "    <tr>\n",
       "      <th>1</th>\n",
       "      <td>Crittenden County, AR</td>\n",
       "      <td>1754.914968</td>\n",
       "      <td>8</td>\n",
       "      <td>38</td>\n",
       "      <td>165</td>\n",
       "      <td>662</td>\n",
       "      <td>1482</td>\n",
       "      <td>1753</td>\n",
       "      <td>49746</td>\n",
       "      <td>(35.2505701, -90.3192299)</td>\n",
       "    </tr>\n",
       "    <tr>\n",
       "      <th>2</th>\n",
       "      <td>Alexander County, IL</td>\n",
       "      <td>1664.700485</td>\n",
       "      <td>1</td>\n",
       "      <td>2</td>\n",
       "      <td>5</td>\n",
       "      <td>119</td>\n",
       "      <td>82</td>\n",
       "      <td>184</td>\n",
       "      <td>7629</td>\n",
       "      <td>(37.1801529, -89.3502834)</td>\n",
       "    </tr>\n",
       "    <tr>\n",
       "      <th>3</th>\n",
       "      <td>Kenedy County, TX</td>\n",
       "      <td>1456.310680</td>\n",
       "      <td>0</td>\n",
       "      <td>3</td>\n",
       "      <td>1</td>\n",
       "      <td>2</td>\n",
       "      <td>5</td>\n",
       "      <td>4</td>\n",
       "      <td>412</td>\n",
       "      <td>(27.221984, -97.79136)</td>\n",
       "    </tr>\n",
       "    <tr>\n",
       "      <th>4</th>\n",
       "      <td>De Soto Parish, LA</td>\n",
       "      <td>1447.402430</td>\n",
       "      <td>3</td>\n",
       "      <td>4</td>\n",
       "      <td>17</td>\n",
       "      <td>368</td>\n",
       "      <td>149</td>\n",
       "      <td>494</td>\n",
       "      <td>27083</td>\n",
       "      <td>(31.901498, -93.670989)</td>\n",
       "    </tr>\n",
       "  </tbody>\n",
       "</table>\n",
       "</div>"
      ],
      "text/plain": [
       "             county_name  crime_rate_per_100000  MURDER  RAPE  ROBBERY  \\\n",
       "0     St. Louis city, MO            1791.995377     119   200     1778   \n",
       "1  Crittenden County, AR            1754.914968       8    38      165   \n",
       "2   Alexander County, IL            1664.700485       1     2        5   \n",
       "3      Kenedy County, TX            1456.310680       0     3        1   \n",
       "4     De Soto Parish, LA            1447.402430       3     4       17   \n",
       "\n",
       "   AGASSLT  BURGLRY  LARCENY  population                   lat_long  \n",
       "0     3609     4995    13791      318416    (29.6993748, -91.20677)  \n",
       "1      662     1482     1753       49746  (35.2505701, -90.3192299)  \n",
       "2      119       82      184        7629  (37.1801529, -89.3502834)  \n",
       "3        2        5        4         412     (27.221984, -97.79136)  \n",
       "4      368      149      494       27083    (31.901498, -93.670989)  "
      ]
     },
     "execution_count": 159,
     "metadata": {},
     "output_type": "execute_result"
    }
   ],
   "source": [
    "crime_data.head()"
   ]
  },
  {
   "cell_type": "code",
   "execution_count": 160,
   "metadata": {},
   "outputs": [
    {
     "data": {
      "text/html": [
       "<div>\n",
       "<style scoped>\n",
       "    .dataframe tbody tr th:only-of-type {\n",
       "        vertical-align: middle;\n",
       "    }\n",
       "\n",
       "    .dataframe tbody tr th {\n",
       "        vertical-align: top;\n",
       "    }\n",
       "\n",
       "    .dataframe thead th {\n",
       "        text-align: right;\n",
       "    }\n",
       "</style>\n",
       "<table border=\"1\" class=\"dataframe\">\n",
       "  <thead>\n",
       "    <tr style=\"text-align: right;\">\n",
       "      <th></th>\n",
       "      <th>Provider ID</th>\n",
       "      <th>Hospital Name</th>\n",
       "      <th>Address</th>\n",
       "      <th>City</th>\n",
       "      <th>State</th>\n",
       "      <th>ZIP Code</th>\n",
       "      <th>Hospital Type</th>\n",
       "      <th>Hospital Ownership</th>\n",
       "      <th>Emergency Services</th>\n",
       "      <th>Hospital overall rating</th>\n",
       "      <th>Mortality national comparison</th>\n",
       "      <th>Patient experience national comparison</th>\n",
       "      <th>Effectiveness of care national comparison</th>\n",
       "      <th>full_address</th>\n",
       "      <th>lat_long</th>\n",
       "    </tr>\n",
       "  </thead>\n",
       "  <tbody>\n",
       "    <tr>\n",
       "      <th>0</th>\n",
       "      <td>10001</td>\n",
       "      <td>SOUTHEAST ALABAMA MEDICAL CENTER</td>\n",
       "      <td>1108 ROSS CLARK CIRCLE</td>\n",
       "      <td>DOTHAN</td>\n",
       "      <td>AL</td>\n",
       "      <td>36301</td>\n",
       "      <td>Acute Care Hospitals</td>\n",
       "      <td>Government - Hospital District or Authority</td>\n",
       "      <td>Yes</td>\n",
       "      <td>3</td>\n",
       "      <td>Same as the national average</td>\n",
       "      <td>Below the national average</td>\n",
       "      <td>Same as the national average</td>\n",
       "      <td>1108 ROSS CLARK CIRCLE DOTHAN AL 36301</td>\n",
       "      <td>(31.216402000000002, -85.36564064472296)</td>\n",
       "    </tr>\n",
       "    <tr>\n",
       "      <th>1</th>\n",
       "      <td>10005</td>\n",
       "      <td>MARSHALL MEDICAL CENTER SOUTH</td>\n",
       "      <td>2505 U S HIGHWAY 431 NORTH</td>\n",
       "      <td>BOAZ</td>\n",
       "      <td>AL</td>\n",
       "      <td>35957</td>\n",
       "      <td>Acute Care Hospitals</td>\n",
       "      <td>Government - Hospital District or Authority</td>\n",
       "      <td>Yes</td>\n",
       "      <td>3</td>\n",
       "      <td>Below the national average</td>\n",
       "      <td>Same as the national average</td>\n",
       "      <td>Same as the national average</td>\n",
       "      <td>2505 U S HIGHWAY 431 NORTH BOAZ AL 35957</td>\n",
       "      <td>NaN</td>\n",
       "    </tr>\n",
       "    <tr>\n",
       "      <th>2</th>\n",
       "      <td>10006</td>\n",
       "      <td>ELIZA COFFEE MEMORIAL HOSPITAL</td>\n",
       "      <td>205 MARENGO STREET</td>\n",
       "      <td>FLORENCE</td>\n",
       "      <td>AL</td>\n",
       "      <td>35631</td>\n",
       "      <td>Acute Care Hospitals</td>\n",
       "      <td>Government - Hospital District or Authority</td>\n",
       "      <td>Yes</td>\n",
       "      <td>2</td>\n",
       "      <td>Below the national average</td>\n",
       "      <td>Below the national average</td>\n",
       "      <td>Same as the national average</td>\n",
       "      <td>205 MARENGO STREET FLORENCE AL 35631</td>\n",
       "      <td>(34.7946245, -87.68303582998244)</td>\n",
       "    </tr>\n",
       "    <tr>\n",
       "      <th>3</th>\n",
       "      <td>10007</td>\n",
       "      <td>MIZELL MEMORIAL HOSPITAL</td>\n",
       "      <td>702 N MAIN ST</td>\n",
       "      <td>OPP</td>\n",
       "      <td>AL</td>\n",
       "      <td>36467</td>\n",
       "      <td>Acute Care Hospitals</td>\n",
       "      <td>Voluntary non-profit - Private</td>\n",
       "      <td>Yes</td>\n",
       "      <td>2</td>\n",
       "      <td>Same as the national average</td>\n",
       "      <td>Same as the national average</td>\n",
       "      <td>Below the national average</td>\n",
       "      <td>702 N MAIN ST OPP AL 36467</td>\n",
       "      <td>(31.2928787, -86.25490030241093)</td>\n",
       "    </tr>\n",
       "    <tr>\n",
       "      <th>4</th>\n",
       "      <td>10008</td>\n",
       "      <td>CRENSHAW COMMUNITY HOSPITAL</td>\n",
       "      <td>101 HOSPITAL CIRCLE</td>\n",
       "      <td>LUVERNE</td>\n",
       "      <td>AL</td>\n",
       "      <td>36049</td>\n",
       "      <td>Acute Care Hospitals</td>\n",
       "      <td>Proprietary</td>\n",
       "      <td>Yes</td>\n",
       "      <td>3</td>\n",
       "      <td>Same as the national average</td>\n",
       "      <td>Not Available</td>\n",
       "      <td>Same as the national average</td>\n",
       "      <td>101 HOSPITAL CIRCLE LUVERNE AL 36049</td>\n",
       "      <td>(31.6937493, -86.26470160380265)</td>\n",
       "    </tr>\n",
       "  </tbody>\n",
       "</table>\n",
       "</div>"
      ],
      "text/plain": [
       "   Provider ID                     Hospital Name                     Address  \\\n",
       "0        10001  SOUTHEAST ALABAMA MEDICAL CENTER      1108 ROSS CLARK CIRCLE   \n",
       "1        10005     MARSHALL MEDICAL CENTER SOUTH  2505 U S HIGHWAY 431 NORTH   \n",
       "2        10006    ELIZA COFFEE MEMORIAL HOSPITAL          205 MARENGO STREET   \n",
       "3        10007          MIZELL MEMORIAL HOSPITAL               702 N MAIN ST   \n",
       "4        10008       CRENSHAW COMMUNITY HOSPITAL         101 HOSPITAL CIRCLE   \n",
       "\n",
       "       City State  ZIP Code         Hospital Type  \\\n",
       "0    DOTHAN    AL     36301  Acute Care Hospitals   \n",
       "1      BOAZ    AL     35957  Acute Care Hospitals   \n",
       "2  FLORENCE    AL     35631  Acute Care Hospitals   \n",
       "3       OPP    AL     36467  Acute Care Hospitals   \n",
       "4   LUVERNE    AL     36049  Acute Care Hospitals   \n",
       "\n",
       "                            Hospital Ownership Emergency Services  \\\n",
       "0  Government - Hospital District or Authority                Yes   \n",
       "1  Government - Hospital District or Authority                Yes   \n",
       "2  Government - Hospital District or Authority                Yes   \n",
       "3               Voluntary non-profit - Private                Yes   \n",
       "4                                  Proprietary                Yes   \n",
       "\n",
       "  Hospital overall rating Mortality national comparison  \\\n",
       "0                       3  Same as the national average   \n",
       "1                       3    Below the national average   \n",
       "2                       2    Below the national average   \n",
       "3                       2  Same as the national average   \n",
       "4                       3  Same as the national average   \n",
       "\n",
       "  Patient experience national comparison  \\\n",
       "0             Below the national average   \n",
       "1           Same as the national average   \n",
       "2             Below the national average   \n",
       "3           Same as the national average   \n",
       "4                          Not Available   \n",
       "\n",
       "  Effectiveness of care national comparison  \\\n",
       "0              Same as the national average   \n",
       "1              Same as the national average   \n",
       "2              Same as the national average   \n",
       "3                Below the national average   \n",
       "4              Same as the national average   \n",
       "\n",
       "                               full_address  \\\n",
       "0    1108 ROSS CLARK CIRCLE DOTHAN AL 36301   \n",
       "1  2505 U S HIGHWAY 431 NORTH BOAZ AL 35957   \n",
       "2      205 MARENGO STREET FLORENCE AL 35631   \n",
       "3                702 N MAIN ST OPP AL 36467   \n",
       "4      101 HOSPITAL CIRCLE LUVERNE AL 36049   \n",
       "\n",
       "                                   lat_long  \n",
       "0  (31.216402000000002, -85.36564064472296)  \n",
       "1                                       NaN  \n",
       "2          (34.7946245, -87.68303582998244)  \n",
       "3          (31.2928787, -86.25490030241093)  \n",
       "4          (31.6937493, -86.26470160380265)  "
      ]
     },
     "execution_count": 160,
     "metadata": {},
     "output_type": "execute_result"
    }
   ],
   "source": [
    "hospitals.head()"
   ]
  },
  {
   "cell_type": "code",
   "execution_count": 161,
   "metadata": {},
   "outputs": [
    {
     "name": "stdout",
     "output_type": "stream",
     "text": [
      "4812\n"
     ]
    }
   ],
   "source": [
    "print(len(hospitals))"
   ]
  },
  {
   "cell_type": "code",
   "execution_count": 162,
   "metadata": {},
   "outputs": [
    {
     "name": "stdout",
     "output_type": "stream",
     "text": [
      "3136\n"
     ]
    }
   ],
   "source": [
    "print(len(crime_data))"
   ]
  },
  {
   "cell_type": "code",
   "execution_count": 163,
   "metadata": {},
   "outputs": [
    {
     "name": "stdout",
     "output_type": "stream",
     "text": [
      "3928\n"
     ]
    }
   ],
   "source": [
    "#drop null lat long hosp. and crime\n",
    "hospitals = hospitals[hospitals['lat_long'].notna()]\n",
    "print(len(hospitals))\n",
    "\n"
   ]
  },
  {
   "cell_type": "code",
   "execution_count": 164,
   "metadata": {},
   "outputs": [
    {
     "name": "stdout",
     "output_type": "stream",
     "text": [
      "3130\n"
     ]
    }
   ],
   "source": [
    "crime_data = crime_data[crime_data['lat_long'] != \"(Na,Na)\"]\n",
    "print(len(crime_data))"
   ]
  },
  {
   "cell_type": "code",
   "execution_count": 165,
   "metadata": {},
   "outputs": [],
   "source": [
    "import pgeocode\n",
    "nomi = pgeocode.Nominatim('US')"
   ]
  },
  {
   "cell_type": "code",
   "execution_count": null,
   "metadata": {},
   "outputs": [],
   "source": []
  },
  {
   "cell_type": "code",
   "execution_count": 166,
   "metadata": {},
   "outputs": [
    {
     "name": "stdout",
     "output_type": "stream",
     "text": [
      "<class 'str'>\n"
     ]
    }
   ],
   "source": [
    "#!pip install haversine\n",
    "print(type(hospitals.loc[0]['lat_long']))"
   ]
  },
  {
   "cell_type": "code",
   "execution_count": 167,
   "metadata": {},
   "outputs": [],
   "source": [
    "\n",
    "import ast\n",
    "hospitals['lat_long'] = hospitals['lat_long'].apply(lambda x : ast.literal_eval(x))\n",
    "crime_data['lat_long'] = crime_data['lat_long'].apply(lambda x : ast.literal_eval(x))"
   ]
  },
  {
   "cell_type": "code",
   "execution_count": 168,
   "metadata": {},
   "outputs": [
    {
     "name": "stdout",
     "output_type": "stream",
     "text": [
      "<class 'tuple'>\n"
     ]
    }
   ],
   "source": [
    "print(type(hospitals.loc[0]['lat_long']))"
   ]
  },
  {
   "cell_type": "code",
   "execution_count": 169,
   "metadata": {},
   "outputs": [],
   "source": [
    "from haversine import haversine, Unit\n",
    "\n",
    "def find_hospital_closest_county(hospital_lat_long):\n",
    "    \n",
    "    minimum = float('inf')\n",
    "    index_of_minimum = 0\n",
    "    for i, county_lat_long in enumerate(crime_data['lat_long'].tolist()):\n",
    "\n",
    "        distance = haversine(hospital_lat_long, county_lat_long, unit=Unit.MILES)\n",
    "        if distance < minimum:\n",
    "            minimum = distance\n",
    "            index_of_minimum = i\n",
    "    \n",
    "    return (crime_data.iloc[index_of_minimum]['county_name'], minimum)"
   ]
  },
  {
   "cell_type": "code",
   "execution_count": 170,
   "metadata": {},
   "outputs": [
    {
     "name": "stdout",
     "output_type": "stream",
     "text": [
      "19.4 s ± 536 ms per loop (mean ± std. dev. of 7 runs, 1 loop each)\n"
     ]
    }
   ],
   "source": [
    "# 18.2s: %timeit hospitals['county'], hospitals['distance_in_miles'] = zip(*hospitals['lat_long'].map(find_hospital_closest_county))\n",
    "# 18.2s: %timeit hospitals['county'], hospitals['distance_in_miles'] = zip(*hospitals['lat_long'].apply(find_hospital_closest_county))\n",
    "# 17.7s\n",
    "%timeit hospitals['county'], hospitals['distance_in_miles'] = zip(*hospitals['lat_long'].apply(lambda x : find_hospital_closest_county(x)))"
   ]
  },
  {
   "cell_type": "code",
   "execution_count": 171,
   "metadata": {},
   "outputs": [
    {
     "data": {
      "text/plain": [
       "0           Houston County, AL\n",
       "2        Lauderdale County, AL\n",
       "3         Covington County, AL\n",
       "4          Crenshaw County, AL\n",
       "5         Jefferson County, GA\n",
       "                 ...          \n",
       "4804    San Jacinto County, TX\n",
       "4805          Worth County, MO\n",
       "4806      Van Zandt County, TX\n",
       "4807          Jones County, TX\n",
       "4809     Assumption Parish, LA\n",
       "Name: county, Length: 3928, dtype: object"
      ]
     },
     "execution_count": 171,
     "metadata": {},
     "output_type": "execute_result"
    }
   ],
   "source": [
    "hospitals['county']"
   ]
  },
  {
   "cell_type": "code",
   "execution_count": 172,
   "metadata": {
    "scrolled": false
   },
   "outputs": [
    {
     "data": {
      "text/plain": [
       "0          8.140765\n",
       "2          7.637646\n",
       "3         13.809160\n",
       "4          3.619856\n",
       "5          9.474224\n",
       "           ...     \n",
       "4804      17.258489\n",
       "4805       7.650199\n",
       "4806      10.715789\n",
       "4807       6.943816\n",
       "4809    1324.743150\n",
       "Name: distance_in_miles, Length: 3928, dtype: float64"
      ]
     },
     "execution_count": 172,
     "metadata": {},
     "output_type": "execute_result"
    }
   ],
   "source": [
    "hospitals['distance_in_miles']"
   ]
  },
  {
   "cell_type": "code",
   "execution_count": 173,
   "metadata": {},
   "outputs": [
    {
     "data": {
      "text/plain": [
       "3928"
      ]
     },
     "execution_count": 173,
     "metadata": {},
     "output_type": "execute_result"
    }
   ],
   "source": [
    "len(hospitals)"
   ]
  },
  {
   "cell_type": "code",
   "execution_count": 174,
   "metadata": {},
   "outputs": [],
   "source": [
    "hospitals = hospitals.drop(hospitals[hospitals['distance_in_miles'] > 50].index)"
   ]
  },
  {
   "cell_type": "code",
   "execution_count": 175,
   "metadata": {},
   "outputs": [
    {
     "data": {
      "text/plain": [
       "3901"
      ]
     },
     "execution_count": 175,
     "metadata": {},
     "output_type": "execute_result"
    }
   ],
   "source": [
    "len(hospitals)"
   ]
  },
  {
   "cell_type": "code",
   "execution_count": 176,
   "metadata": {},
   "outputs": [
    {
     "data": {
      "text/html": [
       "<div>\n",
       "<style scoped>\n",
       "    .dataframe tbody tr th:only-of-type {\n",
       "        vertical-align: middle;\n",
       "    }\n",
       "\n",
       "    .dataframe tbody tr th {\n",
       "        vertical-align: top;\n",
       "    }\n",
       "\n",
       "    .dataframe thead th {\n",
       "        text-align: right;\n",
       "    }\n",
       "</style>\n",
       "<table border=\"1\" class=\"dataframe\">\n",
       "  <thead>\n",
       "    <tr style=\"text-align: right;\">\n",
       "      <th></th>\n",
       "      <th>Provider ID</th>\n",
       "      <th>Hospital Name</th>\n",
       "      <th>Address</th>\n",
       "      <th>City</th>\n",
       "      <th>State</th>\n",
       "      <th>ZIP Code</th>\n",
       "      <th>Hospital Type</th>\n",
       "      <th>Hospital Ownership</th>\n",
       "      <th>Emergency Services</th>\n",
       "      <th>Hospital overall rating</th>\n",
       "      <th>Mortality national comparison</th>\n",
       "      <th>Patient experience national comparison</th>\n",
       "      <th>Effectiveness of care national comparison</th>\n",
       "      <th>full_address</th>\n",
       "      <th>lat_long</th>\n",
       "      <th>county</th>\n",
       "      <th>distance_in_miles</th>\n",
       "    </tr>\n",
       "  </thead>\n",
       "  <tbody>\n",
       "    <tr>\n",
       "      <th>0</th>\n",
       "      <td>10001</td>\n",
       "      <td>SOUTHEAST ALABAMA MEDICAL CENTER</td>\n",
       "      <td>1108 ROSS CLARK CIRCLE</td>\n",
       "      <td>DOTHAN</td>\n",
       "      <td>AL</td>\n",
       "      <td>36301</td>\n",
       "      <td>Acute Care Hospitals</td>\n",
       "      <td>Government - Hospital District or Authority</td>\n",
       "      <td>Yes</td>\n",
       "      <td>3</td>\n",
       "      <td>Same as the national average</td>\n",
       "      <td>Below the national average</td>\n",
       "      <td>Same as the national average</td>\n",
       "      <td>1108 ROSS CLARK CIRCLE DOTHAN AL 36301</td>\n",
       "      <td>(31.216402000000002, -85.36564064472296)</td>\n",
       "      <td>Houston County, AL</td>\n",
       "      <td>8.140765</td>\n",
       "    </tr>\n",
       "    <tr>\n",
       "      <th>2</th>\n",
       "      <td>10006</td>\n",
       "      <td>ELIZA COFFEE MEMORIAL HOSPITAL</td>\n",
       "      <td>205 MARENGO STREET</td>\n",
       "      <td>FLORENCE</td>\n",
       "      <td>AL</td>\n",
       "      <td>35631</td>\n",
       "      <td>Acute Care Hospitals</td>\n",
       "      <td>Government - Hospital District or Authority</td>\n",
       "      <td>Yes</td>\n",
       "      <td>2</td>\n",
       "      <td>Below the national average</td>\n",
       "      <td>Below the national average</td>\n",
       "      <td>Same as the national average</td>\n",
       "      <td>205 MARENGO STREET FLORENCE AL 35631</td>\n",
       "      <td>(34.7946245, -87.68303582998244)</td>\n",
       "      <td>Lauderdale County, AL</td>\n",
       "      <td>7.637646</td>\n",
       "    </tr>\n",
       "    <tr>\n",
       "      <th>3</th>\n",
       "      <td>10007</td>\n",
       "      <td>MIZELL MEMORIAL HOSPITAL</td>\n",
       "      <td>702 N MAIN ST</td>\n",
       "      <td>OPP</td>\n",
       "      <td>AL</td>\n",
       "      <td>36467</td>\n",
       "      <td>Acute Care Hospitals</td>\n",
       "      <td>Voluntary non-profit - Private</td>\n",
       "      <td>Yes</td>\n",
       "      <td>2</td>\n",
       "      <td>Same as the national average</td>\n",
       "      <td>Same as the national average</td>\n",
       "      <td>Below the national average</td>\n",
       "      <td>702 N MAIN ST OPP AL 36467</td>\n",
       "      <td>(31.2928787, -86.25490030241093)</td>\n",
       "      <td>Covington County, AL</td>\n",
       "      <td>13.809160</td>\n",
       "    </tr>\n",
       "    <tr>\n",
       "      <th>4</th>\n",
       "      <td>10008</td>\n",
       "      <td>CRENSHAW COMMUNITY HOSPITAL</td>\n",
       "      <td>101 HOSPITAL CIRCLE</td>\n",
       "      <td>LUVERNE</td>\n",
       "      <td>AL</td>\n",
       "      <td>36049</td>\n",
       "      <td>Acute Care Hospitals</td>\n",
       "      <td>Proprietary</td>\n",
       "      <td>Yes</td>\n",
       "      <td>3</td>\n",
       "      <td>Same as the national average</td>\n",
       "      <td>Not Available</td>\n",
       "      <td>Same as the national average</td>\n",
       "      <td>101 HOSPITAL CIRCLE LUVERNE AL 36049</td>\n",
       "      <td>(31.6937493, -86.26470160380265)</td>\n",
       "      <td>Crenshaw County, AL</td>\n",
       "      <td>3.619856</td>\n",
       "    </tr>\n",
       "    <tr>\n",
       "      <th>5</th>\n",
       "      <td>10011</td>\n",
       "      <td>ST VINCENT'S EAST</td>\n",
       "      <td>50 MEDICAL PARK EAST DRIVE</td>\n",
       "      <td>BIRMINGHAM</td>\n",
       "      <td>AL</td>\n",
       "      <td>35235</td>\n",
       "      <td>Acute Care Hospitals</td>\n",
       "      <td>Voluntary non-profit - Private</td>\n",
       "      <td>Yes</td>\n",
       "      <td>2</td>\n",
       "      <td>Same as the national average</td>\n",
       "      <td>Below the national average</td>\n",
       "      <td>Below the national average</td>\n",
       "      <td>50 MEDICAL PARK EAST DRIVE BIRMINGHAM AL 35235</td>\n",
       "      <td>(33.595315299999996, -86.66763066940506)</td>\n",
       "      <td>Jefferson County, GA</td>\n",
       "      <td>9.474224</td>\n",
       "    </tr>\n",
       "  </tbody>\n",
       "</table>\n",
       "</div>"
      ],
      "text/plain": [
       "   Provider ID                     Hospital Name                     Address  \\\n",
       "0        10001  SOUTHEAST ALABAMA MEDICAL CENTER      1108 ROSS CLARK CIRCLE   \n",
       "2        10006    ELIZA COFFEE MEMORIAL HOSPITAL          205 MARENGO STREET   \n",
       "3        10007          MIZELL MEMORIAL HOSPITAL               702 N MAIN ST   \n",
       "4        10008       CRENSHAW COMMUNITY HOSPITAL         101 HOSPITAL CIRCLE   \n",
       "5        10011                 ST VINCENT'S EAST  50 MEDICAL PARK EAST DRIVE   \n",
       "\n",
       "         City State  ZIP Code         Hospital Type  \\\n",
       "0      DOTHAN    AL     36301  Acute Care Hospitals   \n",
       "2    FLORENCE    AL     35631  Acute Care Hospitals   \n",
       "3         OPP    AL     36467  Acute Care Hospitals   \n",
       "4     LUVERNE    AL     36049  Acute Care Hospitals   \n",
       "5  BIRMINGHAM    AL     35235  Acute Care Hospitals   \n",
       "\n",
       "                            Hospital Ownership Emergency Services  \\\n",
       "0  Government - Hospital District or Authority                Yes   \n",
       "2  Government - Hospital District or Authority                Yes   \n",
       "3               Voluntary non-profit - Private                Yes   \n",
       "4                                  Proprietary                Yes   \n",
       "5               Voluntary non-profit - Private                Yes   \n",
       "\n",
       "  Hospital overall rating Mortality national comparison  \\\n",
       "0                       3  Same as the national average   \n",
       "2                       2    Below the national average   \n",
       "3                       2  Same as the national average   \n",
       "4                       3  Same as the national average   \n",
       "5                       2  Same as the national average   \n",
       "\n",
       "  Patient experience national comparison  \\\n",
       "0             Below the national average   \n",
       "2             Below the national average   \n",
       "3           Same as the national average   \n",
       "4                          Not Available   \n",
       "5             Below the national average   \n",
       "\n",
       "  Effectiveness of care national comparison  \\\n",
       "0              Same as the national average   \n",
       "2              Same as the national average   \n",
       "3                Below the national average   \n",
       "4              Same as the national average   \n",
       "5                Below the national average   \n",
       "\n",
       "                                     full_address  \\\n",
       "0          1108 ROSS CLARK CIRCLE DOTHAN AL 36301   \n",
       "2            205 MARENGO STREET FLORENCE AL 35631   \n",
       "3                      702 N MAIN ST OPP AL 36467   \n",
       "4            101 HOSPITAL CIRCLE LUVERNE AL 36049   \n",
       "5  50 MEDICAL PARK EAST DRIVE BIRMINGHAM AL 35235   \n",
       "\n",
       "                                   lat_long                 county  \\\n",
       "0  (31.216402000000002, -85.36564064472296)     Houston County, AL   \n",
       "2          (34.7946245, -87.68303582998244)  Lauderdale County, AL   \n",
       "3          (31.2928787, -86.25490030241093)   Covington County, AL   \n",
       "4          (31.6937493, -86.26470160380265)    Crenshaw County, AL   \n",
       "5  (33.595315299999996, -86.66763066940506)   Jefferson County, GA   \n",
       "\n",
       "   distance_in_miles  \n",
       "0           8.140765  \n",
       "2           7.637646  \n",
       "3          13.809160  \n",
       "4           3.619856  \n",
       "5           9.474224  "
      ]
     },
     "execution_count": 176,
     "metadata": {},
     "output_type": "execute_result"
    }
   ],
   "source": [
    "hospitals.head()"
   ]
  },
  {
   "cell_type": "code",
   "execution_count": 177,
   "metadata": {},
   "outputs": [
    {
     "data": {
      "text/plain": [
       "Los Angeles County, CA       69\n",
       "Granite County, MT           27\n",
       "Orange County, CA            21\n",
       "Orange County, VA            18\n",
       "San Bernardino County, CA    18\n",
       "                             ..\n",
       "Okeechobee County, FL         1\n",
       "Conecuh County, AL            1\n",
       "Loving County, TX             1\n",
       "Floyd County, IA              1\n",
       "Cumberland County, NC         1\n",
       "Name: county, Length: 2030, dtype: int64"
      ]
     },
     "execution_count": 177,
     "metadata": {},
     "output_type": "execute_result"
    }
   ],
   "source": [
    "hospitals['county'].value_counts()"
   ]
  },
  {
   "cell_type": "code",
   "execution_count": 178,
   "metadata": {},
   "outputs": [
    {
     "data": {
      "text/html": [
       "<div>\n",
       "<style scoped>\n",
       "    .dataframe tbody tr th:only-of-type {\n",
       "        vertical-align: middle;\n",
       "    }\n",
       "\n",
       "    .dataframe tbody tr th {\n",
       "        vertical-align: top;\n",
       "    }\n",
       "\n",
       "    .dataframe thead th {\n",
       "        text-align: right;\n",
       "    }\n",
       "</style>\n",
       "<table border=\"1\" class=\"dataframe\">\n",
       "  <thead>\n",
       "    <tr style=\"text-align: right;\">\n",
       "      <th></th>\n",
       "      <th>Provider ID</th>\n",
       "      <th>Hospital Name</th>\n",
       "      <th>Address</th>\n",
       "      <th>City</th>\n",
       "      <th>State</th>\n",
       "      <th>ZIP Code</th>\n",
       "      <th>Hospital Type</th>\n",
       "      <th>Hospital Ownership</th>\n",
       "      <th>Emergency Services</th>\n",
       "      <th>Hospital overall rating</th>\n",
       "      <th>Mortality national comparison</th>\n",
       "      <th>Patient experience national comparison</th>\n",
       "      <th>Effectiveness of care national comparison</th>\n",
       "      <th>full_address</th>\n",
       "      <th>lat_long</th>\n",
       "      <th>county</th>\n",
       "      <th>distance_in_miles</th>\n",
       "    </tr>\n",
       "  </thead>\n",
       "  <tbody>\n",
       "    <tr>\n",
       "      <th>1773</th>\n",
       "      <td>190014</td>\n",
       "      <td>TECHE REGIONAL MEDICAL CENTER</td>\n",
       "      <td>1125 MARGUERITE STREET</td>\n",
       "      <td>MORGAN CITY</td>\n",
       "      <td>LA</td>\n",
       "      <td>70380</td>\n",
       "      <td>Acute Care Hospitals</td>\n",
       "      <td>Proprietary</td>\n",
       "      <td>Yes</td>\n",
       "      <td>3</td>\n",
       "      <td>Same as the national average</td>\n",
       "      <td>Same as the national average</td>\n",
       "      <td>Same as the national average</td>\n",
       "      <td>1125 MARGUERITE STREET MORGAN CITY LA 70380</td>\n",
       "      <td>(29.70862435, -91.20093572063564)</td>\n",
       "      <td>St. Louis city, MO</td>\n",
       "      <td>0.728715</td>\n",
       "    </tr>\n",
       "  </tbody>\n",
       "</table>\n",
       "</div>"
      ],
      "text/plain": [
       "      Provider ID                  Hospital Name                 Address  \\\n",
       "1773       190014  TECHE REGIONAL MEDICAL CENTER  1125 MARGUERITE STREET   \n",
       "\n",
       "             City State  ZIP Code         Hospital Type Hospital Ownership  \\\n",
       "1773  MORGAN CITY    LA     70380  Acute Care Hospitals        Proprietary   \n",
       "\n",
       "     Emergency Services Hospital overall rating Mortality national comparison  \\\n",
       "1773                Yes                       3  Same as the national average   \n",
       "\n",
       "     Patient experience national comparison  \\\n",
       "1773           Same as the national average   \n",
       "\n",
       "     Effectiveness of care national comparison  \\\n",
       "1773              Same as the national average   \n",
       "\n",
       "                                     full_address  \\\n",
       "1773  1125 MARGUERITE STREET MORGAN CITY LA 70380   \n",
       "\n",
       "                               lat_long              county  distance_in_miles  \n",
       "1773  (29.70862435, -91.20093572063564)  St. Louis city, MO           0.728715  "
      ]
     },
     "execution_count": 178,
     "metadata": {},
     "output_type": "execute_result"
    }
   ],
   "source": [
    "hospitals[hospitals['county']==\"St. Louis city, MO\"]"
   ]
  },
  {
   "cell_type": "code",
   "execution_count": 180,
   "metadata": {},
   "outputs": [
    {
     "data": {
      "text/html": [
       "<div>\n",
       "<style scoped>\n",
       "    .dataframe tbody tr th:only-of-type {\n",
       "        vertical-align: middle;\n",
       "    }\n",
       "\n",
       "    .dataframe tbody tr th {\n",
       "        vertical-align: top;\n",
       "    }\n",
       "\n",
       "    .dataframe thead th {\n",
       "        text-align: right;\n",
       "    }\n",
       "</style>\n",
       "<table border=\"1\" class=\"dataframe\">\n",
       "  <thead>\n",
       "    <tr style=\"text-align: right;\">\n",
       "      <th></th>\n",
       "      <th>Provider ID</th>\n",
       "      <th>Hospital Name</th>\n",
       "      <th>Address</th>\n",
       "      <th>City</th>\n",
       "      <th>State</th>\n",
       "      <th>ZIP Code</th>\n",
       "      <th>Hospital Type</th>\n",
       "      <th>Hospital Ownership</th>\n",
       "      <th>Emergency Services</th>\n",
       "      <th>Hospital overall rating</th>\n",
       "      <th>Mortality national comparison</th>\n",
       "      <th>Patient experience national comparison</th>\n",
       "      <th>Effectiveness of care national comparison</th>\n",
       "      <th>full_address</th>\n",
       "      <th>lat_long</th>\n",
       "      <th>county</th>\n",
       "      <th>distance_in_miles</th>\n",
       "    </tr>\n",
       "  </thead>\n",
       "  <tbody>\n",
       "    <tr>\n",
       "      <th>0</th>\n",
       "      <td>10001</td>\n",
       "      <td>SOUTHEAST ALABAMA MEDICAL CENTER</td>\n",
       "      <td>1108 ROSS CLARK CIRCLE</td>\n",
       "      <td>DOTHAN</td>\n",
       "      <td>AL</td>\n",
       "      <td>36301</td>\n",
       "      <td>Acute Care Hospitals</td>\n",
       "      <td>Government - Hospital District or Authority</td>\n",
       "      <td>Yes</td>\n",
       "      <td>3</td>\n",
       "      <td>Same as the national average</td>\n",
       "      <td>Below the national average</td>\n",
       "      <td>Same as the national average</td>\n",
       "      <td>1108 ROSS CLARK CIRCLE DOTHAN AL 36301</td>\n",
       "      <td>(31.216402000000002, -85.36564064472296)</td>\n",
       "      <td>Houston County, AL</td>\n",
       "      <td>8.140765</td>\n",
       "    </tr>\n",
       "    <tr>\n",
       "      <th>2</th>\n",
       "      <td>10006</td>\n",
       "      <td>ELIZA COFFEE MEMORIAL HOSPITAL</td>\n",
       "      <td>205 MARENGO STREET</td>\n",
       "      <td>FLORENCE</td>\n",
       "      <td>AL</td>\n",
       "      <td>35631</td>\n",
       "      <td>Acute Care Hospitals</td>\n",
       "      <td>Government - Hospital District or Authority</td>\n",
       "      <td>Yes</td>\n",
       "      <td>2</td>\n",
       "      <td>Below the national average</td>\n",
       "      <td>Below the national average</td>\n",
       "      <td>Same as the national average</td>\n",
       "      <td>205 MARENGO STREET FLORENCE AL 35631</td>\n",
       "      <td>(34.7946245, -87.68303582998244)</td>\n",
       "      <td>Lauderdale County, AL</td>\n",
       "      <td>7.637646</td>\n",
       "    </tr>\n",
       "    <tr>\n",
       "      <th>3</th>\n",
       "      <td>10007</td>\n",
       "      <td>MIZELL MEMORIAL HOSPITAL</td>\n",
       "      <td>702 N MAIN ST</td>\n",
       "      <td>OPP</td>\n",
       "      <td>AL</td>\n",
       "      <td>36467</td>\n",
       "      <td>Acute Care Hospitals</td>\n",
       "      <td>Voluntary non-profit - Private</td>\n",
       "      <td>Yes</td>\n",
       "      <td>2</td>\n",
       "      <td>Same as the national average</td>\n",
       "      <td>Same as the national average</td>\n",
       "      <td>Below the national average</td>\n",
       "      <td>702 N MAIN ST OPP AL 36467</td>\n",
       "      <td>(31.2928787, -86.25490030241093)</td>\n",
       "      <td>Covington County, AL</td>\n",
       "      <td>13.809160</td>\n",
       "    </tr>\n",
       "    <tr>\n",
       "      <th>4</th>\n",
       "      <td>10008</td>\n",
       "      <td>CRENSHAW COMMUNITY HOSPITAL</td>\n",
       "      <td>101 HOSPITAL CIRCLE</td>\n",
       "      <td>LUVERNE</td>\n",
       "      <td>AL</td>\n",
       "      <td>36049</td>\n",
       "      <td>Acute Care Hospitals</td>\n",
       "      <td>Proprietary</td>\n",
       "      <td>Yes</td>\n",
       "      <td>3</td>\n",
       "      <td>Same as the national average</td>\n",
       "      <td>Not Available</td>\n",
       "      <td>Same as the national average</td>\n",
       "      <td>101 HOSPITAL CIRCLE LUVERNE AL 36049</td>\n",
       "      <td>(31.6937493, -86.26470160380265)</td>\n",
       "      <td>Crenshaw County, AL</td>\n",
       "      <td>3.619856</td>\n",
       "    </tr>\n",
       "    <tr>\n",
       "      <th>5</th>\n",
       "      <td>10011</td>\n",
       "      <td>ST VINCENT'S EAST</td>\n",
       "      <td>50 MEDICAL PARK EAST DRIVE</td>\n",
       "      <td>BIRMINGHAM</td>\n",
       "      <td>AL</td>\n",
       "      <td>35235</td>\n",
       "      <td>Acute Care Hospitals</td>\n",
       "      <td>Voluntary non-profit - Private</td>\n",
       "      <td>Yes</td>\n",
       "      <td>2</td>\n",
       "      <td>Same as the national average</td>\n",
       "      <td>Below the national average</td>\n",
       "      <td>Below the national average</td>\n",
       "      <td>50 MEDICAL PARK EAST DRIVE BIRMINGHAM AL 35235</td>\n",
       "      <td>(33.595315299999996, -86.66763066940506)</td>\n",
       "      <td>Jefferson County, GA</td>\n",
       "      <td>9.474224</td>\n",
       "    </tr>\n",
       "    <tr>\n",
       "      <th>...</th>\n",
       "      <td>...</td>\n",
       "      <td>...</td>\n",
       "      <td>...</td>\n",
       "      <td>...</td>\n",
       "      <td>...</td>\n",
       "      <td>...</td>\n",
       "      <td>...</td>\n",
       "      <td>...</td>\n",
       "      <td>...</td>\n",
       "      <td>...</td>\n",
       "      <td>...</td>\n",
       "      <td>...</td>\n",
       "      <td>...</td>\n",
       "      <td>...</td>\n",
       "      <td>...</td>\n",
       "      <td>...</td>\n",
       "      <td>...</td>\n",
       "    </tr>\n",
       "    <tr>\n",
       "      <th>4779</th>\n",
       "      <td>670080</td>\n",
       "      <td>SETON MEDICAL CENTER HARKER HEIGHTS</td>\n",
       "      <td>850 W CENTRAL TEXAS EXPRESSWAY</td>\n",
       "      <td>HARKER HEIGHTS</td>\n",
       "      <td>TX</td>\n",
       "      <td>76548</td>\n",
       "      <td>Acute Care Hospitals</td>\n",
       "      <td>Proprietary</td>\n",
       "      <td>Yes</td>\n",
       "      <td>4</td>\n",
       "      <td>Same as the national average</td>\n",
       "      <td>Above the national average</td>\n",
       "      <td>Same as the national average</td>\n",
       "      <td>850 W CENTRAL TEXAS EXPRESSWAY HARKER HEIGHTS ...</td>\n",
       "      <td>(31.07255555, -97.68263831469964)</td>\n",
       "      <td>Coryell County, TX</td>\n",
       "      <td>25.371775</td>\n",
       "    </tr>\n",
       "    <tr>\n",
       "      <th>4780</th>\n",
       "      <td>670082</td>\n",
       "      <td>BAYLOR SCOTT AND WHITE  MEDICAL CENTER  MCKINNEY</td>\n",
       "      <td>5252 WEST UNIVERSITY DRIVE</td>\n",
       "      <td>MC KINNEY</td>\n",
       "      <td>TX</td>\n",
       "      <td>75071</td>\n",
       "      <td>Acute Care Hospitals</td>\n",
       "      <td>Voluntary non-profit - Private</td>\n",
       "      <td>Yes</td>\n",
       "      <td>4</td>\n",
       "      <td>Same as the national average</td>\n",
       "      <td>Above the national average</td>\n",
       "      <td>Same as the national average</td>\n",
       "      <td>5252 WEST UNIVERSITY DRIVE MC KINNEY TX 75071</td>\n",
       "      <td>(33.2196077, -96.68214955013056)</td>\n",
       "      <td>Kinney County, TX</td>\n",
       "      <td>6.012212</td>\n",
       "    </tr>\n",
       "    <tr>\n",
       "      <th>4784</th>\n",
       "      <td>670088</td>\n",
       "      <td>BAYLOR SCOTT &amp; WHITE MEDICAL CENTER- COLLEGE S...</td>\n",
       "      <td>700 SCOTT &amp; WHITE DRIVE</td>\n",
       "      <td>COLLEGE STATION</td>\n",
       "      <td>TX</td>\n",
       "      <td>77845</td>\n",
       "      <td>Acute Care Hospitals</td>\n",
       "      <td>Voluntary non-profit - Private</td>\n",
       "      <td>Yes</td>\n",
       "      <td>4</td>\n",
       "      <td>Same as the national average</td>\n",
       "      <td>Above the national average</td>\n",
       "      <td>Same as the national average</td>\n",
       "      <td>700 SCOTT &amp; WHITE DRIVE COLLEGE STATION TX 77845</td>\n",
       "      <td>(30.582118100000002, -96.27948966825502)</td>\n",
       "      <td>Burleson County, TX</td>\n",
       "      <td>24.886731</td>\n",
       "    </tr>\n",
       "    <tr>\n",
       "      <th>4787</th>\n",
       "      <td>670092</td>\n",
       "      <td>WALNUT HILL MEDICAL CENTER</td>\n",
       "      <td>7502 GREENVILLE AVENUE</td>\n",
       "      <td>DALLAS</td>\n",
       "      <td>TX</td>\n",
       "      <td>75231</td>\n",
       "      <td>Acute Care Hospitals</td>\n",
       "      <td>Proprietary</td>\n",
       "      <td>Yes</td>\n",
       "      <td>3</td>\n",
       "      <td>Same as the national average</td>\n",
       "      <td>Below the national average</td>\n",
       "      <td>Same as the national average</td>\n",
       "      <td>7502 GREENVILLE AVENUE DALLAS TX 75231</td>\n",
       "      <td>(32.8763542, -96.75192719885766)</td>\n",
       "      <td>Dawson County, TX</td>\n",
       "      <td>2.831800</td>\n",
       "    </tr>\n",
       "    <tr>\n",
       "      <th>4793</th>\n",
       "      <td>670098</td>\n",
       "      <td>RESOLUTE HEALTH HOSPITAL</td>\n",
       "      <td>555 CREEKSIDE XING,</td>\n",
       "      <td>NEW BRAUNFELS</td>\n",
       "      <td>TX</td>\n",
       "      <td>78130</td>\n",
       "      <td>Acute Care Hospitals</td>\n",
       "      <td>Proprietary</td>\n",
       "      <td>Yes</td>\n",
       "      <td>3</td>\n",
       "      <td>Not Available</td>\n",
       "      <td>Above the national average</td>\n",
       "      <td>Same as the national average</td>\n",
       "      <td>555 CREEKSIDE XING, NEW BRAUNFELS TX 78130</td>\n",
       "      <td>(29.7205877, -98.06964272347676)</td>\n",
       "      <td>Hays County, TX</td>\n",
       "      <td>8.617801</td>\n",
       "    </tr>\n",
       "  </tbody>\n",
       "</table>\n",
       "<p>3000 rows × 17 columns</p>\n",
       "</div>"
      ],
      "text/plain": [
       "      Provider ID                                      Hospital Name  \\\n",
       "0           10001                   SOUTHEAST ALABAMA MEDICAL CENTER   \n",
       "2           10006                     ELIZA COFFEE MEMORIAL HOSPITAL   \n",
       "3           10007                           MIZELL MEMORIAL HOSPITAL   \n",
       "4           10008                        CRENSHAW COMMUNITY HOSPITAL   \n",
       "5           10011                                  ST VINCENT'S EAST   \n",
       "...           ...                                                ...   \n",
       "4779       670080                SETON MEDICAL CENTER HARKER HEIGHTS   \n",
       "4780       670082   BAYLOR SCOTT AND WHITE  MEDICAL CENTER  MCKINNEY   \n",
       "4784       670088  BAYLOR SCOTT & WHITE MEDICAL CENTER- COLLEGE S...   \n",
       "4787       670092                         WALNUT HILL MEDICAL CENTER   \n",
       "4793       670098                           RESOLUTE HEALTH HOSPITAL   \n",
       "\n",
       "                             Address             City State  ZIP Code  \\\n",
       "0             1108 ROSS CLARK CIRCLE           DOTHAN    AL     36301   \n",
       "2                 205 MARENGO STREET         FLORENCE    AL     35631   \n",
       "3                      702 N MAIN ST              OPP    AL     36467   \n",
       "4                101 HOSPITAL CIRCLE          LUVERNE    AL     36049   \n",
       "5         50 MEDICAL PARK EAST DRIVE       BIRMINGHAM    AL     35235   \n",
       "...                              ...              ...   ...       ...   \n",
       "4779  850 W CENTRAL TEXAS EXPRESSWAY   HARKER HEIGHTS    TX     76548   \n",
       "4780      5252 WEST UNIVERSITY DRIVE        MC KINNEY    TX     75071   \n",
       "4784         700 SCOTT & WHITE DRIVE  COLLEGE STATION    TX     77845   \n",
       "4787          7502 GREENVILLE AVENUE           DALLAS    TX     75231   \n",
       "4793             555 CREEKSIDE XING,    NEW BRAUNFELS    TX     78130   \n",
       "\n",
       "             Hospital Type                           Hospital Ownership  \\\n",
       "0     Acute Care Hospitals  Government - Hospital District or Authority   \n",
       "2     Acute Care Hospitals  Government - Hospital District or Authority   \n",
       "3     Acute Care Hospitals               Voluntary non-profit - Private   \n",
       "4     Acute Care Hospitals                                  Proprietary   \n",
       "5     Acute Care Hospitals               Voluntary non-profit - Private   \n",
       "...                    ...                                          ...   \n",
       "4779  Acute Care Hospitals                                  Proprietary   \n",
       "4780  Acute Care Hospitals               Voluntary non-profit - Private   \n",
       "4784  Acute Care Hospitals               Voluntary non-profit - Private   \n",
       "4787  Acute Care Hospitals                                  Proprietary   \n",
       "4793  Acute Care Hospitals                                  Proprietary   \n",
       "\n",
       "     Emergency Services Hospital overall rating Mortality national comparison  \\\n",
       "0                   Yes                       3  Same as the national average   \n",
       "2                   Yes                       2    Below the national average   \n",
       "3                   Yes                       2  Same as the national average   \n",
       "4                   Yes                       3  Same as the national average   \n",
       "5                   Yes                       2  Same as the national average   \n",
       "...                 ...                     ...                           ...   \n",
       "4779                Yes                       4  Same as the national average   \n",
       "4780                Yes                       4  Same as the national average   \n",
       "4784                Yes                       4  Same as the national average   \n",
       "4787                Yes                       3  Same as the national average   \n",
       "4793                Yes                       3                 Not Available   \n",
       "\n",
       "     Patient experience national comparison  \\\n",
       "0                Below the national average   \n",
       "2                Below the national average   \n",
       "3              Same as the national average   \n",
       "4                             Not Available   \n",
       "5                Below the national average   \n",
       "...                                     ...   \n",
       "4779             Above the national average   \n",
       "4780             Above the national average   \n",
       "4784             Above the national average   \n",
       "4787             Below the national average   \n",
       "4793             Above the national average   \n",
       "\n",
       "     Effectiveness of care national comparison  \\\n",
       "0                 Same as the national average   \n",
       "2                 Same as the national average   \n",
       "3                   Below the national average   \n",
       "4                 Same as the national average   \n",
       "5                   Below the national average   \n",
       "...                                        ...   \n",
       "4779              Same as the national average   \n",
       "4780              Same as the national average   \n",
       "4784              Same as the national average   \n",
       "4787              Same as the national average   \n",
       "4793              Same as the national average   \n",
       "\n",
       "                                           full_address  \\\n",
       "0                1108 ROSS CLARK CIRCLE DOTHAN AL 36301   \n",
       "2                  205 MARENGO STREET FLORENCE AL 35631   \n",
       "3                            702 N MAIN ST OPP AL 36467   \n",
       "4                  101 HOSPITAL CIRCLE LUVERNE AL 36049   \n",
       "5        50 MEDICAL PARK EAST DRIVE BIRMINGHAM AL 35235   \n",
       "...                                                 ...   \n",
       "4779  850 W CENTRAL TEXAS EXPRESSWAY HARKER HEIGHTS ...   \n",
       "4780      5252 WEST UNIVERSITY DRIVE MC KINNEY TX 75071   \n",
       "4784   700 SCOTT & WHITE DRIVE COLLEGE STATION TX 77845   \n",
       "4787             7502 GREENVILLE AVENUE DALLAS TX 75231   \n",
       "4793         555 CREEKSIDE XING, NEW BRAUNFELS TX 78130   \n",
       "\n",
       "                                      lat_long                 county  \\\n",
       "0     (31.216402000000002, -85.36564064472296)     Houston County, AL   \n",
       "2             (34.7946245, -87.68303582998244)  Lauderdale County, AL   \n",
       "3             (31.2928787, -86.25490030241093)   Covington County, AL   \n",
       "4             (31.6937493, -86.26470160380265)    Crenshaw County, AL   \n",
       "5     (33.595315299999996, -86.66763066940506)   Jefferson County, GA   \n",
       "...                                        ...                    ...   \n",
       "4779         (31.07255555, -97.68263831469964)     Coryell County, TX   \n",
       "4780          (33.2196077, -96.68214955013056)      Kinney County, TX   \n",
       "4784  (30.582118100000002, -96.27948966825502)    Burleson County, TX   \n",
       "4787          (32.8763542, -96.75192719885766)      Dawson County, TX   \n",
       "4793          (29.7205877, -98.06964272347676)        Hays County, TX   \n",
       "\n",
       "      distance_in_miles  \n",
       "0              8.140765  \n",
       "2              7.637646  \n",
       "3             13.809160  \n",
       "4              3.619856  \n",
       "5              9.474224  \n",
       "...                 ...  \n",
       "4779          25.371775  \n",
       "4780           6.012212  \n",
       "4784          24.886731  \n",
       "4787           2.831800  \n",
       "4793           8.617801  \n",
       "\n",
       "[3000 rows x 17 columns]"
      ]
     },
     "execution_count": 180,
     "metadata": {},
     "output_type": "execute_result"
    }
   ],
   "source": [
    "hospitals = hospitals[hospitals['Hospital overall rating']!='Not Available']\n",
    "hospitals"
   ]
  },
  {
   "cell_type": "code",
   "execution_count": 203,
   "metadata": {},
   "outputs": [],
   "source": [
    "hospitals['Hospital overall rating']=hospitals['Hospital overall rating'].astype(int)\n"
   ]
  },
  {
   "cell_type": "code",
   "execution_count": 204,
   "metadata": {},
   "outputs": [
    {
     "data": {
      "text/plain": [
       "3"
      ]
     },
     "execution_count": 204,
     "metadata": {},
     "output_type": "execute_result"
    }
   ],
   "source": [
    "hospitals.iloc[0]['Hospital overall rating']"
   ]
  },
  {
   "cell_type": "code",
   "execution_count": 219,
   "metadata": {},
   "outputs": [
    {
     "data": {
      "text/plain": [
       "county\n",
       "Abbeville County, SC    3.666667\n",
       "Acadia Parish, LA       3.333333\n",
       "Adair County, KY        3.000000\n",
       "Adair County, OK        4.000000\n",
       "Adams County, IN        3.000000\n",
       "                          ...   \n",
       "York County, SC         4.000000\n",
       "York County, VA         1.000000\n",
       "Yuba County, CA         2.000000\n",
       "Yuma County, AZ         2.000000\n",
       "Yuma County, CO         3.000000\n",
       "Name: Hospital overall rating, Length: 1634, dtype: float64"
      ]
     },
     "execution_count": 219,
     "metadata": {},
     "output_type": "execute_result"
    }
   ],
   "source": [
    "hosp_grouped = hospitals.groupby('county')\n",
    "hospital_mean_rating_by_county = hosp_grouped['Hospital overall rating'].mean()\n",
    "hospital_mean_rating_by_county"
   ]
  },
  {
   "cell_type": "code",
   "execution_count": null,
   "metadata": {},
   "outputs": [],
   "source": [
    "hospital_mean_rating_by_county"
   ]
  },
  {
   "cell_type": "code",
   "execution_count": 294,
   "metadata": {},
   "outputs": [
    {
     "data": {
      "text/plain": [
       "Index(['Craven County, NC', 'Dubois County, IN', 'Emmet County, MI',\n",
       "       'Gillespie County, TX', 'Houston County, GA', 'Jackson County, IN',\n",
       "       'La Plata County, CO', 'Lincoln County, SD', 'Madison County, IA',\n",
       "       'Morgan County, GA', 'Newport County, RI', 'Newton County, GA',\n",
       "       'Winston County, AL'],\n",
       "      dtype='object', name='county')"
      ]
     },
     "execution_count": 294,
     "metadata": {},
     "output_type": "execute_result"
    }
   ],
   "source": [
    "#get countys with avg. rating of 5 and avg. rating of 1\n",
    "top_rated_counties = hospital_mean_rating_by_county[hospital_mean_rating_by_county==5.0].index\n",
    "top_rated_counties\n"
   ]
  },
  {
   "cell_type": "code",
   "execution_count": 301,
   "metadata": {},
   "outputs": [],
   "source": [
    "lowest_rated_counties = hospital_mean_rating_by_county[hospital_mean_rating_by_county==1.0].index"
   ]
  },
  {
   "cell_type": "code",
   "execution_count": 279,
   "metadata": {},
   "outputs": [
    {
     "data": {
      "text/plain": [
       "Index(['Banks County, GA', 'Bronx County, NY', 'Irwin County, GA',\n",
       "       'Pittsylvania County, VA', 'Santa Cruz County, AZ', 'Sumner County, KS',\n",
       "       'Sutter County, CA', 'York County, VA'],\n",
       "      dtype='object', name='county')"
      ]
     },
     "execution_count": 279,
     "metadata": {},
     "output_type": "execute_result"
    }
   ],
   "source": [
    "lowest_rated_counties"
   ]
  },
  {
   "cell_type": "code",
   "execution_count": 295,
   "metadata": {},
   "outputs": [],
   "source": [
    "crime_for_highest_rated=[]\n",
    "counties_highest_rated=[]\n",
    "\n",
    "for county in top_rated_counties:\n",
    "    counties_highest_rated.append(county)\n",
    "    crime_for_highest_rated.append(crime_data[crime_data['county_name']==county]['crime_rate_per_100000'].values[0])"
   ]
  },
  {
   "cell_type": "code",
   "execution_count": 304,
   "metadata": {},
   "outputs": [],
   "source": [
    "crime_for_lowest_rated=[]\n",
    "counties_lowest_rated=[]\n",
    "for county in lowest_rated_counties:\n",
    "    counties_lowest_rated.append(county)\n",
    "    crime_for_lowest_rated.append(crime_data[crime_data['county_name']==county]['crime_rate_per_100000'].values[0])"
   ]
  },
  {
   "cell_type": "code",
   "execution_count": 307,
   "metadata": {},
   "outputs": [
    {
     "data": {
      "image/png": "[encoded data removed]",
      "text/plain": [
       "<Figure size 432x288 with 1 Axes>"
      ]
     },
     "metadata": {
      "needs_background": "light"
     },
     "output_type": "display_data"
    }
   ],
   "source": [
    "width = 0.35\n",
    "fig, ax = plt.subplots()\n",
    "ax.bar(counties_highest_rated, crime_for_highest_rated, width)\n",
    "ax.set_ylabel('Crime Rate Per 100000')\n",
    "ax.set_xlabel('Counties')\n",
    "ax.tick_params(axis='x', rotation=45)\n",
    "ax.set_title('Crime rate for Highest rated hospital care in counties')\n",
    "\n",
    "plt.show()"
   ]
  },
  {
   "cell_type": "code",
   "execution_count": 306,
   "metadata": {},
   "outputs": [
    {
     "data": {
      "image/png": "[encoded data removed]",
      "text/plain": [
       "<Figure size 432x288 with 1 Axes>"
      ]
     },
     "metadata": {
      "needs_background": "light"
     },
     "output_type": "display_data"
    }
   ],
   "source": [
    "\n",
    "fig, ax = plt.subplots()\n",
    "ax.bar(counties_lowest_rated, crime_for_lowest_rated, width)\n",
    "ax.set_ylabel('Crime Rate Per 100000')\n",
    "ax.set_xlabel('Counties')\n",
    "ax.tick_params(axis='x', rotation=45)\n",
    "ax.set_title('Crime rate for Lowest rated hospital care in counties')\n",
    "\n",
    "plt.show()"
   ]
  },
  {
   "cell_type": "code",
   "execution_count": null,
   "metadata": {},
   "outputs": [],
   "source": []
  },
  {
   "cell_type": "markdown",
   "metadata": {},
   "source": [
    "## Problem Statement\n",
    "My goal with this notebook is to use to answer the question: *is class positively correlated with survival on the ship Titanic?*"
   ]
  },
  {
   "cell_type": "markdown",
   "metadata": {},
   "source": [
    "## Data\n",
    "\n",
    "To answer this question I will use a dataset from Kaggle called titanic \n",
    "(link here: [titanic dataset](https://www.kaggle.com/c/titanic)). I collected this by downloading the csv. The data is stored in a csv format. There are 891 rows and 12 columns. The total size of the file is 59 kB. "
   ]
  },
  {
   "cell_type": "markdown",
   "metadata": {},
   "source": [
    "## Data cleaning and manipulation\n",
    "\n",
    "To address my central question I did the following data cleaning steps:\n",
    "    ....\n",
    "    \n",
    "This are all contained in the file data_cleaning_functions.py. "
   ]
  },
  {
   "cell_type": "markdown",
   "metadata": {},
   "source": [
    "## Analysis\n",
    "\n",
    "To present my analysis I first consider a table of survival rates for each class. Here I can see that the proportion of passengers in the first class who survived is much higher than for the second and third classes. "
   ]
  },
  {
   "cell_type": "markdown",
   "metadata": {},
   "source": [
    "However, it is possible that this gap is not trustworthy if there is very little data in one of these classes. So I will also plot survival and include the size of the category in the plot. "
   ]
  },
  {
   "cell_type": "markdown",
   "metadata": {},
   "source": [
    "In the plot although we can see there is more data in the third class the amount of data in the first class is not so small that I am concerned. I do think there is a statistically valid relationship between class and survival. However, to be triple sure, I'll check the correlation coefficient between plcass and survival rate and check that it is statistically significant. "
   ]
  },
  {
   "cell_type": "markdown",
   "metadata": {},
   "source": [
    "Surprisingly, although the correlation coefficient is very strong negative, it is not statistically signifanct (probably because I only have three values and have lost all information about the size of the data). \n"
   ]
  },
  {
   "cell_type": "markdown",
   "metadata": {},
   "source": [
    "Now I see a weaker but much more significant relationship between the two variables. However, it the pearson correlation coefficient isn't really set up for this kind of comparison, so in future work I will use a better measure. "
   ]
  },
  {
   "cell_type": "markdown",
   "metadata": {},
   "source": [
    "## Take-aways\n",
    "For now, I am convinced that as class goes up from 3 -> 1 there is an increase in survival rates. While the relationship is strong and seems to be significant, I will test the significant levels more thoroughly in future work.  "
   ]
  },
  {
   "cell_type": "markdown",
   "metadata": {},
   "source": [
    "## References \n",
    "\n",
    "Include all references to sources for the code, sources for any packages or methods you used and a guide to all of the files you wrote and are including. "
   ]
  },
  {
   "cell_type": "code",
   "execution_count": null,
   "metadata": {},
   "outputs": [],
   "source": []
  }
 ],
 "metadata": {
  "kernelspec": {
   "display_name": "Python 3",
   "language": "python",
   "name": "python3"
  },
  "language_info": {
   "codemirror_mode": {
    "name": "ipython",
    "version": 3
   },
   "file_extension": ".py",
   "mimetype": "text/x-python",
   "name": "python",
   "nbconvert_exporter": "python",
   "pygments_lexer": "ipython3",
   "version": "3.8.3"
  }
 },
 "nbformat": 4,
 "nbformat_minor": 2
}
