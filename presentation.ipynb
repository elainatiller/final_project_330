{
 "cells": [
  {
   "cell_type": "code",
   "execution_count": 49,
   "metadata": {},
   "outputs": [
    {
     "name": "stdout",
     "output_type": "stream",
     "text": [
      "Collecting geopy\n",
      "  Downloading geopy-2.2.0-py3-none-any.whl (118 kB)\n",
      "\u001b[K     |████████████████████████████████| 118 kB 3.8 MB/s eta 0:00:01\n",
      "\u001b[?25hCollecting geographiclib<2,>=1.49\n",
      "  Downloading geographiclib-1.52-py3-none-any.whl (38 kB)\n",
      "Installing collected packages: geographiclib, geopy\n",
      "Successfully installed geographiclib-1.52 geopy-2.2.0\n"
     ]
    }
   ],
   "source": [
    "#!pip install geopandas\n",
    "#!pip install geopy\n",
    "#!pip install pgeocode"
   ]
  },
  {
   "cell_type": "code",
   "execution_count": 54,
   "metadata": {},
   "outputs": [],
   "source": [
    "import pandas as pd\n",
    "import setup\n",
    "import matplotlib.pyplot as plt\n",
    "import geopandas\n",
    "import re\n",
    "from geopy.geocoders import Nominatim\n",
    "from geopy.extra.rate_limiter import RateLimiter\n",
    "from time import sleep\n",
    "import seaborn as sns\n",
    "%matplotlib inline"
   ]
  },
  {
   "cell_type": "code",
   "execution_count": 35,
   "metadata": {
    "scrolled": true
   },
   "outputs": [
    {
     "name": "stdout",
     "output_type": "stream",
     "text": [
      "Help on module setup:\n",
      "\n",
      "NAME\n",
      "    setup\n",
      "\n",
      "DATA\n",
      "    __warningregistry__ = {'version': 30}\n",
      "\n",
      "FILE\n",
      "    /Users/elainatiller1/Desktop/SI330/final_project_330/setup.py\n",
      "\n",
      "\n"
     ]
    }
   ],
   "source": [
    "help(setup)"
   ]
  },
  {
   "cell_type": "code",
   "execution_count": null,
   "metadata": {},
   "outputs": [],
   "source": []
  },
  {
   "cell_type": "code",
   "execution_count": 36,
   "metadata": {},
   "outputs": [],
   "source": [
    "required_columns = ['Provider ID', 'Hospital Name', 'Address', 'City', 'State', 'ZIP Code', 'Hospital Type', \\\n",
    "               'Hospital Ownership', 'Emergency Services', 'Hospital overall rating', \\\n",
    "               'Patient experience national comparison', 'Mortality national comparison', \\\n",
    "               'Effectiveness of care national comparison']"
   ]
  },
  {
   "cell_type": "code",
   "execution_count": 37,
   "metadata": {},
   "outputs": [],
   "source": [
    "crime_data = pd.read_csv('crime_data_w_population_and_crime_rate.csv')\n",
    "hospitals = pd.read_csv('Hospital.csv', encoding='Windows-1252', usecols=required_columns)"
   ]
  },
  {
   "cell_type": "code",
   "execution_count": 38,
   "metadata": {},
   "outputs": [
    {
     "data": {
      "text/html": [
       "<div>\n",
       "<style scoped>\n",
       "    .dataframe tbody tr th:only-of-type {\n",
       "        vertical-align: middle;\n",
       "    }\n",
       "\n",
       "    .dataframe tbody tr th {\n",
       "        vertical-align: top;\n",
       "    }\n",
       "\n",
       "    .dataframe thead th {\n",
       "        text-align: right;\n",
       "    }\n",
       "</style>\n",
       "<table border=\"1\" class=\"dataframe\">\n",
       "  <thead>\n",
       "    <tr style=\"text-align: right;\">\n",
       "      <th></th>\n",
       "      <th>Provider ID</th>\n",
       "      <th>Hospital Name</th>\n",
       "      <th>Address</th>\n",
       "      <th>City</th>\n",
       "      <th>State</th>\n",
       "      <th>ZIP Code</th>\n",
       "      <th>Hospital Type</th>\n",
       "      <th>Hospital Ownership</th>\n",
       "      <th>Emergency Services</th>\n",
       "      <th>Hospital overall rating</th>\n",
       "      <th>Mortality national comparison</th>\n",
       "      <th>Patient experience national comparison</th>\n",
       "      <th>Effectiveness of care national comparison</th>\n",
       "    </tr>\n",
       "  </thead>\n",
       "  <tbody>\n",
       "    <tr>\n",
       "      <th>0</th>\n",
       "      <td>10001</td>\n",
       "      <td>SOUTHEAST ALABAMA MEDICAL CENTER</td>\n",
       "      <td>1108 ROSS CLARK CIRCLE</td>\n",
       "      <td>DOTHAN</td>\n",
       "      <td>AL</td>\n",
       "      <td>36301</td>\n",
       "      <td>Acute Care Hospitals</td>\n",
       "      <td>Government - Hospital District or Authority</td>\n",
       "      <td>Yes</td>\n",
       "      <td>3</td>\n",
       "      <td>Same as the national average</td>\n",
       "      <td>Below the national average</td>\n",
       "      <td>Same as the national average</td>\n",
       "    </tr>\n",
       "    <tr>\n",
       "      <th>1</th>\n",
       "      <td>10005</td>\n",
       "      <td>MARSHALL MEDICAL CENTER SOUTH</td>\n",
       "      <td>2505 U S HIGHWAY 431 NORTH</td>\n",
       "      <td>BOAZ</td>\n",
       "      <td>AL</td>\n",
       "      <td>35957</td>\n",
       "      <td>Acute Care Hospitals</td>\n",
       "      <td>Government - Hospital District or Authority</td>\n",
       "      <td>Yes</td>\n",
       "      <td>3</td>\n",
       "      <td>Below the national average</td>\n",
       "      <td>Same as the national average</td>\n",
       "      <td>Same as the national average</td>\n",
       "    </tr>\n",
       "    <tr>\n",
       "      <th>2</th>\n",
       "      <td>10006</td>\n",
       "      <td>ELIZA COFFEE MEMORIAL HOSPITAL</td>\n",
       "      <td>205 MARENGO STREET</td>\n",
       "      <td>FLORENCE</td>\n",
       "      <td>AL</td>\n",
       "      <td>35631</td>\n",
       "      <td>Acute Care Hospitals</td>\n",
       "      <td>Government - Hospital District or Authority</td>\n",
       "      <td>Yes</td>\n",
       "      <td>2</td>\n",
       "      <td>Below the national average</td>\n",
       "      <td>Below the national average</td>\n",
       "      <td>Same as the national average</td>\n",
       "    </tr>\n",
       "    <tr>\n",
       "      <th>3</th>\n",
       "      <td>10007</td>\n",
       "      <td>MIZELL MEMORIAL HOSPITAL</td>\n",
       "      <td>702 N MAIN ST</td>\n",
       "      <td>OPP</td>\n",
       "      <td>AL</td>\n",
       "      <td>36467</td>\n",
       "      <td>Acute Care Hospitals</td>\n",
       "      <td>Voluntary non-profit - Private</td>\n",
       "      <td>Yes</td>\n",
       "      <td>2</td>\n",
       "      <td>Same as the national average</td>\n",
       "      <td>Same as the national average</td>\n",
       "      <td>Below the national average</td>\n",
       "    </tr>\n",
       "    <tr>\n",
       "      <th>4</th>\n",
       "      <td>10008</td>\n",
       "      <td>CRENSHAW COMMUNITY HOSPITAL</td>\n",
       "      <td>101 HOSPITAL CIRCLE</td>\n",
       "      <td>LUVERNE</td>\n",
       "      <td>AL</td>\n",
       "      <td>36049</td>\n",
       "      <td>Acute Care Hospitals</td>\n",
       "      <td>Proprietary</td>\n",
       "      <td>Yes</td>\n",
       "      <td>3</td>\n",
       "      <td>Same as the national average</td>\n",
       "      <td>Not Available</td>\n",
       "      <td>Same as the national average</td>\n",
       "    </tr>\n",
       "  </tbody>\n",
       "</table>\n",
       "</div>"
      ],
      "text/plain": [
       "   Provider ID                     Hospital Name                     Address  \\\n",
       "0        10001  SOUTHEAST ALABAMA MEDICAL CENTER      1108 ROSS CLARK CIRCLE   \n",
       "1        10005     MARSHALL MEDICAL CENTER SOUTH  2505 U S HIGHWAY 431 NORTH   \n",
       "2        10006    ELIZA COFFEE MEMORIAL HOSPITAL          205 MARENGO STREET   \n",
       "3        10007          MIZELL MEMORIAL HOSPITAL               702 N MAIN ST   \n",
       "4        10008       CRENSHAW COMMUNITY HOSPITAL         101 HOSPITAL CIRCLE   \n",
       "\n",
       "       City State  ZIP Code         Hospital Type  \\\n",
       "0    DOTHAN    AL     36301  Acute Care Hospitals   \n",
       "1      BOAZ    AL     35957  Acute Care Hospitals   \n",
       "2  FLORENCE    AL     35631  Acute Care Hospitals   \n",
       "3       OPP    AL     36467  Acute Care Hospitals   \n",
       "4   LUVERNE    AL     36049  Acute Care Hospitals   \n",
       "\n",
       "                            Hospital Ownership Emergency Services  \\\n",
       "0  Government - Hospital District or Authority                Yes   \n",
       "1  Government - Hospital District or Authority                Yes   \n",
       "2  Government - Hospital District or Authority                Yes   \n",
       "3               Voluntary non-profit - Private                Yes   \n",
       "4                                  Proprietary                Yes   \n",
       "\n",
       "  Hospital overall rating Mortality national comparison  \\\n",
       "0                       3  Same as the national average   \n",
       "1                       3    Below the national average   \n",
       "2                       2    Below the national average   \n",
       "3                       2  Same as the national average   \n",
       "4                       3  Same as the national average   \n",
       "\n",
       "  Patient experience national comparison  \\\n",
       "0             Below the national average   \n",
       "1           Same as the national average   \n",
       "2             Below the national average   \n",
       "3           Same as the national average   \n",
       "4                          Not Available   \n",
       "\n",
       "  Effectiveness of care national comparison  \n",
       "0              Same as the national average  \n",
       "1              Same as the national average  \n",
       "2              Same as the national average  \n",
       "3                Below the national average  \n",
       "4              Same as the national average  "
      ]
     },
     "execution_count": 38,
     "metadata": {},
     "output_type": "execute_result"
    }
   ],
   "source": [
    "hospitals.head()"
   ]
  },
  {
   "cell_type": "code",
   "execution_count": 39,
   "metadata": {},
   "outputs": [
    {
     "data": {
      "text/html": [
       "<div>\n",
       "<style scoped>\n",
       "    .dataframe tbody tr th:only-of-type {\n",
       "        vertical-align: middle;\n",
       "    }\n",
       "\n",
       "    .dataframe tbody tr th {\n",
       "        vertical-align: top;\n",
       "    }\n",
       "\n",
       "    .dataframe thead th {\n",
       "        text-align: right;\n",
       "    }\n",
       "</style>\n",
       "<table border=\"1\" class=\"dataframe\">\n",
       "  <thead>\n",
       "    <tr style=\"text-align: right;\">\n",
       "      <th></th>\n",
       "      <th>county_name</th>\n",
       "      <th>crime_rate_per_100000</th>\n",
       "      <th>index</th>\n",
       "      <th>EDITION</th>\n",
       "      <th>PART</th>\n",
       "      <th>IDNO</th>\n",
       "      <th>CPOPARST</th>\n",
       "      <th>CPOPCRIM</th>\n",
       "      <th>AG_ARRST</th>\n",
       "      <th>AG_OFF</th>\n",
       "      <th>...</th>\n",
       "      <th>RAPE</th>\n",
       "      <th>ROBBERY</th>\n",
       "      <th>AGASSLT</th>\n",
       "      <th>BURGLRY</th>\n",
       "      <th>LARCENY</th>\n",
       "      <th>MVTHEFT</th>\n",
       "      <th>ARSON</th>\n",
       "      <th>population</th>\n",
       "      <th>FIPS_ST</th>\n",
       "      <th>FIPS_CTY</th>\n",
       "    </tr>\n",
       "  </thead>\n",
       "  <tbody>\n",
       "    <tr>\n",
       "      <th>0</th>\n",
       "      <td>St. Louis city, MO</td>\n",
       "      <td>1791.995377</td>\n",
       "      <td>1</td>\n",
       "      <td>1</td>\n",
       "      <td>4</td>\n",
       "      <td>1612</td>\n",
       "      <td>318667</td>\n",
       "      <td>318667</td>\n",
       "      <td>15</td>\n",
       "      <td>15</td>\n",
       "      <td>...</td>\n",
       "      <td>200</td>\n",
       "      <td>1778</td>\n",
       "      <td>3609</td>\n",
       "      <td>4995</td>\n",
       "      <td>13791</td>\n",
       "      <td>3543</td>\n",
       "      <td>464</td>\n",
       "      <td>318416</td>\n",
       "      <td>29</td>\n",
       "      <td>510</td>\n",
       "    </tr>\n",
       "    <tr>\n",
       "      <th>1</th>\n",
       "      <td>Crittenden County, AR</td>\n",
       "      <td>1754.914968</td>\n",
       "      <td>2</td>\n",
       "      <td>1</td>\n",
       "      <td>4</td>\n",
       "      <td>130</td>\n",
       "      <td>50717</td>\n",
       "      <td>50717</td>\n",
       "      <td>4</td>\n",
       "      <td>4</td>\n",
       "      <td>...</td>\n",
       "      <td>38</td>\n",
       "      <td>165</td>\n",
       "      <td>662</td>\n",
       "      <td>1482</td>\n",
       "      <td>1753</td>\n",
       "      <td>189</td>\n",
       "      <td>28</td>\n",
       "      <td>49746</td>\n",
       "      <td>5</td>\n",
       "      <td>35</td>\n",
       "    </tr>\n",
       "    <tr>\n",
       "      <th>2</th>\n",
       "      <td>Alexander County, IL</td>\n",
       "      <td>1664.700485</td>\n",
       "      <td>3</td>\n",
       "      <td>1</td>\n",
       "      <td>4</td>\n",
       "      <td>604</td>\n",
       "      <td>8040</td>\n",
       "      <td>8040</td>\n",
       "      <td>2</td>\n",
       "      <td>2</td>\n",
       "      <td>...</td>\n",
       "      <td>2</td>\n",
       "      <td>5</td>\n",
       "      <td>119</td>\n",
       "      <td>82</td>\n",
       "      <td>184</td>\n",
       "      <td>12</td>\n",
       "      <td>2</td>\n",
       "      <td>7629</td>\n",
       "      <td>17</td>\n",
       "      <td>3</td>\n",
       "    </tr>\n",
       "    <tr>\n",
       "      <th>3</th>\n",
       "      <td>Kenedy County, TX</td>\n",
       "      <td>1456.310680</td>\n",
       "      <td>4</td>\n",
       "      <td>1</td>\n",
       "      <td>4</td>\n",
       "      <td>2681</td>\n",
       "      <td>444</td>\n",
       "      <td>444</td>\n",
       "      <td>1</td>\n",
       "      <td>1</td>\n",
       "      <td>...</td>\n",
       "      <td>3</td>\n",
       "      <td>1</td>\n",
       "      <td>2</td>\n",
       "      <td>5</td>\n",
       "      <td>4</td>\n",
       "      <td>4</td>\n",
       "      <td>0</td>\n",
       "      <td>412</td>\n",
       "      <td>48</td>\n",
       "      <td>261</td>\n",
       "    </tr>\n",
       "    <tr>\n",
       "      <th>4</th>\n",
       "      <td>De Soto Parish, LA</td>\n",
       "      <td>1447.402430</td>\n",
       "      <td>5</td>\n",
       "      <td>1</td>\n",
       "      <td>4</td>\n",
       "      <td>1137</td>\n",
       "      <td>26971</td>\n",
       "      <td>26971</td>\n",
       "      <td>3</td>\n",
       "      <td>3</td>\n",
       "      <td>...</td>\n",
       "      <td>4</td>\n",
       "      <td>17</td>\n",
       "      <td>368</td>\n",
       "      <td>149</td>\n",
       "      <td>494</td>\n",
       "      <td>60</td>\n",
       "      <td>0</td>\n",
       "      <td>27083</td>\n",
       "      <td>22</td>\n",
       "      <td>31</td>\n",
       "    </tr>\n",
       "  </tbody>\n",
       "</table>\n",
       "<p>5 rows × 24 columns</p>\n",
       "</div>"
      ],
      "text/plain": [
       "             county_name  crime_rate_per_100000  index  EDITION  PART  IDNO  \\\n",
       "0     St. Louis city, MO            1791.995377      1        1     4  1612   \n",
       "1  Crittenden County, AR            1754.914968      2        1     4   130   \n",
       "2   Alexander County, IL            1664.700485      3        1     4   604   \n",
       "3      Kenedy County, TX            1456.310680      4        1     4  2681   \n",
       "4     De Soto Parish, LA            1447.402430      5        1     4  1137   \n",
       "\n",
       "   CPOPARST  CPOPCRIM  AG_ARRST  AG_OFF  ...  RAPE  ROBBERY  AGASSLT  BURGLRY  \\\n",
       "0    318667    318667        15      15  ...   200     1778     3609     4995   \n",
       "1     50717     50717         4       4  ...    38      165      662     1482   \n",
       "2      8040      8040         2       2  ...     2        5      119       82   \n",
       "3       444       444         1       1  ...     3        1        2        5   \n",
       "4     26971     26971         3       3  ...     4       17      368      149   \n",
       "\n",
       "   LARCENY  MVTHEFT  ARSON  population  FIPS_ST  FIPS_CTY  \n",
       "0    13791     3543    464      318416       29       510  \n",
       "1     1753      189     28       49746        5        35  \n",
       "2      184       12      2        7629       17         3  \n",
       "3        4        4      0         412       48       261  \n",
       "4      494       60      0       27083       22        31  \n",
       "\n",
       "[5 rows x 24 columns]"
      ]
     },
     "execution_count": 39,
     "metadata": {},
     "output_type": "execute_result"
    }
   ],
   "source": [
    "crime_data.head()"
   ]
  },
  {
   "cell_type": "code",
   "execution_count": 40,
   "metadata": {},
   "outputs": [
    {
     "data": {
      "text/plain": [
       "Provider ID                                  0\n",
       "Hospital Name                                0\n",
       "Address                                      0\n",
       "City                                         0\n",
       "State                                        0\n",
       "ZIP Code                                     0\n",
       "Hospital Type                                0\n",
       "Hospital Ownership                           0\n",
       "Emergency Services                           0\n",
       "Hospital overall rating                      0\n",
       "Mortality national comparison                0\n",
       "Patient experience national comparison       0\n",
       "Effectiveness of care national comparison    0\n",
       "dtype: int64"
      ]
     },
     "execution_count": 40,
     "metadata": {},
     "output_type": "execute_result"
    }
   ],
   "source": [
    "hospitals.isna().sum()"
   ]
  },
  {
   "cell_type": "code",
   "execution_count": 41,
   "metadata": {},
   "outputs": [
    {
     "data": {
      "text/plain": [
       "4812"
      ]
     },
     "execution_count": 41,
     "metadata": {},
     "output_type": "execute_result"
    }
   ],
   "source": [
    "len(hospitals.index)"
   ]
  },
  {
   "cell_type": "code",
   "execution_count": 42,
   "metadata": {
    "scrolled": true
   },
   "outputs": [
    {
     "data": {
      "text/plain": [
       "Not Available                   1369\n",
       "Above the national average      1214\n",
       "Same as the national average    1148\n",
       "Below the national average      1081\n",
       "Name: Patient experience national comparison, dtype: int64"
      ]
     },
     "execution_count": 42,
     "metadata": {},
     "output_type": "execute_result"
    }
   ],
   "source": [
    "hospitals['Patient experience national comparison'].value_counts()"
   ]
  },
  {
   "cell_type": "code",
   "execution_count": 43,
   "metadata": {
    "scrolled": true
   },
   "outputs": [
    {
     "data": {
      "text/plain": [
       "Same as the national average    2719\n",
       "Not Available                   1352\n",
       "Above the national average       400\n",
       "Below the national average       341\n",
       "Name: Mortality national comparison, dtype: int64"
      ]
     },
     "execution_count": 43,
     "metadata": {},
     "output_type": "execute_result"
    }
   ],
   "source": [
    "hospitals['Mortality national comparison'].value_counts()"
   ]
  },
  {
   "cell_type": "code",
   "execution_count": 44,
   "metadata": {},
   "outputs": [
    {
     "data": {
      "text/plain": [
       "Same as the national average    3238\n",
       "Not Available                   1202\n",
       "Below the national average       242\n",
       "Above the national average       130\n",
       "Name: Effectiveness of care national comparison, dtype: int64"
      ]
     },
     "execution_count": 44,
     "metadata": {},
     "output_type": "execute_result"
    }
   ],
   "source": [
    "hospitals['Effectiveness of care national comparison'].value_counts()"
   ]
  },
  {
   "cell_type": "code",
   "execution_count": 55,
   "metadata": {},
   "outputs": [],
   "source": [
    "from geopy.geocoders import Photon\n",
    "geolocator = Photon(user_agent=\"Final Project1\", timeout=10)"
   ]
  },
  {
   "cell_type": "code",
   "execution_count": 56,
   "metadata": {},
   "outputs": [],
   "source": [
    "hospitals['ZIP Code'] = hospitals['ZIP Code'].astype(str)"
   ]
  },
  {
   "cell_type": "code",
   "execution_count": 48,
   "metadata": {},
   "outputs": [],
   "source": [
    "hospitals['full_address'] = hospitals['Address'] + ' ' + hospitals['City'] + ' ' + hospitals['State'] + ' ' + \\\n",
    "                            hospitals['ZIP Code']"
   ]
  },
  {
   "cell_type": "code",
   "execution_count": 49,
   "metadata": {},
   "outputs": [
    {
     "data": {
      "text/plain": [
       "4792                1975 ALPHA STE 100 ROCKWALL TX 75087\n",
       "4793          555 CREEKSIDE XING, NEW BRAUNFELS TX 78130\n",
       "4794                  9201 PINECROFT SHENANDOAH TX 77380\n",
       "4795      12950 EAST FREEWAY, SUITE 100 HOUSTON TX 77015\n",
       "4796      3101 NORTH TARRANT PARKWAY FORT WORTH TX 76177\n",
       "4797        11100 SHADOW CREEK PARKWAY PEARLAND TX 77584\n",
       "4798     12500 SOUTH FREEWAY SUITE 100 BURLESON TX 76028\n",
       "4799              810 W HIGHWAY 71 MARBLE FALLS TX 78654\n",
       "4800                    1626 W BAKER RD BAYTOWN TX 77521\n",
       "4801    500 WEST  4TH STREET , 4TH FLOOR ODESSA TX 79761\n",
       "4802      5330 NORTH LOOP 1604 WEST SAN ANTONIO TX 78249\n",
       "4803                       400 YOUENS DR WEIMAR TX 78962\n",
       "4804                1017 S TRAVIS AVE CLEVELAND TX 77327\n",
       "4805      3200 NORTH TARRANT PARKWAY FORT WORTH TX 76177\n",
       "4806              707 N WALDRIP ST GRAND SALINE TX 75140\n",
       "4807                    9922 LOUETTA RD HOUSTON TX 77070\n",
       "4808                  FAGAALU VILLAGE PAGO PAGO AS 96799\n",
       "4809     85O GOV CARLOS G CAMACHO ROAD TAMUNING GU 96913\n",
       "4810                         133 ROUTE 3 DEDEDO GU 96929\n",
       "4811       PO BOX 409CK, NAVY HILL ROAD GARAPAN MP 96950\n",
       "Name: full_address, dtype: object"
      ]
     },
     "execution_count": 49,
     "metadata": {},
     "output_type": "execute_result"
    }
   ],
   "source": [
    "hospitals['full_address'].tail(20)"
   ]
  },
  {
   "cell_type": "code",
   "execution_count": 57,
   "metadata": {},
   "outputs": [
    {
     "data": {
      "text/plain": [
       "Location(Baylor Emergency Medical Center, 1975, Alpha Drive, 75087, Alpha Drive, Rockwall, TX, United States, (32.9142461, -96.44447344031661, 0.0))"
      ]
     },
     "execution_count": 57,
     "metadata": {},
     "output_type": "execute_result"
    }
   ],
   "source": [
    "geolocator.geocode(\"1975 ALPHA STE 100 ROCKWALL TX 75087\")"
   ]
  },
  {
   "cell_type": "code",
   "execution_count": null,
   "metadata": {},
   "outputs": [],
   "source": [
    "geolocator.geocode(\"Alexander County, IL\")"
   ]
  },
  {
   "cell_type": "code",
   "execution_count": null,
   "metadata": {},
   "outputs": [],
   "source": [
    "test_hospitals = hospitals.head(5)"
   ]
  },
  {
   "cell_type": "code",
   "execution_count": null,
   "metadata": {},
   "outputs": [],
   "source": [
    "import pgeocode\n",
    "nomi = pgeocode.Nominatim('US')"
   ]
  },
  {
   "cell_type": "code",
   "execution_count": null,
   "metadata": {},
   "outputs": [],
   "source": [
    "nomi.query_postal_code(\"06482\")"
   ]
  },
  {
   "cell_type": "code",
   "execution_count": null,
   "metadata": {},
   "outputs": [],
   "source": [
    "nomi.query_postal_code(\"78130\")"
   ]
  },
  {
   "cell_type": "markdown",
   "metadata": {},
   "source": [
    "# Getting Latitude/Longitude for hospitals and crime data"
   ]
  },
  {
   "cell_type": "code",
   "execution_count": 62,
   "metadata": {},
   "outputs": [],
   "source": [
    "#Inputs: string as county to query geolocator with (St. Louis city, MO)\n",
    "#Output: tuple wit zipcode (int) and str of lat/long\n",
    "def zip_and_lat_long_for_crime(county):\n",
    "    if type(county) != type('string'):\n",
    "        print('Inputs were not correct. Ensure text is a string.')\n",
    "    else:\n",
    "        location = geolocator.geocode(county)\n",
    "        if(location == None):\n",
    "            print(location)\n",
    "            return \"000000\", \"(Na,Na)\"\n",
    "        return location[0].split(', ')[1], location[1]\n",
    "\n",
    "#Inputs: string address to query geolocator with ex:(\"1975 ALPHA STE 100 ROCKWALL TX 75087\")\n",
    "#Output: str of lat/long\n",
    "def lat_long_for_hospital(address):\n",
    "    if type(address) != type('string'):\n",
    "        print('Inputs were not correct. Ensure text is a string.')\n",
    "    else:\n",
    "        location = geolocator.geocode(address)\n",
    "        if(location != None):\n",
    "            return location[1]\n",
    "\n",
    "            "
   ]
  },
  {
   "cell_type": "code",
   "execution_count": 63,
   "metadata": {},
   "outputs": [
    {
     "name": "stdout",
     "output_type": "stream",
     "text": [
      "None\n",
      "None\n",
      "None\n",
      "None\n",
      "None\n",
      "None\n"
     ]
    }
   ],
   "source": [
    "crime_data['zip_code'], crime_data['lat_long'] = zip(*crime_data['county_name'].map(zip_and_lat_long_for_crime))\n"
   ]
  },
  {
   "cell_type": "code",
   "execution_count": 64,
   "metadata": {},
   "outputs": [
    {
     "data": {
      "text/html": [
       "<div>\n",
       "<style scoped>\n",
       "    .dataframe tbody tr th:only-of-type {\n",
       "        vertical-align: middle;\n",
       "    }\n",
       "\n",
       "    .dataframe tbody tr th {\n",
       "        vertical-align: top;\n",
       "    }\n",
       "\n",
       "    .dataframe thead th {\n",
       "        text-align: right;\n",
       "    }\n",
       "</style>\n",
       "<table border=\"1\" class=\"dataframe\">\n",
       "  <thead>\n",
       "    <tr style=\"text-align: right;\">\n",
       "      <th></th>\n",
       "      <th>county_name</th>\n",
       "      <th>crime_rate_per_100000</th>\n",
       "      <th>index</th>\n",
       "      <th>EDITION</th>\n",
       "      <th>PART</th>\n",
       "      <th>IDNO</th>\n",
       "      <th>CPOPARST</th>\n",
       "      <th>CPOPCRIM</th>\n",
       "      <th>AG_ARRST</th>\n",
       "      <th>AG_OFF</th>\n",
       "      <th>...</th>\n",
       "      <th>AGASSLT</th>\n",
       "      <th>BURGLRY</th>\n",
       "      <th>LARCENY</th>\n",
       "      <th>MVTHEFT</th>\n",
       "      <th>ARSON</th>\n",
       "      <th>population</th>\n",
       "      <th>FIPS_ST</th>\n",
       "      <th>FIPS_CTY</th>\n",
       "      <th>zip_code</th>\n",
       "      <th>lat_long</th>\n",
       "    </tr>\n",
       "  </thead>\n",
       "  <tbody>\n",
       "    <tr>\n",
       "      <th>0</th>\n",
       "      <td>St. Louis city, MO</td>\n",
       "      <td>1791.995377</td>\n",
       "      <td>1</td>\n",
       "      <td>1</td>\n",
       "      <td>4</td>\n",
       "      <td>1612</td>\n",
       "      <td>318667</td>\n",
       "      <td>318667</td>\n",
       "      <td>15</td>\n",
       "      <td>15</td>\n",
       "      <td>...</td>\n",
       "      <td>3609</td>\n",
       "      <td>4995</td>\n",
       "      <td>13791</td>\n",
       "      <td>3543</td>\n",
       "      <td>464</td>\n",
       "      <td>318416</td>\n",
       "      <td>29</td>\n",
       "      <td>510</td>\n",
       "      <td>70380</td>\n",
       "      <td>(29.6993748, -91.20677)</td>\n",
       "    </tr>\n",
       "    <tr>\n",
       "      <th>1</th>\n",
       "      <td>Crittenden County, AR</td>\n",
       "      <td>1754.914968</td>\n",
       "      <td>2</td>\n",
       "      <td>1</td>\n",
       "      <td>4</td>\n",
       "      <td>130</td>\n",
       "      <td>50717</td>\n",
       "      <td>50717</td>\n",
       "      <td>4</td>\n",
       "      <td>4</td>\n",
       "      <td>...</td>\n",
       "      <td>662</td>\n",
       "      <td>1482</td>\n",
       "      <td>1753</td>\n",
       "      <td>189</td>\n",
       "      <td>28</td>\n",
       "      <td>49746</td>\n",
       "      <td>5</td>\n",
       "      <td>35</td>\n",
       "      <td>Arkansas</td>\n",
       "      <td>(35.2505701, -90.3192299)</td>\n",
       "    </tr>\n",
       "    <tr>\n",
       "      <th>2</th>\n",
       "      <td>Alexander County, IL</td>\n",
       "      <td>1664.700485</td>\n",
       "      <td>3</td>\n",
       "      <td>1</td>\n",
       "      <td>4</td>\n",
       "      <td>604</td>\n",
       "      <td>8040</td>\n",
       "      <td>8040</td>\n",
       "      <td>2</td>\n",
       "      <td>2</td>\n",
       "      <td>...</td>\n",
       "      <td>119</td>\n",
       "      <td>82</td>\n",
       "      <td>184</td>\n",
       "      <td>12</td>\n",
       "      <td>2</td>\n",
       "      <td>7629</td>\n",
       "      <td>17</td>\n",
       "      <td>3</td>\n",
       "      <td>Illinois</td>\n",
       "      <td>(37.1801529, -89.3502834)</td>\n",
       "    </tr>\n",
       "    <tr>\n",
       "      <th>3</th>\n",
       "      <td>Kenedy County, TX</td>\n",
       "      <td>1456.310680</td>\n",
       "      <td>4</td>\n",
       "      <td>1</td>\n",
       "      <td>4</td>\n",
       "      <td>2681</td>\n",
       "      <td>444</td>\n",
       "      <td>444</td>\n",
       "      <td>1</td>\n",
       "      <td>1</td>\n",
       "      <td>...</td>\n",
       "      <td>2</td>\n",
       "      <td>5</td>\n",
       "      <td>4</td>\n",
       "      <td>4</td>\n",
       "      <td>0</td>\n",
       "      <td>412</td>\n",
       "      <td>48</td>\n",
       "      <td>261</td>\n",
       "      <td>Mallory Street</td>\n",
       "      <td>(27.221984, -97.79136)</td>\n",
       "    </tr>\n",
       "    <tr>\n",
       "      <th>4</th>\n",
       "      <td>De Soto Parish, LA</td>\n",
       "      <td>1447.402430</td>\n",
       "      <td>5</td>\n",
       "      <td>1</td>\n",
       "      <td>4</td>\n",
       "      <td>1137</td>\n",
       "      <td>26971</td>\n",
       "      <td>26971</td>\n",
       "      <td>3</td>\n",
       "      <td>3</td>\n",
       "      <td>...</td>\n",
       "      <td>368</td>\n",
       "      <td>149</td>\n",
       "      <td>494</td>\n",
       "      <td>60</td>\n",
       "      <td>0</td>\n",
       "      <td>27083</td>\n",
       "      <td>22</td>\n",
       "      <td>31</td>\n",
       "      <td>Louisiana</td>\n",
       "      <td>(31.901498, -93.670989)</td>\n",
       "    </tr>\n",
       "  </tbody>\n",
       "</table>\n",
       "<p>5 rows × 26 columns</p>\n",
       "</div>"
      ],
      "text/plain": [
       "             county_name  crime_rate_per_100000  index  EDITION  PART  IDNO  \\\n",
       "0     St. Louis city, MO            1791.995377      1        1     4  1612   \n",
       "1  Crittenden County, AR            1754.914968      2        1     4   130   \n",
       "2   Alexander County, IL            1664.700485      3        1     4   604   \n",
       "3      Kenedy County, TX            1456.310680      4        1     4  2681   \n",
       "4     De Soto Parish, LA            1447.402430      5        1     4  1137   \n",
       "\n",
       "   CPOPARST  CPOPCRIM  AG_ARRST  AG_OFF  ...  AGASSLT  BURGLRY  LARCENY  \\\n",
       "0    318667    318667        15      15  ...     3609     4995    13791   \n",
       "1     50717     50717         4       4  ...      662     1482     1753   \n",
       "2      8040      8040         2       2  ...      119       82      184   \n",
       "3       444       444         1       1  ...        2        5        4   \n",
       "4     26971     26971         3       3  ...      368      149      494   \n",
       "\n",
       "   MVTHEFT  ARSON  population  FIPS_ST  FIPS_CTY        zip_code  \\\n",
       "0     3543    464      318416       29       510           70380   \n",
       "1      189     28       49746        5        35        Arkansas   \n",
       "2       12      2        7629       17         3        Illinois   \n",
       "3        4      0         412       48       261  Mallory Street   \n",
       "4       60      0       27083       22        31       Louisiana   \n",
       "\n",
       "                    lat_long  \n",
       "0    (29.6993748, -91.20677)  \n",
       "1  (35.2505701, -90.3192299)  \n",
       "2  (37.1801529, -89.3502834)  \n",
       "3     (27.221984, -97.79136)  \n",
       "4    (31.901498, -93.670989)  \n",
       "\n",
       "[5 rows x 26 columns]"
      ]
     },
     "execution_count": 64,
     "metadata": {},
     "output_type": "execute_result"
    }
   ],
   "source": [
    "crime_data.head()"
   ]
  },
  {
   "cell_type": "code",
   "execution_count": 65,
   "metadata": {},
   "outputs": [],
   "source": [
    "hospitals['lat_long'] = hospitals['full_address'].map(lat_long_for_hospital)\n"
   ]
  },
  {
   "cell_type": "code",
   "execution_count": 66,
   "metadata": {},
   "outputs": [
    {
     "data": {
      "text/html": [
       "<div>\n",
       "<style scoped>\n",
       "    .dataframe tbody tr th:only-of-type {\n",
       "        vertical-align: middle;\n",
       "    }\n",
       "\n",
       "    .dataframe tbody tr th {\n",
       "        vertical-align: top;\n",
       "    }\n",
       "\n",
       "    .dataframe thead th {\n",
       "        text-align: right;\n",
       "    }\n",
       "</style>\n",
       "<table border=\"1\" class=\"dataframe\">\n",
       "  <thead>\n",
       "    <tr style=\"text-align: right;\">\n",
       "      <th></th>\n",
       "      <th>Provider ID</th>\n",
       "      <th>Hospital Name</th>\n",
       "      <th>Address</th>\n",
       "      <th>City</th>\n",
       "      <th>State</th>\n",
       "      <th>ZIP Code</th>\n",
       "      <th>Hospital Type</th>\n",
       "      <th>Hospital Ownership</th>\n",
       "      <th>Emergency Services</th>\n",
       "      <th>Hospital overall rating</th>\n",
       "      <th>Mortality national comparison</th>\n",
       "      <th>Patient experience national comparison</th>\n",
       "      <th>Effectiveness of care national comparison</th>\n",
       "      <th>full_address</th>\n",
       "      <th>lat_long</th>\n",
       "    </tr>\n",
       "  </thead>\n",
       "  <tbody>\n",
       "    <tr>\n",
       "      <th>0</th>\n",
       "      <td>10001</td>\n",
       "      <td>SOUTHEAST ALABAMA MEDICAL CENTER</td>\n",
       "      <td>1108 ROSS CLARK CIRCLE</td>\n",
       "      <td>DOTHAN</td>\n",
       "      <td>AL</td>\n",
       "      <td>36301</td>\n",
       "      <td>Acute Care Hospitals</td>\n",
       "      <td>Government - Hospital District or Authority</td>\n",
       "      <td>Yes</td>\n",
       "      <td>3</td>\n",
       "      <td>Same as the national average</td>\n",
       "      <td>Below the national average</td>\n",
       "      <td>Same as the national average</td>\n",
       "      <td>1108 ROSS CLARK CIRCLE DOTHAN AL 36301</td>\n",
       "      <td>(31.216402000000002, -85.36564064472296)</td>\n",
       "    </tr>\n",
       "    <tr>\n",
       "      <th>1</th>\n",
       "      <td>10005</td>\n",
       "      <td>MARSHALL MEDICAL CENTER SOUTH</td>\n",
       "      <td>2505 U S HIGHWAY 431 NORTH</td>\n",
       "      <td>BOAZ</td>\n",
       "      <td>AL</td>\n",
       "      <td>35957</td>\n",
       "      <td>Acute Care Hospitals</td>\n",
       "      <td>Government - Hospital District or Authority</td>\n",
       "      <td>Yes</td>\n",
       "      <td>3</td>\n",
       "      <td>Below the national average</td>\n",
       "      <td>Same as the national average</td>\n",
       "      <td>Same as the national average</td>\n",
       "      <td>2505 U S HIGHWAY 431 NORTH BOAZ AL 35957</td>\n",
       "      <td>None</td>\n",
       "    </tr>\n",
       "    <tr>\n",
       "      <th>2</th>\n",
       "      <td>10006</td>\n",
       "      <td>ELIZA COFFEE MEMORIAL HOSPITAL</td>\n",
       "      <td>205 MARENGO STREET</td>\n",
       "      <td>FLORENCE</td>\n",
       "      <td>AL</td>\n",
       "      <td>35631</td>\n",
       "      <td>Acute Care Hospitals</td>\n",
       "      <td>Government - Hospital District or Authority</td>\n",
       "      <td>Yes</td>\n",
       "      <td>2</td>\n",
       "      <td>Below the national average</td>\n",
       "      <td>Below the national average</td>\n",
       "      <td>Same as the national average</td>\n",
       "      <td>205 MARENGO STREET FLORENCE AL 35631</td>\n",
       "      <td>(34.7946245, -87.68303582998244)</td>\n",
       "    </tr>\n",
       "    <tr>\n",
       "      <th>3</th>\n",
       "      <td>10007</td>\n",
       "      <td>MIZELL MEMORIAL HOSPITAL</td>\n",
       "      <td>702 N MAIN ST</td>\n",
       "      <td>OPP</td>\n",
       "      <td>AL</td>\n",
       "      <td>36467</td>\n",
       "      <td>Acute Care Hospitals</td>\n",
       "      <td>Voluntary non-profit - Private</td>\n",
       "      <td>Yes</td>\n",
       "      <td>2</td>\n",
       "      <td>Same as the national average</td>\n",
       "      <td>Same as the national average</td>\n",
       "      <td>Below the national average</td>\n",
       "      <td>702 N MAIN ST OPP AL 36467</td>\n",
       "      <td>(31.2928787, -86.25490030241093)</td>\n",
       "    </tr>\n",
       "    <tr>\n",
       "      <th>4</th>\n",
       "      <td>10008</td>\n",
       "      <td>CRENSHAW COMMUNITY HOSPITAL</td>\n",
       "      <td>101 HOSPITAL CIRCLE</td>\n",
       "      <td>LUVERNE</td>\n",
       "      <td>AL</td>\n",
       "      <td>36049</td>\n",
       "      <td>Acute Care Hospitals</td>\n",
       "      <td>Proprietary</td>\n",
       "      <td>Yes</td>\n",
       "      <td>3</td>\n",
       "      <td>Same as the national average</td>\n",
       "      <td>Not Available</td>\n",
       "      <td>Same as the national average</td>\n",
       "      <td>101 HOSPITAL CIRCLE LUVERNE AL 36049</td>\n",
       "      <td>(31.6937493, -86.26470160380265)</td>\n",
       "    </tr>\n",
       "  </tbody>\n",
       "</table>\n",
       "</div>"
      ],
      "text/plain": [
       "   Provider ID                     Hospital Name                     Address  \\\n",
       "0        10001  SOUTHEAST ALABAMA MEDICAL CENTER      1108 ROSS CLARK CIRCLE   \n",
       "1        10005     MARSHALL MEDICAL CENTER SOUTH  2505 U S HIGHWAY 431 NORTH   \n",
       "2        10006    ELIZA COFFEE MEMORIAL HOSPITAL          205 MARENGO STREET   \n",
       "3        10007          MIZELL MEMORIAL HOSPITAL               702 N MAIN ST   \n",
       "4        10008       CRENSHAW COMMUNITY HOSPITAL         101 HOSPITAL CIRCLE   \n",
       "\n",
       "       City State ZIP Code         Hospital Type  \\\n",
       "0    DOTHAN    AL    36301  Acute Care Hospitals   \n",
       "1      BOAZ    AL    35957  Acute Care Hospitals   \n",
       "2  FLORENCE    AL    35631  Acute Care Hospitals   \n",
       "3       OPP    AL    36467  Acute Care Hospitals   \n",
       "4   LUVERNE    AL    36049  Acute Care Hospitals   \n",
       "\n",
       "                            Hospital Ownership Emergency Services  \\\n",
       "0  Government - Hospital District or Authority                Yes   \n",
       "1  Government - Hospital District or Authority                Yes   \n",
       "2  Government - Hospital District or Authority                Yes   \n",
       "3               Voluntary non-profit - Private                Yes   \n",
       "4                                  Proprietary                Yes   \n",
       "\n",
       "  Hospital overall rating Mortality national comparison  \\\n",
       "0                       3  Same as the national average   \n",
       "1                       3    Below the national average   \n",
       "2                       2    Below the national average   \n",
       "3                       2  Same as the national average   \n",
       "4                       3  Same as the national average   \n",
       "\n",
       "  Patient experience national comparison  \\\n",
       "0             Below the national average   \n",
       "1           Same as the national average   \n",
       "2             Below the national average   \n",
       "3           Same as the national average   \n",
       "4                          Not Available   \n",
       "\n",
       "  Effectiveness of care national comparison  \\\n",
       "0              Same as the national average   \n",
       "1              Same as the national average   \n",
       "2              Same as the national average   \n",
       "3                Below the national average   \n",
       "4              Same as the national average   \n",
       "\n",
       "                               full_address  \\\n",
       "0    1108 ROSS CLARK CIRCLE DOTHAN AL 36301   \n",
       "1  2505 U S HIGHWAY 431 NORTH BOAZ AL 35957   \n",
       "2      205 MARENGO STREET FLORENCE AL 35631   \n",
       "3                702 N MAIN ST OPP AL 36467   \n",
       "4      101 HOSPITAL CIRCLE LUVERNE AL 36049   \n",
       "\n",
       "                                   lat_long  \n",
       "0  (31.216402000000002, -85.36564064472296)  \n",
       "1                                      None  \n",
       "2          (34.7946245, -87.68303582998244)  \n",
       "3          (31.2928787, -86.25490030241093)  \n",
       "4          (31.6937493, -86.26470160380265)  "
      ]
     },
     "execution_count": 66,
     "metadata": {},
     "output_type": "execute_result"
    }
   ],
   "source": [
    "hospitals.head()"
   ]
  },
  {
   "cell_type": "markdown",
   "metadata": {},
   "source": [
    "# Haversine Distance - finding closest hospital "
   ]
  },
  {
   "cell_type": "code",
   "execution_count": 94,
   "metadata": {},
   "outputs": [],
   "source": [
    "#Inputs: str of state\n",
    "#Output: df of hospitals + (lat,long) for that state\n",
    "def return_matching_state_df(state):\n",
    "    hospitals_for_state = hospitals[hospitals['State']==state]\n",
    "    hospitals_for_state=hospitals_for_state[['Hospital Name','lat_long']]\n",
    "    return hospitals_for_state\n",
    "\n",
    "#Inputs: series frome crime data\n",
    "#Output: str of Hospital Name from hospital dataset \n",
    "def find_closest_hospital(series):\n",
    "    lat_long = series['lat_long']\n",
    "    state = series['county_name'].split(', ')[1]\n",
    "    df = return_matching_state_df(state)\n",
    "    lat_long_list = df.lat_long.tolist()\n",
    "    #https://readthedocs.org/projects/pgeo\n",
    "    print(lat_long_list)\n",
    "\n",
    "    distances = pgeocode.haversine_distance([lat_long], lat_long_list)\n",
    "    return min(distances)"
   ]
  },
  {
   "cell_type": "code",
   "execution_count": 95,
   "metadata": {},
   "outputs": [
    {
     "name": "stdout",
     "output_type": "stream",
     "text": [
      "[(37.03651775, -94.509838379283), (38.943545549999996, -92.7403022780093), (38.7808818, -90.48468694474604), None, (38.69897455, -93.22100141339578), (38.55854415, -92.2220520580006), None, (37.95219915, -91.78106352489056), (38.6454887, -90.4460795385316), (40.19310445, -92.5889630445565), None, (37.31578615, -91.96077202601234), (39.71054465, -91.44819025486223), None, None, (38.2486852, -94.34286596231128), (37.144411250000005, -93.2803691826818), (38.56597585, -92.18142175318368), (39.0857029, -94.57481611350138), (40.32509245, -94.87660710787983), (38.550413649999996, -91.00302859410569), (39.73039045, -94.2174126366219), (37.68130705, -92.63406483343294), (37.8303372, -94.36076668599668), None, (39.1725433, -91.8779415), (37.1779865, -93.27414378114038), (38.94891115, -92.3157216364498), (36.23756695, -89.74067909750396), (39.42545115, -92.41414562608827), (38.50613535, -90.38330256066584), (36.738344600000005, -91.87529342276618), (36.629604349999994, -90.82779184619405), (38.5277402, -90.4761733), (38.9362764, -94.60376276839068), (38.632926499999996, -90.31121343926489), None, (39.04959169999999, -94.34817711698423), (39.14991225, -94.55144290900243), (38.7658979, -93.72179428314129), None, (38.75105235, -90.43376461011133), (38.6229713, -90.2390457), None, (37.3114146, -89.54063327719331), (36.889995, -89.5834552), (36.786505250000005, -90.44239787099634), None, (39.047061400000004, -94.57587025000001), None, (39.09178995, -93.2135821375455), None, (38.6748625, -90.46816175549151), (37.7815079, -90.43817835449039), (38.389504349999996, -93.76850249921787), (38.583456049999995, -90.45115610551632), (39.2749812, -94.4240001276834), None, (38.7761446, -90.2403736), (37.3042629, -89.57133674982072), (38.1206184, -92.68265643210832), None, (38.7941303, -90.57986758226727), None, (37.626443949999995, -93.42008543862639), (38.802246600000004, -90.77515551718105), (38.8437021, -91.96544665707381), (38.5840583, -90.2275243), (38.81580155, -94.50314301052447), None, None, None, (38.1926557, -94.0213068), (37.5588419, -90.3028225), None, None, None, (39.7746017, -93.0672597), (37.92604715, -90.7725207553473), (40.0672835, -93.58205448127225), None, (37.7320441, -89.8655817), (40.264392400000006, -94.02533600604039), (39.7478179, -92.46959348127828), (38.693076000000005, -91.44945885654896), (37.91173235, -90.5329524672214), (36.969829250000004, -93.7099080509546), (36.6745545, -93.8720570262262), None, (38.98327725, -90.96355318855402), (39.18968825, -93.87721584048968), (39.81722025, -93.55085151342698), (39.3630707, -94.2378219), (37.86012515, -94.01723612309202), (38.66438855, -94.37731393316709), (37.49690085, -94.30237691684334), (39.26396135, -93.9577159993996), (40.2532108, -94.3244574161565), (36.926972, -93.93098790522073), None, (36.866538399999996, -94.36933232179094), (39.3765782, -93.49250001014481), None, None, None, (37.62263405, -90.64487690347048), (38.1962343, -91.17150407546697), (37.1357792, -94.32113647953389), (38.6377054, -90.26501209208718), (39.084403800000004, -94.5775082797465), (38.710366050000005, -90.41580356387865), (38.63246505, -90.25794835169157)]\n"
     ]
    },
    {
     "ename": "TypeError",
     "evalue": "loop of ufunc does not support argument 0 of type tuple which has no callable radians method",
     "output_type": "error",
     "traceback": [
      "\u001b[0;31m---------------------------------------------------------------------------\u001b[0m",
      "\u001b[0;31mAttributeError\u001b[0m                            Traceback (most recent call last)",
      "\u001b[0;31mAttributeError\u001b[0m: 'tuple' object has no attribute 'radians'",
      "\nThe above exception was the direct cause of the following exception:\n",
      "\u001b[0;31mTypeError\u001b[0m                                 Traceback (most recent call last)",
      "\u001b[0;32m<ipython-input-95-2d38cd2b4309>\u001b[0m in \u001b[0;36m<module>\u001b[0;34m\u001b[0m\n\u001b[0;32m----> 1\u001b[0;31m \u001b[0mcrime_data\u001b[0m\u001b[0;34m[\u001b[0m\u001b[0;34m'closest_hospital'\u001b[0m\u001b[0;34m]\u001b[0m \u001b[0;34m=\u001b[0m \u001b[0mcrime_data\u001b[0m\u001b[0;34m.\u001b[0m\u001b[0mapply\u001b[0m\u001b[0;34m(\u001b[0m\u001b[0mfind_closest_hospital\u001b[0m\u001b[0;34m,\u001b[0m \u001b[0maxis\u001b[0m\u001b[0;34m=\u001b[0m\u001b[0;36m1\u001b[0m\u001b[0;34m)\u001b[0m\u001b[0;34m\u001b[0m\u001b[0;34m\u001b[0m\u001b[0m\n\u001b[0m",
      "\u001b[0;32m~/opt/anaconda3/lib/python3.8/site-packages/pandas/core/frame.py\u001b[0m in \u001b[0;36mapply\u001b[0;34m(self, func, axis, raw, result_type, args, **kwds)\u001b[0m\n\u001b[1;32m   6876\u001b[0m             \u001b[0mkwds\u001b[0m\u001b[0;34m=\u001b[0m\u001b[0mkwds\u001b[0m\u001b[0;34m,\u001b[0m\u001b[0;34m\u001b[0m\u001b[0;34m\u001b[0m\u001b[0m\n\u001b[1;32m   6877\u001b[0m         )\n\u001b[0;32m-> 6878\u001b[0;31m         \u001b[0;32mreturn\u001b[0m \u001b[0mop\u001b[0m\u001b[0;34m.\u001b[0m\u001b[0mget_result\u001b[0m\u001b[0;34m(\u001b[0m\u001b[0;34m)\u001b[0m\u001b[0;34m\u001b[0m\u001b[0;34m\u001b[0m\u001b[0m\n\u001b[0m\u001b[1;32m   6879\u001b[0m \u001b[0;34m\u001b[0m\u001b[0m\n\u001b[1;32m   6880\u001b[0m     \u001b[0;32mdef\u001b[0m \u001b[0mapplymap\u001b[0m\u001b[0;34m(\u001b[0m\u001b[0mself\u001b[0m\u001b[0;34m,\u001b[0m \u001b[0mfunc\u001b[0m\u001b[0;34m)\u001b[0m \u001b[0;34m->\u001b[0m \u001b[0;34m\"DataFrame\"\u001b[0m\u001b[0;34m:\u001b[0m\u001b[0;34m\u001b[0m\u001b[0;34m\u001b[0m\u001b[0m\n",
      "\u001b[0;32m~/opt/anaconda3/lib/python3.8/site-packages/pandas/core/apply.py\u001b[0m in \u001b[0;36mget_result\u001b[0;34m(self)\u001b[0m\n\u001b[1;32m    184\u001b[0m             \u001b[0;32mreturn\u001b[0m \u001b[0mself\u001b[0m\u001b[0;34m.\u001b[0m\u001b[0mapply_raw\u001b[0m\u001b[0;34m(\u001b[0m\u001b[0;34m)\u001b[0m\u001b[0;34m\u001b[0m\u001b[0;34m\u001b[0m\u001b[0m\n\u001b[1;32m    185\u001b[0m \u001b[0;34m\u001b[0m\u001b[0m\n\u001b[0;32m--> 186\u001b[0;31m         \u001b[0;32mreturn\u001b[0m \u001b[0mself\u001b[0m\u001b[0;34m.\u001b[0m\u001b[0mapply_standard\u001b[0m\u001b[0;34m(\u001b[0m\u001b[0;34m)\u001b[0m\u001b[0;34m\u001b[0m\u001b[0;34m\u001b[0m\u001b[0m\n\u001b[0m\u001b[1;32m    187\u001b[0m \u001b[0;34m\u001b[0m\u001b[0m\n\u001b[1;32m    188\u001b[0m     \u001b[0;32mdef\u001b[0m \u001b[0mapply_empty_result\u001b[0m\u001b[0;34m(\u001b[0m\u001b[0mself\u001b[0m\u001b[0;34m)\u001b[0m\u001b[0;34m:\u001b[0m\u001b[0;34m\u001b[0m\u001b[0;34m\u001b[0m\u001b[0m\n",
      "\u001b[0;32m~/opt/anaconda3/lib/python3.8/site-packages/pandas/core/apply.py\u001b[0m in \u001b[0;36mapply_standard\u001b[0;34m(self)\u001b[0m\n\u001b[1;32m    293\u001b[0m \u001b[0;34m\u001b[0m\u001b[0m\n\u001b[1;32m    294\u001b[0m             \u001b[0;32mtry\u001b[0m\u001b[0;34m:\u001b[0m\u001b[0;34m\u001b[0m\u001b[0;34m\u001b[0m\u001b[0m\n\u001b[0;32m--> 295\u001b[0;31m                 result = libreduction.compute_reduction(\n\u001b[0m\u001b[1;32m    296\u001b[0m                     \u001b[0mvalues\u001b[0m\u001b[0;34m,\u001b[0m \u001b[0mself\u001b[0m\u001b[0;34m.\u001b[0m\u001b[0mf\u001b[0m\u001b[0;34m,\u001b[0m \u001b[0maxis\u001b[0m\u001b[0;34m=\u001b[0m\u001b[0mself\u001b[0m\u001b[0;34m.\u001b[0m\u001b[0maxis\u001b[0m\u001b[0;34m,\u001b[0m \u001b[0mdummy\u001b[0m\u001b[0;34m=\u001b[0m\u001b[0mdummy\u001b[0m\u001b[0;34m,\u001b[0m \u001b[0mlabels\u001b[0m\u001b[0;34m=\u001b[0m\u001b[0mlabels\u001b[0m\u001b[0;34m\u001b[0m\u001b[0;34m\u001b[0m\u001b[0m\n\u001b[1;32m    297\u001b[0m                 )\n",
      "\u001b[0;32mpandas/_libs/reduction.pyx\u001b[0m in \u001b[0;36mpandas._libs.reduction.compute_reduction\u001b[0;34m()\u001b[0m\n",
      "\u001b[0;32mpandas/_libs/reduction.pyx\u001b[0m in \u001b[0;36mpandas._libs.reduction.Reducer.get_result\u001b[0;34m()\u001b[0m\n",
      "\u001b[0;32m<ipython-input-94-cf365d8bacf2>\u001b[0m in \u001b[0;36mfind_closest_hospital\u001b[0;34m(series)\u001b[0m\n\u001b[1;32m     16\u001b[0m     \u001b[0mprint\u001b[0m\u001b[0;34m(\u001b[0m\u001b[0mlat_long_list\u001b[0m\u001b[0;34m)\u001b[0m\u001b[0;34m\u001b[0m\u001b[0;34m\u001b[0m\u001b[0m\n\u001b[1;32m     17\u001b[0m \u001b[0;34m\u001b[0m\u001b[0m\n\u001b[0;32m---> 18\u001b[0;31m     \u001b[0mdistances\u001b[0m \u001b[0;34m=\u001b[0m \u001b[0mpgeocode\u001b[0m\u001b[0;34m.\u001b[0m\u001b[0mhaversine_distance\u001b[0m\u001b[0;34m(\u001b[0m\u001b[0;34m[\u001b[0m\u001b[0mlat_long\u001b[0m\u001b[0;34m]\u001b[0m\u001b[0;34m,\u001b[0m \u001b[0mlat_long_list\u001b[0m\u001b[0;34m)\u001b[0m\u001b[0;34m\u001b[0m\u001b[0;34m\u001b[0m\u001b[0m\n\u001b[0m\u001b[1;32m     19\u001b[0m     \u001b[0;32mreturn\u001b[0m \u001b[0mmin\u001b[0m\u001b[0;34m(\u001b[0m\u001b[0mdistances\u001b[0m\u001b[0;34m)\u001b[0m\u001b[0;34m\u001b[0m\u001b[0;34m\u001b[0m\u001b[0m\n",
      "\u001b[0;32m~/opt/anaconda3/lib/python3.8/site-packages/pgeocode.py\u001b[0m in \u001b[0;36mhaversine_distance\u001b[0;34m(x, y)\u001b[0m\n\u001b[1;32m    418\u001b[0m     \"\"\"\n\u001b[1;32m    419\u001b[0m     \u001b[0mx_rad\u001b[0m \u001b[0;34m=\u001b[0m \u001b[0mnp\u001b[0m\u001b[0;34m.\u001b[0m\u001b[0mradians\u001b[0m\u001b[0;34m(\u001b[0m\u001b[0mx\u001b[0m\u001b[0;34m)\u001b[0m\u001b[0;34m\u001b[0m\u001b[0;34m\u001b[0m\u001b[0m\n\u001b[0;32m--> 420\u001b[0;31m     \u001b[0my_rad\u001b[0m \u001b[0;34m=\u001b[0m \u001b[0mnp\u001b[0m\u001b[0;34m.\u001b[0m\u001b[0mradians\u001b[0m\u001b[0;34m(\u001b[0m\u001b[0my\u001b[0m\u001b[0;34m)\u001b[0m\u001b[0;34m\u001b[0m\u001b[0;34m\u001b[0m\u001b[0m\n\u001b[0m\u001b[1;32m    421\u001b[0m \u001b[0;34m\u001b[0m\u001b[0m\n\u001b[1;32m    422\u001b[0m     \u001b[0md\u001b[0m \u001b[0;34m=\u001b[0m \u001b[0my_rad\u001b[0m \u001b[0;34m-\u001b[0m \u001b[0mx_rad\u001b[0m\u001b[0;34m\u001b[0m\u001b[0;34m\u001b[0m\u001b[0m\n",
      "\u001b[0;31mTypeError\u001b[0m: loop of ufunc does not support argument 0 of type tuple which has no callable radians method"
     ]
    }
   ],
   "source": [
    "crime_data['closest_hospital'] = crime_data.apply(find_closest_hospital, axis=1)"
   ]
  },
  {
   "cell_type": "code",
   "execution_count": null,
   "metadata": {},
   "outputs": [],
   "source": []
  },
  {
   "cell_type": "markdown",
   "metadata": {},
   "source": [
    "# group by zipcode to find avg hospital rating "
   ]
  },
  {
   "cell_type": "code",
   "execution_count": 96,
   "metadata": {},
   "outputs": [
    {
     "data": {
      "text/plain": [
       "77030    6\n",
       "70508    5\n",
       "76104    5\n",
       "73120    4\n",
       "19104    4\n",
       "        ..\n",
       "75401    1\n",
       "23505    1\n",
       "41017    1\n",
       "14642    1\n",
       "68845    1\n",
       "Name: ZIP Code, Length: 4416, dtype: int64"
      ]
     },
     "execution_count": 96,
     "metadata": {},
     "output_type": "execute_result"
    }
   ],
   "source": [
    "hospitals['ZIP Code'].value_counts()"
   ]
  },
  {
   "cell_type": "code",
   "execution_count": 98,
   "metadata": {},
   "outputs": [],
   "source": []
  },
  {
   "cell_type": "code",
   "execution_count": null,
   "metadata": {},
   "outputs": [],
   "source": []
  },
  {
   "cell_type": "code",
   "execution_count": null,
   "metadata": {},
   "outputs": [],
   "source": [
    "crime_data['zip_code'].value_counts()"
   ]
  },
  {
   "cell_type": "code",
   "execution_count": null,
   "metadata": {},
   "outputs": [],
   "source": [
    "crime_rate_per_100000_by_zip = crime_data.groupby('zip_code')['crime_rate_per_100000']"
   ]
  },
  {
   "cell_type": "code",
   "execution_count": null,
   "metadata": {},
   "outputs": [],
   "source": []
  },
  {
   "cell_type": "markdown",
   "metadata": {},
   "source": [
    "# Make scatterplot with  zip codes on X axis and crime_rate_per_100000 on Y axis "
   ]
  },
  {
   "cell_type": "code",
   "execution_count": null,
   "metadata": {},
   "outputs": [],
   "source": [
    "#x axis will be zip codes ranging from lowest zip code possible(00501) \n",
    "#to highest zip code possible (99950)"
   ]
  },
  {
   "cell_type": "code",
   "execution_count": null,
   "metadata": {},
   "outputs": [],
   "source": [
    "titlefont = {'size': 16, 'fontname':'Comic Sans MS'}\n",
    "\n",
    "sns.lineplot(x=\"zip codes\", y=\"crime rate per 100000\", data=)\n"
   ]
  },
  {
   "cell_type": "code",
   "execution_count": null,
   "metadata": {},
   "outputs": [],
   "source": [
    "# Make barchart with 3 farthest/closest hopsitals to county vs. crime_rate_per_100000 on Y axis "
   ]
  },
  {
   "cell_type": "code",
   "execution_count": null,
   "metadata": {},
   "outputs": [],
   "source": [
    "three_closest_hospitals = "
   ]
  },
  {
   "cell_type": "markdown",
   "metadata": {},
   "source": [
    "## Problem Statement\n",
    "My goal with this notebook is to use to answer the question: *is class positively correlated with survival on the ship Titanic?*"
   ]
  },
  {
   "cell_type": "markdown",
   "metadata": {},
   "source": [
    "## Data\n",
    "\n",
    "To answer this question I will use a dataset from Kaggle called titanic \n",
    "(link here: [titanic dataset](https://www.kaggle.com/c/titanic)). I collected this by downloading the csv. The data is stored in a csv format. There are 891 rows and 12 columns. The total size of the file is 59 kB. "
   ]
  },
  {
   "cell_type": "markdown",
   "metadata": {},
   "source": [
    "## Data cleaning and manipulation\n",
    "\n",
    "To address my central question I did the following data cleaning steps:\n",
    "    ....\n",
    "    \n",
    "This are all contained in the file data_cleaning_functions.py. "
   ]
  },
  {
   "cell_type": "markdown",
   "metadata": {},
   "source": [
    "## Analysis\n",
    "\n",
    "To present my analysis I first consider a table of survival rates for each class. Here I can see that the proportion of passengers in the first class who survived is much higher than for the second and third classes. "
   ]
  },
  {
   "cell_type": "markdown",
   "metadata": {},
   "source": [
    "However, it is possible that this gap is not trustworthy if there is very little data in one of these classes. So I will also plot survival and include the size of the category in the plot. "
   ]
  },
  {
   "cell_type": "markdown",
   "metadata": {},
   "source": [
    "In the plot although we can see there is more data in the third class the amount of data in the first class is not so small that I am concerned. I do think there is a statistically valid relationship between class and survival. However, to be triple sure, I'll check the correlation coefficient between plcass and survival rate and check that it is statistically significant. "
   ]
  },
  {
   "cell_type": "markdown",
   "metadata": {},
   "source": [
    "Surprisingly, although the correlation coefficient is very strong negative, it is not statistically signifanct (probably because I only have three values and have lost all information about the size of the data). \n"
   ]
  },
  {
   "cell_type": "markdown",
   "metadata": {},
   "source": [
    "Now I see a weaker but much more significant relationship between the two variables. However, it the pearson correlation coefficient isn't really set up for this kind of comparison, so in future work I will use a better measure. "
   ]
  },
  {
   "cell_type": "markdown",
   "metadata": {},
   "source": [
    "## Take-aways\n",
    "For now, I am convinced that as class goes up from 3 -> 1 there is an increase in survival rates. While the relationship is strong and seems to be significant, I will test the significant levels more thoroughly in future work.  "
   ]
  },
  {
   "cell_type": "markdown",
   "metadata": {},
   "source": [
    "## References \n",
    "\n",
    "Include all references to sources for the code, sources for any packages or methods you used and a guide to all of the files you wrote and are including. "
   ]
  },
  {
   "cell_type": "code",
   "execution_count": null,
   "metadata": {},
   "outputs": [],
   "source": []
  }
 ],
 "metadata": {
  "kernelspec": {
   "display_name": "Python 3",
   "language": "python",
   "name": "python3"
  },
  "language_info": {
   "codemirror_mode": {
    "name": "ipython",
    "version": 3
   },
   "file_extension": ".py",
   "mimetype": "text/x-python",
   "name": "python",
   "nbconvert_exporter": "python",
   "pygments_lexer": "ipython3",
   "version": "3.8.3"
  }
 },
 "nbformat": 4,
 "nbformat_minor": 2
}
