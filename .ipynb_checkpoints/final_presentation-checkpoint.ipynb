{
 "cells": [
  {
   "cell_type": "code",
   "execution_count": 37,
   "metadata": {},
   "outputs": [],
   "source": [
    "from setup import *\n",
    "from charts_and_processing import *\n",
    "from merged_and_analysis import *\n",
    "import warnings\n",
    "warnings.filterwarnings('ignore')\n",
    "%matplotlib inline"
   ]
  },
  {
   "cell_type": "code",
   "execution_count": 38,
   "metadata": {},
   "outputs": [],
   "source": [
    "# setup.file_pre_processing()"
   ]
  },
  {
   "cell_type": "code",
   "execution_count": 39,
   "metadata": {},
   "outputs": [],
   "source": [
    "crime_data = pd.read_csv('crime_data_post_processing.csv', index_col=0)\n",
    "hospitals = pd.read_csv('hospitals_data_post_processing.csv', index_col=0)"
   ]
  },
  {
   "cell_type": "code",
   "execution_count": 40,
   "metadata": {
    "scrolled": true
   },
   "outputs": [],
   "source": [
    "hospitals = clean_drop_data_hospitals(hospitals)\n",
    "crime_data = clean_drop_data_crime(crime_data)\n"
   ]
  },
  {
   "cell_type": "code",
   "execution_count": 5,
   "metadata": {},
   "outputs": [
    {
     "data": {
      "text/html": [
       "<div>\n",
       "<style scoped>\n",
       "    .dataframe tbody tr th:only-of-type {\n",
       "        vertical-align: middle;\n",
       "    }\n",
       "\n",
       "    .dataframe tbody tr th {\n",
       "        vertical-align: top;\n",
       "    }\n",
       "\n",
       "    .dataframe thead th {\n",
       "        text-align: right;\n",
       "    }\n",
       "</style>\n",
       "<table border=\"1\" class=\"dataframe\">\n",
       "  <thead>\n",
       "    <tr style=\"text-align: right;\">\n",
       "      <th></th>\n",
       "      <th>Provider ID</th>\n",
       "      <th>Hospital Name</th>\n",
       "      <th>Address</th>\n",
       "      <th>City</th>\n",
       "      <th>State</th>\n",
       "      <th>ZIP Code</th>\n",
       "      <th>Hospital Type</th>\n",
       "      <th>Hospital Ownership</th>\n",
       "      <th>Emergency Services</th>\n",
       "      <th>Hospital overall rating</th>\n",
       "      <th>Mortality national comparison</th>\n",
       "      <th>Patient experience national comparison</th>\n",
       "      <th>Effectiveness of care national comparison</th>\n",
       "      <th>full_address</th>\n",
       "      <th>lat_long</th>\n",
       "    </tr>\n",
       "  </thead>\n",
       "  <tbody>\n",
       "    <tr>\n",
       "      <th>0</th>\n",
       "      <td>10001</td>\n",
       "      <td>SOUTHEAST ALABAMA MEDICAL CENTER</td>\n",
       "      <td>1108 ROSS CLARK CIRCLE</td>\n",
       "      <td>DOTHAN</td>\n",
       "      <td>AL</td>\n",
       "      <td>36301</td>\n",
       "      <td>Acute Care Hospitals</td>\n",
       "      <td>Government - Hospital District or Authority</td>\n",
       "      <td>Yes</td>\n",
       "      <td>3</td>\n",
       "      <td>Same as the national average</td>\n",
       "      <td>Below the national average</td>\n",
       "      <td>Same as the national average</td>\n",
       "      <td>1108 ROSS CLARK CIRCLE DOTHAN AL 36301</td>\n",
       "      <td>(31.216402000000002, -85.36564064472296)</td>\n",
       "    </tr>\n",
       "    <tr>\n",
       "      <th>2</th>\n",
       "      <td>10006</td>\n",
       "      <td>ELIZA COFFEE MEMORIAL HOSPITAL</td>\n",
       "      <td>205 MARENGO STREET</td>\n",
       "      <td>FLORENCE</td>\n",
       "      <td>AL</td>\n",
       "      <td>35631</td>\n",
       "      <td>Acute Care Hospitals</td>\n",
       "      <td>Government - Hospital District or Authority</td>\n",
       "      <td>Yes</td>\n",
       "      <td>2</td>\n",
       "      <td>Below the national average</td>\n",
       "      <td>Below the national average</td>\n",
       "      <td>Same as the national average</td>\n",
       "      <td>205 MARENGO STREET FLORENCE AL 35631</td>\n",
       "      <td>(34.7946245, -87.68303582998244)</td>\n",
       "    </tr>\n",
       "    <tr>\n",
       "      <th>3</th>\n",
       "      <td>10007</td>\n",
       "      <td>MIZELL MEMORIAL HOSPITAL</td>\n",
       "      <td>702 N MAIN ST</td>\n",
       "      <td>OPP</td>\n",
       "      <td>AL</td>\n",
       "      <td>36467</td>\n",
       "      <td>Acute Care Hospitals</td>\n",
       "      <td>Voluntary non-profit - Private</td>\n",
       "      <td>Yes</td>\n",
       "      <td>2</td>\n",
       "      <td>Same as the national average</td>\n",
       "      <td>Same as the national average</td>\n",
       "      <td>Below the national average</td>\n",
       "      <td>702 N MAIN ST OPP AL 36467</td>\n",
       "      <td>(31.2928787, -86.25490030241093)</td>\n",
       "    </tr>\n",
       "    <tr>\n",
       "      <th>4</th>\n",
       "      <td>10008</td>\n",
       "      <td>CRENSHAW COMMUNITY HOSPITAL</td>\n",
       "      <td>101 HOSPITAL CIRCLE</td>\n",
       "      <td>LUVERNE</td>\n",
       "      <td>AL</td>\n",
       "      <td>36049</td>\n",
       "      <td>Acute Care Hospitals</td>\n",
       "      <td>Proprietary</td>\n",
       "      <td>Yes</td>\n",
       "      <td>3</td>\n",
       "      <td>Same as the national average</td>\n",
       "      <td>Not Available</td>\n",
       "      <td>Same as the national average</td>\n",
       "      <td>101 HOSPITAL CIRCLE LUVERNE AL 36049</td>\n",
       "      <td>(31.6937493, -86.26470160380265)</td>\n",
       "    </tr>\n",
       "    <tr>\n",
       "      <th>5</th>\n",
       "      <td>10011</td>\n",
       "      <td>ST VINCENT'S EAST</td>\n",
       "      <td>50 MEDICAL PARK EAST DRIVE</td>\n",
       "      <td>BIRMINGHAM</td>\n",
       "      <td>AL</td>\n",
       "      <td>35235</td>\n",
       "      <td>Acute Care Hospitals</td>\n",
       "      <td>Voluntary non-profit - Private</td>\n",
       "      <td>Yes</td>\n",
       "      <td>2</td>\n",
       "      <td>Same as the national average</td>\n",
       "      <td>Below the national average</td>\n",
       "      <td>Below the national average</td>\n",
       "      <td>50 MEDICAL PARK EAST DRIVE BIRMINGHAM AL 35235</td>\n",
       "      <td>(33.595315299999996, -86.66763066940506)</td>\n",
       "    </tr>\n",
       "  </tbody>\n",
       "</table>\n",
       "</div>"
      ],
      "text/plain": [
       "   Provider ID                     Hospital Name                     Address  \\\n",
       "0        10001  SOUTHEAST ALABAMA MEDICAL CENTER      1108 ROSS CLARK CIRCLE   \n",
       "2        10006    ELIZA COFFEE MEMORIAL HOSPITAL          205 MARENGO STREET   \n",
       "3        10007          MIZELL MEMORIAL HOSPITAL               702 N MAIN ST   \n",
       "4        10008       CRENSHAW COMMUNITY HOSPITAL         101 HOSPITAL CIRCLE   \n",
       "5        10011                 ST VINCENT'S EAST  50 MEDICAL PARK EAST DRIVE   \n",
       "\n",
       "         City State  ZIP Code         Hospital Type  \\\n",
       "0      DOTHAN    AL     36301  Acute Care Hospitals   \n",
       "2    FLORENCE    AL     35631  Acute Care Hospitals   \n",
       "3         OPP    AL     36467  Acute Care Hospitals   \n",
       "4     LUVERNE    AL     36049  Acute Care Hospitals   \n",
       "5  BIRMINGHAM    AL     35235  Acute Care Hospitals   \n",
       "\n",
       "                            Hospital Ownership Emergency Services  \\\n",
       "0  Government - Hospital District or Authority                Yes   \n",
       "2  Government - Hospital District or Authority                Yes   \n",
       "3               Voluntary non-profit - Private                Yes   \n",
       "4                                  Proprietary                Yes   \n",
       "5               Voluntary non-profit - Private                Yes   \n",
       "\n",
       "   Hospital overall rating Mortality national comparison  \\\n",
       "0                        3  Same as the national average   \n",
       "2                        2    Below the national average   \n",
       "3                        2  Same as the national average   \n",
       "4                        3  Same as the national average   \n",
       "5                        2  Same as the national average   \n",
       "\n",
       "  Patient experience national comparison  \\\n",
       "0             Below the national average   \n",
       "2             Below the national average   \n",
       "3           Same as the national average   \n",
       "4                          Not Available   \n",
       "5             Below the national average   \n",
       "\n",
       "  Effectiveness of care national comparison  \\\n",
       "0              Same as the national average   \n",
       "2              Same as the national average   \n",
       "3                Below the national average   \n",
       "4              Same as the national average   \n",
       "5                Below the national average   \n",
       "\n",
       "                                     full_address  \\\n",
       "0          1108 ROSS CLARK CIRCLE DOTHAN AL 36301   \n",
       "2            205 MARENGO STREET FLORENCE AL 35631   \n",
       "3                      702 N MAIN ST OPP AL 36467   \n",
       "4            101 HOSPITAL CIRCLE LUVERNE AL 36049   \n",
       "5  50 MEDICAL PARK EAST DRIVE BIRMINGHAM AL 35235   \n",
       "\n",
       "                                   lat_long  \n",
       "0  (31.216402000000002, -85.36564064472296)  \n",
       "2          (34.7946245, -87.68303582998244)  \n",
       "3          (31.2928787, -86.25490030241093)  \n",
       "4          (31.6937493, -86.26470160380265)  \n",
       "5  (33.595315299999996, -86.66763066940506)  "
      ]
     },
     "execution_count": 5,
     "metadata": {},
     "output_type": "execute_result"
    }
   ],
   "source": [
    "hospitals.head()"
   ]
  },
  {
   "cell_type": "code",
   "execution_count": 6,
   "metadata": {},
   "outputs": [
    {
     "data": {
      "text/html": [
       "<div>\n",
       "<style scoped>\n",
       "    .dataframe tbody tr th:only-of-type {\n",
       "        vertical-align: middle;\n",
       "    }\n",
       "\n",
       "    .dataframe tbody tr th {\n",
       "        vertical-align: top;\n",
       "    }\n",
       "\n",
       "    .dataframe thead th {\n",
       "        text-align: right;\n",
       "    }\n",
       "</style>\n",
       "<table border=\"1\" class=\"dataframe\">\n",
       "  <thead>\n",
       "    <tr style=\"text-align: right;\">\n",
       "      <th></th>\n",
       "      <th>county_name</th>\n",
       "      <th>crime_rate_per_100000</th>\n",
       "      <th>MURDER</th>\n",
       "      <th>RAPE</th>\n",
       "      <th>ROBBERY</th>\n",
       "      <th>AGASSLT</th>\n",
       "      <th>BURGLRY</th>\n",
       "      <th>LARCENY</th>\n",
       "      <th>population</th>\n",
       "      <th>lat_long</th>\n",
       "    </tr>\n",
       "  </thead>\n",
       "  <tbody>\n",
       "    <tr>\n",
       "      <th>0</th>\n",
       "      <td>St. Louis city, MO</td>\n",
       "      <td>1791.995377</td>\n",
       "      <td>119</td>\n",
       "      <td>200</td>\n",
       "      <td>1778</td>\n",
       "      <td>3609</td>\n",
       "      <td>4995</td>\n",
       "      <td>13791</td>\n",
       "      <td>318416</td>\n",
       "      <td>(29.6993748, -91.20677)</td>\n",
       "    </tr>\n",
       "    <tr>\n",
       "      <th>1</th>\n",
       "      <td>Crittenden County, AR</td>\n",
       "      <td>1754.914968</td>\n",
       "      <td>8</td>\n",
       "      <td>38</td>\n",
       "      <td>165</td>\n",
       "      <td>662</td>\n",
       "      <td>1482</td>\n",
       "      <td>1753</td>\n",
       "      <td>49746</td>\n",
       "      <td>(35.2505701, -90.3192299)</td>\n",
       "    </tr>\n",
       "    <tr>\n",
       "      <th>2</th>\n",
       "      <td>Alexander County, IL</td>\n",
       "      <td>1664.700485</td>\n",
       "      <td>1</td>\n",
       "      <td>2</td>\n",
       "      <td>5</td>\n",
       "      <td>119</td>\n",
       "      <td>82</td>\n",
       "      <td>184</td>\n",
       "      <td>7629</td>\n",
       "      <td>(37.1801529, -89.3502834)</td>\n",
       "    </tr>\n",
       "    <tr>\n",
       "      <th>3</th>\n",
       "      <td>Kenedy County, TX</td>\n",
       "      <td>1456.310680</td>\n",
       "      <td>0</td>\n",
       "      <td>3</td>\n",
       "      <td>1</td>\n",
       "      <td>2</td>\n",
       "      <td>5</td>\n",
       "      <td>4</td>\n",
       "      <td>412</td>\n",
       "      <td>(27.221984, -97.79136)</td>\n",
       "    </tr>\n",
       "    <tr>\n",
       "      <th>4</th>\n",
       "      <td>De Soto Parish, LA</td>\n",
       "      <td>1447.402430</td>\n",
       "      <td>3</td>\n",
       "      <td>4</td>\n",
       "      <td>17</td>\n",
       "      <td>368</td>\n",
       "      <td>149</td>\n",
       "      <td>494</td>\n",
       "      <td>27083</td>\n",
       "      <td>(31.901498, -93.670989)</td>\n",
       "    </tr>\n",
       "  </tbody>\n",
       "</table>\n",
       "</div>"
      ],
      "text/plain": [
       "             county_name  crime_rate_per_100000  MURDER  RAPE  ROBBERY  \\\n",
       "0     St. Louis city, MO            1791.995377     119   200     1778   \n",
       "1  Crittenden County, AR            1754.914968       8    38      165   \n",
       "2   Alexander County, IL            1664.700485       1     2        5   \n",
       "3      Kenedy County, TX            1456.310680       0     3        1   \n",
       "4     De Soto Parish, LA            1447.402430       3     4       17   \n",
       "\n",
       "   AGASSLT  BURGLRY  LARCENY  population                   lat_long  \n",
       "0     3609     4995    13791      318416    (29.6993748, -91.20677)  \n",
       "1      662     1482     1753       49746  (35.2505701, -90.3192299)  \n",
       "2      119       82      184        7629  (37.1801529, -89.3502834)  \n",
       "3        2        5        4         412     (27.221984, -97.79136)  \n",
       "4      368      149      494       27083    (31.901498, -93.670989)  "
      ]
     },
     "execution_count": 6,
     "metadata": {},
     "output_type": "execute_result"
    }
   ],
   "source": [
    "crime_data.head()"
   ]
  },
  {
   "cell_type": "code",
   "execution_count": 7,
   "metadata": {},
   "outputs": [
    {
     "data": {
      "image/png": "[encoded data removed]",
      "text/plain": [
       "<Figure size 432x288 with 2 Axes>"
      ]
     },
     "metadata": {
      "needs_background": "light"
     },
     "output_type": "display_data"
    }
   ],
   "source": [
    "# 18.2s: %timeit hospitals['county'], hospitals['distance_in_miles'] = zip(*hospitals['lat_long'].map(find_hospital_closest_county))\n",
    "# 18.2s: %timeit hospitals['county'], hospitals['distance_in_miles'] = zip(*hospitals['lat_long'].apply(find_hospital_closest_county))\n",
    "# 17.7s:\n",
    "hospitals['county'], hospitals['distance_in_miles'] = zip(*hospitals['lat_long'].apply(lambda x : find_hospital_closest_county(x,crime_data)))\n",
    "hospitals = hospitals.drop(hospitals[hospitals['distance_in_miles'] > 50].index)\n",
    "\n",
    "\n",
    "crime_vs_care_chart(hospitals, crime_data)"
   ]
  },
  {
   "cell_type": "code",
   "execution_count": 8,
   "metadata": {
    "scrolled": true
   },
   "outputs": [
    {
     "data": {
      "image/png": "[encoded data removed]",
      "text/plain": [
       "<Figure size 720x504 with 1 Axes>"
      ]
     },
     "metadata": {
      "needs_background": "light"
     },
     "output_type": "display_data"
    }
   ],
   "source": [
    "mortality_murder_chart(crime_data, hospitals)"
   ]
  },
  {
   "cell_type": "code",
   "execution_count": null,
   "metadata": {},
   "outputs": [],
   "source": []
  },
  {
   "cell_type": "markdown",
   "metadata": {},
   "source": [
    "### Merging hospitals and crime data on county name"
   ]
  },
  {
   "cell_type": "code",
   "execution_count": 9,
   "metadata": {
    "scrolled": true
   },
   "outputs": [],
   "source": [
    "distances, no_unrated_hospitals, crime_rate_by_pop = merge_dataframes_and_analysis(hospitals, crime_data)"
   ]
  },
  {
   "cell_type": "markdown",
   "metadata": {},
   "source": [
    "### Density plot of distances from hospital to nearest county. ~2/3 are within the county"
   ]
  },
  {
   "cell_type": "code",
   "execution_count": 10,
   "metadata": {},
   "outputs": [
    {
     "data": {
      "text/plain": [
       "<AxesSubplot:ylabel='Density'>"
      ]
     },
     "execution_count": 10,
     "metadata": {},
     "output_type": "execute_result"
    },
    {
     "data": {
      "image/png": "[encoded data removed]",
      "text/plain": [
       "<Figure size 720x504 with 1 Axes>"
      ]
     },
     "metadata": {
      "needs_background": "light"
     },
     "output_type": "display_data"
    }
   ],
   "source": [
    "distances.plot.density()"
   ]
  },
  {
   "cell_type": "markdown",
   "metadata": {},
   "source": [
    "#### The analysis of the 2000 UCR crime data for the 1,294 cities with populations over 25,000 revealed a significant positive relationship between crime rate and population size, indicating that the higher populated cities reported the higher crime rates.\n",
    "\n",
    "(Nolan, James J., 'Establishing the statistical relationship between population size and UCR crime rate: Its impact and implications', Journal of Criminal Justice\n",
    "Volume 32, Issue 6, November–December 2004, Pages 547-555, https://www.sciencedirect.com/science/article/pii/S0047235204000832)"
   ]
  },
  {
   "cell_type": "markdown",
   "metadata": {},
   "source": [
    "#### So there is evidence to show that higher populated areas reported higher crime rates, which is evidenced in our data by grouping counties by population size and examining crime rates:"
   ]
  },
  {
   "cell_type": "code",
   "execution_count": 11,
   "metadata": {},
   "outputs": [
    {
     "data": {
      "text/plain": [
       "pop_bin\n",
       "(94.999, 10790.5]         137.867448\n",
       "(10790.5, 17713.0]        189.695766\n",
       "(17713.0, 27887.2]        255.346597\n",
       "(27887.2, 41665.2]        225.378690\n",
       "(41665.2, 63620.0]        232.167572\n",
       "(63620.0, 110079.2]       267.830101\n",
       "(110079.2, 194020.0]      277.235795\n",
       "(194020.0, 413632.6]      370.783679\n",
       "(413632.6, 970264.7]      497.372669\n",
       "(970264.7, 10017068.0]    480.663663\n",
       "Name: crime_rate_per_100000, dtype: float64"
      ]
     },
     "execution_count": 11,
     "metadata": {},
     "output_type": "execute_result"
    }
   ],
   "source": [
    "crime_rate_by_pop"
   ]
  },
  {
   "cell_type": "markdown",
   "metadata": {},
   "source": [
    "#### It seems our data supports this conclusion. But what can county populations tell us about the quality of hospitals? Does crime play a part in the quality of hospitals?"
   ]
  },
  {
   "cell_type": "code",
   "execution_count": 12,
   "metadata": {},
   "outputs": [
    {
     "data": {
      "text/plain": [
       "pop_bin\n",
       "(94.999, 10790.5]         3.086667\n",
       "(10790.5, 17713.0]        3.172757\n",
       "(17713.0, 27887.2]        3.187291\n",
       "(27887.2, 41665.2]        3.203333\n",
       "(41665.2, 63620.0]        3.150000\n",
       "(63620.0, 110079.2]       3.136667\n",
       "(110079.2, 194020.0]      3.089701\n",
       "(194020.0, 413632.6]      3.043478\n",
       "(413632.6, 970264.7]      2.940000\n",
       "(970264.7, 10017068.0]    2.783333\n",
       "Name: Hospital overall rating, dtype: float64"
      ]
     },
     "execution_count": 12,
     "metadata": {},
     "output_type": "execute_result"
    }
   ],
   "source": [
    "no_unrated_hospitals.groupby('pop_bin')['Hospital overall rating'].mean()"
   ]
  },
  {
   "cell_type": "markdown",
   "metadata": {},
   "source": [
    "#### It would seem that there is not an enormously noticeable difference between different county populations and hospital ratings, though the counties with the largest populations did, on average, seem to have the lowest  hospital ratings. Perhaps we can look to try and find some kind of relationship between crime rates and other crime metrics versus the quality of hospitals."
   ]
  },
  {
   "cell_type": "code",
   "execution_count": 13,
   "metadata": {},
   "outputs": [
    {
     "data": {
      "image/png": "[encoded data removed]",
      "text/plain": [
       "<Figure size 720x504 with 1 Axes>"
      ]
     },
     "metadata": {
      "needs_background": "light"
     },
     "output_type": "display_data"
    }
   ],
   "source": [
    "r_sq = hospital_rating_vs_crime(no_unrated_hospitals)"
   ]
  },
  {
   "cell_type": "code",
   "execution_count": 14,
   "metadata": {},
   "outputs": [
    {
     "data": {
      "text/plain": [
       "'Coefficient of Determination: 0.7748650630657178'"
      ]
     },
     "execution_count": 14,
     "metadata": {},
     "output_type": "execute_result"
    }
   ],
   "source": [
    "r_sq"
   ]
  },
  {
   "cell_type": "code",
   "execution_count": 15,
   "metadata": {},
   "outputs": [
    {
     "data": {
      "text/plain": [
       "crime_rate_bin\n",
       "(-0.001, 63.709]       3.203333\n",
       "(63.709, 108.947]      3.256667\n",
       "(108.947, 150.425]     3.120000\n",
       "(150.425, 192.612]     3.243333\n",
       "(192.612, 239.653]     3.123333\n",
       "(239.653, 298.366]     3.120000\n",
       "(298.366, 374.904]     2.990066\n",
       "(374.904, 444.801]     2.971609\n",
       "(444.801, 583.327]     2.946996\n",
       "(583.327, 1791.995]    2.815436\n",
       "Name: Hospital overall rating, dtype: float64"
      ]
     },
     "execution_count": 15,
     "metadata": {},
     "output_type": "execute_result"
    },
    {
     "data": {
      "image/png": "[encoded data removed]",
      "text/plain": [
       "<Figure size 720x504 with 1 Axes>"
      ]
     },
     "metadata": {
      "needs_background": "light"
     },
     "output_type": "display_data"
    }
   ],
   "source": [
    "groupby, r_sq2 = crime_vs_hospital_rating(no_unrated_hospitals)\n",
    "groupby"
   ]
  },
  {
   "cell_type": "code",
   "execution_count": 16,
   "metadata": {},
   "outputs": [
    {
     "data": {
      "text/plain": [
       "'Coefficient of Determination: 0.8375126921639457'"
      ]
     },
     "execution_count": 16,
     "metadata": {},
     "output_type": "execute_result"
    }
   ],
   "source": [
    "r_sq2"
   ]
  },
  {
   "cell_type": "markdown",
   "metadata": {},
   "source": [
    "#### The R-Squared coefficient of determination measures the proportion of variation in the dependent variable that can be attributed to the independent variable. In this instance, ~83% of the variation in hospital rating seemingly can be attributed to crime rates. But this is misleading: we already know crime rates increase with population size and that hospital rating decreases with increasing population size, so it could be possible that population size is a confounding variable which makes it hard to verify that hospital rating and crime rates are directly related."
   ]
  },
  {
   "cell_type": "markdown",
   "metadata": {},
   "source": [
    "#### What if we tried to control for population size?"
   ]
  },
  {
   "cell_type": "code",
   "execution_count": 17,
   "metadata": {},
   "outputs": [],
   "source": [
    "grouped, standardized, d, i, std_reduction, std_increase = control_for_population_size(no_unrated_hospitals)"
   ]
  },
  {
   "cell_type": "code",
   "execution_count": 18,
   "metadata": {
    "scrolled": true
   },
   "outputs": [
    {
     "data": {
      "text/html": [
       "<div>\n",
       "<style scoped>\n",
       "    .dataframe tbody tr th:only-of-type {\n",
       "        vertical-align: middle;\n",
       "    }\n",
       "\n",
       "    .dataframe tbody tr th {\n",
       "        vertical-align: top;\n",
       "    }\n",
       "\n",
       "    .dataframe thead th {\n",
       "        text-align: right;\n",
       "    }\n",
       "</style>\n",
       "<table border=\"1\" class=\"dataframe\">\n",
       "  <thead>\n",
       "    <tr style=\"text-align: right;\">\n",
       "      <th>pop_bin</th>\n",
       "      <th>(94.999, 6401.8]</th>\n",
       "      <th>(6401.8, 10790.5]</th>\n",
       "      <th>(10790.5, 14055.9]</th>\n",
       "      <th>(14055.9, 17713.0]</th>\n",
       "      <th>(17713.0, 22449.25]</th>\n",
       "      <th>(22449.25, 27887.2]</th>\n",
       "      <th>(27887.2, 34689.0]</th>\n",
       "      <th>(34689.0, 41665.2]</th>\n",
       "      <th>(41665.2, 49873.2]</th>\n",
       "      <th>(49873.2, 63620.0]</th>\n",
       "      <th>(63620.0, 81174.0]</th>\n",
       "      <th>(81174.0, 110079.2]</th>\n",
       "      <th>(110079.2, 147590.4]</th>\n",
       "      <th>(147590.4, 194020.0]</th>\n",
       "      <th>(194020.0, 270937.0]</th>\n",
       "      <th>(270937.0, 413632.6]</th>\n",
       "      <th>(413632.6, 687802.0]</th>\n",
       "      <th>(687802.0, 970264.7]</th>\n",
       "      <th>(970264.7, 2088371.0]</th>\n",
       "      <th>(2088371.0, 10017068.0]</th>\n",
       "    </tr>\n",
       "    <tr>\n",
       "      <th>Hospital overall rating</th>\n",
       "      <th></th>\n",
       "      <th></th>\n",
       "      <th></th>\n",
       "      <th></th>\n",
       "      <th></th>\n",
       "      <th></th>\n",
       "      <th></th>\n",
       "      <th></th>\n",
       "      <th></th>\n",
       "      <th></th>\n",
       "      <th></th>\n",
       "      <th></th>\n",
       "      <th></th>\n",
       "      <th></th>\n",
       "      <th></th>\n",
       "      <th></th>\n",
       "      <th></th>\n",
       "      <th></th>\n",
       "      <th></th>\n",
       "      <th></th>\n",
       "    </tr>\n",
       "  </thead>\n",
       "  <tbody>\n",
       "    <tr>\n",
       "      <th>1</th>\n",
       "      <td>102.599179</td>\n",
       "      <td>156.376392</td>\n",
       "      <td>71.556351</td>\n",
       "      <td>230.205367</td>\n",
       "      <td>187.123303</td>\n",
       "      <td>254.334280</td>\n",
       "      <td>NaN</td>\n",
       "      <td>NaN</td>\n",
       "      <td>182.032159</td>\n",
       "      <td>180.907640</td>\n",
       "      <td>167.157580</td>\n",
       "      <td>387.974854</td>\n",
       "      <td>206.134140</td>\n",
       "      <td>230.438358</td>\n",
       "      <td>363.291500</td>\n",
       "      <td>585.783354</td>\n",
       "      <td>850.080680</td>\n",
       "      <td>569.348735</td>\n",
       "      <td>618.439233</td>\n",
       "      <td>580.623128</td>\n",
       "    </tr>\n",
       "    <tr>\n",
       "      <th>2</th>\n",
       "      <td>96.226447</td>\n",
       "      <td>191.926925</td>\n",
       "      <td>158.057816</td>\n",
       "      <td>206.442535</td>\n",
       "      <td>301.922419</td>\n",
       "      <td>403.756885</td>\n",
       "      <td>251.978560</td>\n",
       "      <td>315.975128</td>\n",
       "      <td>249.919965</td>\n",
       "      <td>284.277816</td>\n",
       "      <td>335.366917</td>\n",
       "      <td>263.379617</td>\n",
       "      <td>275.911174</td>\n",
       "      <td>326.404943</td>\n",
       "      <td>363.765486</td>\n",
       "      <td>415.813923</td>\n",
       "      <td>500.958664</td>\n",
       "      <td>553.980471</td>\n",
       "      <td>484.009921</td>\n",
       "      <td>444.480223</td>\n",
       "    </tr>\n",
       "    <tr>\n",
       "      <th>3</th>\n",
       "      <td>90.838155</td>\n",
       "      <td>193.092094</td>\n",
       "      <td>211.870314</td>\n",
       "      <td>169.387297</td>\n",
       "      <td>261.431114</td>\n",
       "      <td>262.484424</td>\n",
       "      <td>214.250684</td>\n",
       "      <td>269.087879</td>\n",
       "      <td>235.676633</td>\n",
       "      <td>265.894046</td>\n",
       "      <td>264.790707</td>\n",
       "      <td>280.792058</td>\n",
       "      <td>279.730371</td>\n",
       "      <td>272.589562</td>\n",
       "      <td>352.077342</td>\n",
       "      <td>431.329916</td>\n",
       "      <td>411.478919</td>\n",
       "      <td>505.446774</td>\n",
       "      <td>469.484938</td>\n",
       "      <td>467.851359</td>\n",
       "    </tr>\n",
       "    <tr>\n",
       "      <th>4</th>\n",
       "      <td>98.221078</td>\n",
       "      <td>147.588230</td>\n",
       "      <td>198.660120</td>\n",
       "      <td>195.187698</td>\n",
       "      <td>216.289231</td>\n",
       "      <td>193.155618</td>\n",
       "      <td>169.721641</td>\n",
       "      <td>171.637743</td>\n",
       "      <td>192.221920</td>\n",
       "      <td>183.868174</td>\n",
       "      <td>229.824954</td>\n",
       "      <td>237.137806</td>\n",
       "      <td>234.031829</td>\n",
       "      <td>293.299067</td>\n",
       "      <td>304.899770</td>\n",
       "      <td>345.191006</td>\n",
       "      <td>449.052650</td>\n",
       "      <td>576.893348</td>\n",
       "      <td>515.145335</td>\n",
       "      <td>426.670438</td>\n",
       "    </tr>\n",
       "    <tr>\n",
       "      <th>5</th>\n",
       "      <td>99.177632</td>\n",
       "      <td>99.488575</td>\n",
       "      <td>203.166361</td>\n",
       "      <td>38.839979</td>\n",
       "      <td>272.000899</td>\n",
       "      <td>225.803114</td>\n",
       "      <td>210.678271</td>\n",
       "      <td>NaN</td>\n",
       "      <td>232.166351</td>\n",
       "      <td>188.130273</td>\n",
       "      <td>NaN</td>\n",
       "      <td>232.313638</td>\n",
       "      <td>344.543816</td>\n",
       "      <td>410.009157</td>\n",
       "      <td>443.602085</td>\n",
       "      <td>378.273035</td>\n",
       "      <td>395.532454</td>\n",
       "      <td>559.056971</td>\n",
       "      <td>396.610574</td>\n",
       "      <td>537.598508</td>\n",
       "    </tr>\n",
       "  </tbody>\n",
       "</table>\n",
       "</div>"
      ],
      "text/plain": [
       "pop_bin                  (94.999, 6401.8]  (6401.8, 10790.5]  \\\n",
       "Hospital overall rating                                        \n",
       "1                              102.599179         156.376392   \n",
       "2                               96.226447         191.926925   \n",
       "3                               90.838155         193.092094   \n",
       "4                               98.221078         147.588230   \n",
       "5                               99.177632          99.488575   \n",
       "\n",
       "pop_bin                  (10790.5, 14055.9]  (14055.9, 17713.0]  \\\n",
       "Hospital overall rating                                           \n",
       "1                                 71.556351          230.205367   \n",
       "2                                158.057816          206.442535   \n",
       "3                                211.870314          169.387297   \n",
       "4                                198.660120          195.187698   \n",
       "5                                203.166361           38.839979   \n",
       "\n",
       "pop_bin                  (17713.0, 22449.25]  (22449.25, 27887.2]  \\\n",
       "Hospital overall rating                                             \n",
       "1                                 187.123303           254.334280   \n",
       "2                                 301.922419           403.756885   \n",
       "3                                 261.431114           262.484424   \n",
       "4                                 216.289231           193.155618   \n",
       "5                                 272.000899           225.803114   \n",
       "\n",
       "pop_bin                  (27887.2, 34689.0]  (34689.0, 41665.2]  \\\n",
       "Hospital overall rating                                           \n",
       "1                                       NaN                 NaN   \n",
       "2                                251.978560          315.975128   \n",
       "3                                214.250684          269.087879   \n",
       "4                                169.721641          171.637743   \n",
       "5                                210.678271                 NaN   \n",
       "\n",
       "pop_bin                  (41665.2, 49873.2]  (49873.2, 63620.0]  \\\n",
       "Hospital overall rating                                           \n",
       "1                                182.032159          180.907640   \n",
       "2                                249.919965          284.277816   \n",
       "3                                235.676633          265.894046   \n",
       "4                                192.221920          183.868174   \n",
       "5                                232.166351          188.130273   \n",
       "\n",
       "pop_bin                  (63620.0, 81174.0]  (81174.0, 110079.2]  \\\n",
       "Hospital overall rating                                            \n",
       "1                                167.157580           387.974854   \n",
       "2                                335.366917           263.379617   \n",
       "3                                264.790707           280.792058   \n",
       "4                                229.824954           237.137806   \n",
       "5                                       NaN           232.313638   \n",
       "\n",
       "pop_bin                  (110079.2, 147590.4]  (147590.4, 194020.0]  \\\n",
       "Hospital overall rating                                               \n",
       "1                                  206.134140            230.438358   \n",
       "2                                  275.911174            326.404943   \n",
       "3                                  279.730371            272.589562   \n",
       "4                                  234.031829            293.299067   \n",
       "5                                  344.543816            410.009157   \n",
       "\n",
       "pop_bin                  (194020.0, 270937.0]  (270937.0, 413632.6]  \\\n",
       "Hospital overall rating                                               \n",
       "1                                  363.291500            585.783354   \n",
       "2                                  363.765486            415.813923   \n",
       "3                                  352.077342            431.329916   \n",
       "4                                  304.899770            345.191006   \n",
       "5                                  443.602085            378.273035   \n",
       "\n",
       "pop_bin                  (413632.6, 687802.0]  (687802.0, 970264.7]  \\\n",
       "Hospital overall rating                                               \n",
       "1                                  850.080680            569.348735   \n",
       "2                                  500.958664            553.980471   \n",
       "3                                  411.478919            505.446774   \n",
       "4                                  449.052650            576.893348   \n",
       "5                                  395.532454            559.056971   \n",
       "\n",
       "pop_bin                  (970264.7, 2088371.0]  (2088371.0, 10017068.0]  \n",
       "Hospital overall rating                                                  \n",
       "1                                   618.439233               580.623128  \n",
       "2                                   484.009921               444.480223  \n",
       "3                                   469.484938               467.851359  \n",
       "4                                   515.145335               426.670438  \n",
       "5                                   396.610574               537.598508  "
      ]
     },
     "execution_count": 18,
     "metadata": {},
     "output_type": "execute_result"
    }
   ],
   "source": [
    "grouped"
   ]
  },
  {
   "cell_type": "markdown",
   "metadata": {},
   "source": [
    "#### After normalizing (mean normalization):"
   ]
  },
  {
   "cell_type": "code",
   "execution_count": 19,
   "metadata": {},
   "outputs": [
    {
     "data": {
      "text/html": [
       "<div>\n",
       "<style scoped>\n",
       "    .dataframe tbody tr th:only-of-type {\n",
       "        vertical-align: middle;\n",
       "    }\n",
       "\n",
       "    .dataframe tbody tr th {\n",
       "        vertical-align: top;\n",
       "    }\n",
       "\n",
       "    .dataframe thead th {\n",
       "        text-align: right;\n",
       "    }\n",
       "</style>\n",
       "<table border=\"1\" class=\"dataframe\">\n",
       "  <thead>\n",
       "    <tr style=\"text-align: right;\">\n",
       "      <th>pop_bin</th>\n",
       "      <th>(94.999, 6401.8]</th>\n",
       "      <th>(6401.8, 10790.5]</th>\n",
       "      <th>(10790.5, 14055.9]</th>\n",
       "      <th>(14055.9, 17713.0]</th>\n",
       "      <th>(17713.0, 22449.25]</th>\n",
       "      <th>(22449.25, 27887.2]</th>\n",
       "      <th>(27887.2, 34689.0]</th>\n",
       "      <th>(34689.0, 41665.2]</th>\n",
       "      <th>(41665.2, 49873.2]</th>\n",
       "      <th>(49873.2, 63620.0]</th>\n",
       "      <th>(63620.0, 81174.0]</th>\n",
       "      <th>(81174.0, 110079.2]</th>\n",
       "      <th>(110079.2, 147590.4]</th>\n",
       "      <th>(147590.4, 194020.0]</th>\n",
       "      <th>(194020.0, 270937.0]</th>\n",
       "      <th>(270937.0, 413632.6]</th>\n",
       "      <th>(413632.6, 687802.0]</th>\n",
       "      <th>(687802.0, 970264.7]</th>\n",
       "      <th>(970264.7, 2088371.0]</th>\n",
       "      <th>(2088371.0, 10017068.0]</th>\n",
       "    </tr>\n",
       "    <tr>\n",
       "      <th>Hospital overall rating</th>\n",
       "      <th></th>\n",
       "      <th></th>\n",
       "      <th></th>\n",
       "      <th></th>\n",
       "      <th></th>\n",
       "      <th></th>\n",
       "      <th></th>\n",
       "      <th></th>\n",
       "      <th></th>\n",
       "      <th></th>\n",
       "      <th></th>\n",
       "      <th></th>\n",
       "      <th></th>\n",
       "      <th></th>\n",
       "      <th></th>\n",
       "      <th></th>\n",
       "      <th></th>\n",
       "      <th></th>\n",
       "      <th></th>\n",
       "      <th></th>\n",
       "    </tr>\n",
       "  </thead>\n",
       "  <tbody>\n",
       "    <tr>\n",
       "      <th>1</th>\n",
       "      <td>1.195425</td>\n",
       "      <td>-0.034271</td>\n",
       "      <td>-1.671548</td>\n",
       "      <td>0.824293</td>\n",
       "      <td>-1.325006</td>\n",
       "      <td>-0.168252</td>\n",
       "      <td>NaN</td>\n",
       "      <td>NaN</td>\n",
       "      <td>-1.231436</td>\n",
       "      <td>-0.790789</td>\n",
       "      <td>-1.170302</td>\n",
       "      <td>1.699733</td>\n",
       "      <td>-1.178916</td>\n",
       "      <td>-1.127711</td>\n",
       "      <td>-0.044804</td>\n",
       "      <td>1.667732</td>\n",
       "      <td>1.746757</td>\n",
       "      <td>0.585734</td>\n",
       "      <td>1.507194</td>\n",
       "      <td>1.366288</td>\n",
       "    </tr>\n",
       "    <tr>\n",
       "      <th>2</th>\n",
       "      <td>-0.273361</td>\n",
       "      <td>0.890083</td>\n",
       "      <td>-0.182540</td>\n",
       "      <td>0.509344</td>\n",
       "      <td>1.183806</td>\n",
       "      <td>1.684063</td>\n",
       "      <td>1.199116</td>\n",
       "      <td>0.865701</td>\n",
       "      <td>1.067069</td>\n",
       "      <td>1.267842</td>\n",
       "      <td>1.226652</td>\n",
       "      <td>-0.267460</td>\n",
       "      <td>0.149247</td>\n",
       "      <td>0.294215</td>\n",
       "      <td>-0.035305</td>\n",
       "      <td>-0.166922</td>\n",
       "      <td>-0.108751</td>\n",
       "      <td>0.036965</td>\n",
       "      <td>-0.157629</td>\n",
       "      <td>-0.719536</td>\n",
       "    </tr>\n",
       "    <tr>\n",
       "      <th>3</th>\n",
       "      <td>-1.515253</td>\n",
       "      <td>0.920378</td>\n",
       "      <td>0.743770</td>\n",
       "      <td>0.018220</td>\n",
       "      <td>0.298912</td>\n",
       "      <td>-0.067219</td>\n",
       "      <td>0.077125</td>\n",
       "      <td>0.228905</td>\n",
       "      <td>0.584827</td>\n",
       "      <td>0.901727</td>\n",
       "      <td>0.220953</td>\n",
       "      <td>0.007460</td>\n",
       "      <td>0.221943</td>\n",
       "      <td>-0.503162</td>\n",
       "      <td>-0.269532</td>\n",
       "      <td>0.000558</td>\n",
       "      <td>-0.584317</td>\n",
       "      <td>-1.696073</td>\n",
       "      <td>-0.337512</td>\n",
       "      <td>-0.361470</td>\n",
       "    </tr>\n",
       "    <tr>\n",
       "      <th>4</th>\n",
       "      <td>0.186361</td>\n",
       "      <td>-0.262773</td>\n",
       "      <td>0.516375</td>\n",
       "      <td>0.360174</td>\n",
       "      <td>-0.687616</td>\n",
       "      <td>-0.926653</td>\n",
       "      <td>-1.247126</td>\n",
       "      <td>-1.094607</td>\n",
       "      <td>-0.886437</td>\n",
       "      <td>-0.731830</td>\n",
       "      <td>-0.277303</td>\n",
       "      <td>-0.681783</td>\n",
       "      <td>-0.647901</td>\n",
       "      <td>-0.196311</td>\n",
       "      <td>-1.214959</td>\n",
       "      <td>-0.929228</td>\n",
       "      <td>-0.384620</td>\n",
       "      <td>0.855137</td>\n",
       "      <td>0.227963</td>\n",
       "      <td>-0.992397</td>\n",
       "    </tr>\n",
       "    <tr>\n",
       "      <th>5</th>\n",
       "      <td>0.406828</td>\n",
       "      <td>-1.513417</td>\n",
       "      <td>0.593943</td>\n",
       "      <td>-1.712032</td>\n",
       "      <td>0.529903</td>\n",
       "      <td>-0.521939</td>\n",
       "      <td>-0.029115</td>\n",
       "      <td>NaN</td>\n",
       "      <td>0.465978</td>\n",
       "      <td>-0.646949</td>\n",
       "      <td>NaN</td>\n",
       "      <td>-0.757950</td>\n",
       "      <td>1.455627</td>\n",
       "      <td>1.532969</td>\n",
       "      <td>1.564600</td>\n",
       "      <td>-0.572139</td>\n",
       "      <td>-0.669069</td>\n",
       "      <td>0.218237</td>\n",
       "      <td>-1.240016</td>\n",
       "      <td>0.707115</td>\n",
       "    </tr>\n",
       "  </tbody>\n",
       "</table>\n",
       "</div>"
      ],
      "text/plain": [
       "pop_bin                  (94.999, 6401.8]  (6401.8, 10790.5]  \\\n",
       "Hospital overall rating                                        \n",
       "1                                1.195425          -0.034271   \n",
       "2                               -0.273361           0.890083   \n",
       "3                               -1.515253           0.920378   \n",
       "4                                0.186361          -0.262773   \n",
       "5                                0.406828          -1.513417   \n",
       "\n",
       "pop_bin                  (10790.5, 14055.9]  (14055.9, 17713.0]  \\\n",
       "Hospital overall rating                                           \n",
       "1                                 -1.671548            0.824293   \n",
       "2                                 -0.182540            0.509344   \n",
       "3                                  0.743770            0.018220   \n",
       "4                                  0.516375            0.360174   \n",
       "5                                  0.593943           -1.712032   \n",
       "\n",
       "pop_bin                  (17713.0, 22449.25]  (22449.25, 27887.2]  \\\n",
       "Hospital overall rating                                             \n",
       "1                                  -1.325006            -0.168252   \n",
       "2                                   1.183806             1.684063   \n",
       "3                                   0.298912            -0.067219   \n",
       "4                                  -0.687616            -0.926653   \n",
       "5                                   0.529903            -0.521939   \n",
       "\n",
       "pop_bin                  (27887.2, 34689.0]  (34689.0, 41665.2]  \\\n",
       "Hospital overall rating                                           \n",
       "1                                       NaN                 NaN   \n",
       "2                                  1.199116            0.865701   \n",
       "3                                  0.077125            0.228905   \n",
       "4                                 -1.247126           -1.094607   \n",
       "5                                 -0.029115                 NaN   \n",
       "\n",
       "pop_bin                  (41665.2, 49873.2]  (49873.2, 63620.0]  \\\n",
       "Hospital overall rating                                           \n",
       "1                                 -1.231436           -0.790789   \n",
       "2                                  1.067069            1.267842   \n",
       "3                                  0.584827            0.901727   \n",
       "4                                 -0.886437           -0.731830   \n",
       "5                                  0.465978           -0.646949   \n",
       "\n",
       "pop_bin                  (63620.0, 81174.0]  (81174.0, 110079.2]  \\\n",
       "Hospital overall rating                                            \n",
       "1                                 -1.170302             1.699733   \n",
       "2                                  1.226652            -0.267460   \n",
       "3                                  0.220953             0.007460   \n",
       "4                                 -0.277303            -0.681783   \n",
       "5                                       NaN            -0.757950   \n",
       "\n",
       "pop_bin                  (110079.2, 147590.4]  (147590.4, 194020.0]  \\\n",
       "Hospital overall rating                                               \n",
       "1                                   -1.178916             -1.127711   \n",
       "2                                    0.149247              0.294215   \n",
       "3                                    0.221943             -0.503162   \n",
       "4                                   -0.647901             -0.196311   \n",
       "5                                    1.455627              1.532969   \n",
       "\n",
       "pop_bin                  (194020.0, 270937.0]  (270937.0, 413632.6]  \\\n",
       "Hospital overall rating                                               \n",
       "1                                   -0.044804              1.667732   \n",
       "2                                   -0.035305             -0.166922   \n",
       "3                                   -0.269532              0.000558   \n",
       "4                                   -1.214959             -0.929228   \n",
       "5                                    1.564600             -0.572139   \n",
       "\n",
       "pop_bin                  (413632.6, 687802.0]  (687802.0, 970264.7]  \\\n",
       "Hospital overall rating                                               \n",
       "1                                    1.746757              0.585734   \n",
       "2                                   -0.108751              0.036965   \n",
       "3                                   -0.584317             -1.696073   \n",
       "4                                   -0.384620              0.855137   \n",
       "5                                   -0.669069              0.218237   \n",
       "\n",
       "pop_bin                  (970264.7, 2088371.0]  (2088371.0, 10017068.0]  \n",
       "Hospital overall rating                                                  \n",
       "1                                     1.507194                 1.366288  \n",
       "2                                    -0.157629                -0.719536  \n",
       "3                                    -0.337512                -0.361470  \n",
       "4                                     0.227963                -0.992397  \n",
       "5                                    -1.240016                 0.707115  "
      ]
     },
     "execution_count": 19,
     "metadata": {},
     "output_type": "execute_result"
    }
   ],
   "source": [
    "standardized"
   ]
  },
  {
   "cell_type": "markdown",
   "metadata": {},
   "source": [
    "#### Out of the 20 population bins, which bins saw increases/declines in crime as hospital quality increased?"
   ]
  },
  {
   "cell_type": "code",
   "execution_count": 20,
   "metadata": {},
   "outputs": [
    {
     "name": "stdout",
     "output_type": "stream",
     "text": [
      "# of instances where crime DECREASED as hospital quality increased: 16\n",
      "# of instances where crime INCREASED as hospital quality increased: 4\n",
      "\n",
      "Avg # of standard deviations of REDUCTION in crime as hospital quality increased: 1.2400332967827434\n",
      "Avg # of standard deviations of INCREASE in crime as hospital quality increased: 0.5906002654504938\n"
     ]
    }
   ],
   "source": [
    "print(d + '\\n' + i + '\\n' + std_reduction + '\\n' + std_increase)"
   ]
  },
  {
   "cell_type": "code",
   "execution_count": 21,
   "metadata": {},
   "outputs": [
    {
     "data": {
      "image/png": "[encoded data removed]",
      "text/plain": [
       "<Figure size 720x504 with 1 Axes>"
      ]
     },
     "metadata": {
      "needs_background": "light"
     },
     "output_type": "display_data"
    }
   ],
   "source": [
    "graph_crime_rates_between_hospital_ratings(grouped)"
   ]
  },
  {
   "cell_type": "markdown",
   "metadata": {},
   "source": [
    "#### While population undoubtedly plays a significant role in crime rates, when controlling for population it appears that hospital quality is also indeed a factor! After grouping counties into 20 different population bins and standardizing each bin's crime rates, the results demonstrate that in 80% (16/20) of the bins, crime rates decreased as hospital ratings went from 2 -> 4 (We looked at the difference when going from a rating of 2 -> 4 as there was more data compared to ratings of 1 -> 5). Some interesting details include that the larger population bins saw higher crime rates (a relationship previously shown), but also saw greater reductions in crime as hospital quality increased. In addition, the bins which demonstrated a reduction in crome rates as hospital quality increased saw a greater average standard deviation of reduction (1.24 st devs) in comparison to bins which saw an increase in crime rates as hospital quality increased (0.59 st devs). This is significant because not only did the majority of population bins see reductions in crime, but more significant reductions than those bins who saw crime increase. In conclusion, we can say with some certainty that hospital rating and crime have a negative relationship. And intuitively, this should make sense because of the positive relationship between population and crime and the negative relationship between population and hospital rating. While this is our conclusion, without more data it is difficult to discern exactly how impactful hospital quality is on crime rates."
   ]
  },
  {
   "cell_type": "markdown",
   "metadata": {},
   "source": [
    "#### Predictive Model (takes in crime rate, population, and optionally murder, robbery, and assault) and outputs predicted hospital rating for 'imaginary' county"
   ]
  },
  {
   "cell_type": "code",
   "execution_count": 36,
   "metadata": {},
   "outputs": [
    {
     "name": "stdout",
     "output_type": "stream",
     "text": [
      "Set your crime rate (Avg: 293.3811317048617)\n",
      "293\n",
      "Set your population (Avg: 509276.7206666667)\n",
      "509276\n",
      "Would you like to set murder, robbery, and assault rates? Respond Y/N\n",
      "N\n",
      "Predicted Hospital Overall Rating: 3\n"
     ]
    },
    {
     "name": "stderr",
     "output_type": "stream",
     "text": [
      "/Users/adamsturza/Desktop/final_project_330/merged_and_analysis.py:157: SettingWithCopyWarning: \n",
      "A value is trying to be set on a copy of a slice from a DataFrame.\n",
      "Try using .loc[row_indexer,col_indexer] = value instead\n",
      "\n",
      "See the caveats in the documentation: https://pandas.pydata.org/pandas-docs/stable/user_guide/indexing.html#returning-a-view-versus-a-copy\n",
      "  df['Hospital Type'] = df['Hospital Type'].astype('category')\n",
      "/Users/adamsturza/Desktop/final_project_330/merged_and_analysis.py:158: SettingWithCopyWarning: \n",
      "A value is trying to be set on a copy of a slice from a DataFrame.\n",
      "Try using .loc[row_indexer,col_indexer] = value instead\n",
      "\n",
      "See the caveats in the documentation: https://pandas.pydata.org/pandas-docs/stable/user_guide/indexing.html#returning-a-view-versus-a-copy\n",
      "  df['Hospital Type'] = df['Hospital Type'].cat.codes\n",
      "/Users/adamsturza/Desktop/final_project_330/merged_and_analysis.py:162: SettingWithCopyWarning: \n",
      "A value is trying to be set on a copy of a slice from a DataFrame.\n",
      "Try using .loc[row_indexer,col_indexer] = value instead\n",
      "\n",
      "See the caveats in the documentation: https://pandas.pydata.org/pandas-docs/stable/user_guide/indexing.html#returning-a-view-versus-a-copy\n",
      "  df['Hospital Ownership'] = df['Hospital Ownership'].astype('category')\n",
      "/Users/adamsturza/Desktop/final_project_330/merged_and_analysis.py:163: SettingWithCopyWarning: \n",
      "A value is trying to be set on a copy of a slice from a DataFrame.\n",
      "Try using .loc[row_indexer,col_indexer] = value instead\n",
      "\n",
      "See the caveats in the documentation: https://pandas.pydata.org/pandas-docs/stable/user_guide/indexing.html#returning-a-view-versus-a-copy\n",
      "  df['Hospital Ownership'] = df['Hospital Ownership'].cat.codes\n",
      "/Users/adamsturza/Desktop/final_project_330/merged_and_analysis.py:175: SettingWithCopyWarning: \n",
      "A value is trying to be set on a copy of a slice from a DataFrame.\n",
      "Try using .loc[row_indexer,col_indexer] = value instead\n",
      "\n",
      "See the caveats in the documentation: https://pandas.pydata.org/pandas-docs/stable/user_guide/indexing.html#returning-a-view-versus-a-copy\n",
      "  df['Emergency Services'] = df['Emergency Services'].astype('category')\n",
      "/Users/adamsturza/Desktop/final_project_330/merged_and_analysis.py:176: SettingWithCopyWarning: \n",
      "A value is trying to be set on a copy of a slice from a DataFrame.\n",
      "Try using .loc[row_indexer,col_indexer] = value instead\n",
      "\n",
      "See the caveats in the documentation: https://pandas.pydata.org/pandas-docs/stable/user_guide/indexing.html#returning-a-view-versus-a-copy\n",
      "  df['Emergency Services'] = df['Emergency Services'].cat.codes\n",
      "/Users/adamsturza/Desktop/final_project_330/merged_and_analysis.py:180: SettingWithCopyWarning: \n",
      "A value is trying to be set on a copy of a slice from a DataFrame.\n",
      "Try using .loc[row_indexer,col_indexer] = value instead\n",
      "\n",
      "See the caveats in the documentation: https://pandas.pydata.org/pandas-docs/stable/user_guide/indexing.html#returning-a-view-versus-a-copy\n",
      "  df['Mortality national comparison'] = df['Mortality national comparison'].astype('category')\n",
      "/Users/adamsturza/Desktop/final_project_330/merged_and_analysis.py:181: SettingWithCopyWarning: \n",
      "A value is trying to be set on a copy of a slice from a DataFrame.\n",
      "Try using .loc[row_indexer,col_indexer] = value instead\n",
      "\n",
      "See the caveats in the documentation: https://pandas.pydata.org/pandas-docs/stable/user_guide/indexing.html#returning-a-view-versus-a-copy\n",
      "  df['Mortality national comparison'] = df['Mortality national comparison'].cat.codes\n",
      "/Users/adamsturza/Desktop/final_project_330/merged_and_analysis.py:187: SettingWithCopyWarning: \n",
      "A value is trying to be set on a copy of a slice from a DataFrame.\n",
      "Try using .loc[row_indexer,col_indexer] = value instead\n",
      "\n",
      "See the caveats in the documentation: https://pandas.pydata.org/pandas-docs/stable/user_guide/indexing.html#returning-a-view-versus-a-copy\n",
      "  df['Patient experience national comparison'] = df['Patient experience national comparison'].astype('category')\n",
      "/Users/adamsturza/Desktop/final_project_330/merged_and_analysis.py:188: SettingWithCopyWarning: \n",
      "A value is trying to be set on a copy of a slice from a DataFrame.\n",
      "Try using .loc[row_indexer,col_indexer] = value instead\n",
      "\n",
      "See the caveats in the documentation: https://pandas.pydata.org/pandas-docs/stable/user_guide/indexing.html#returning-a-view-versus-a-copy\n",
      "  df['Patient experience national comparison'] = df['Patient experience national comparison'].cat.codes\n",
      "/Users/adamsturza/Desktop/final_project_330/merged_and_analysis.py:194: SettingWithCopyWarning: \n",
      "A value is trying to be set on a copy of a slice from a DataFrame.\n",
      "Try using .loc[row_indexer,col_indexer] = value instead\n",
      "\n",
      "See the caveats in the documentation: https://pandas.pydata.org/pandas-docs/stable/user_guide/indexing.html#returning-a-view-versus-a-copy\n",
      "  df['Effectiveness of care national comparison'] = df['Effectiveness of care national comparison'].astype('category')\n",
      "/Users/adamsturza/Desktop/final_project_330/merged_and_analysis.py:195: SettingWithCopyWarning: \n",
      "A value is trying to be set on a copy of a slice from a DataFrame.\n",
      "Try using .loc[row_indexer,col_indexer] = value instead\n",
      "\n",
      "See the caveats in the documentation: https://pandas.pydata.org/pandas-docs/stable/user_guide/indexing.html#returning-a-view-versus-a-copy\n",
      "  df['Effectiveness of care national comparison'] = df['Effectiveness of care national comparison'].cat.codes\n"
     ]
    }
   ],
   "source": [
    "predict()"
   ]
  },
  {
   "cell_type": "code",
   "execution_count": 35,
   "metadata": {},
   "outputs": [
    {
     "name": "stdout",
     "output_type": "stream",
     "text": [
      "Set your crime rate (Avg: 293.3811317048617)\n",
      "0\n",
      "Set your population (Avg: 509276.7206666667)\n",
      "3138\n",
      "Would you like to set murder, robbery, and assault rates? Respond Y/N\n",
      "Y\n",
      "Set # of murders (Avg: 30.689)\n",
      "0\n",
      "Set # of robberies: (Avg: 870.7773333333333)\n",
      "0\n",
      "Set # of assaults: (Avg: 1292.8793333333333)\n",
      "0\n",
      "Predicted Hospital Overall Rating: 4\n"
     ]
    },
    {
     "name": "stderr",
     "output_type": "stream",
     "text": [
      "/Users/adamsturza/Desktop/final_project_330/merged_and_analysis.py:157: SettingWithCopyWarning: \n",
      "A value is trying to be set on a copy of a slice from a DataFrame.\n",
      "Try using .loc[row_indexer,col_indexer] = value instead\n",
      "\n",
      "See the caveats in the documentation: https://pandas.pydata.org/pandas-docs/stable/user_guide/indexing.html#returning-a-view-versus-a-copy\n",
      "  df['Hospital Type'] = df['Hospital Type'].astype('category')\n",
      "/Users/adamsturza/Desktop/final_project_330/merged_and_analysis.py:158: SettingWithCopyWarning: \n",
      "A value is trying to be set on a copy of a slice from a DataFrame.\n",
      "Try using .loc[row_indexer,col_indexer] = value instead\n",
      "\n",
      "See the caveats in the documentation: https://pandas.pydata.org/pandas-docs/stable/user_guide/indexing.html#returning-a-view-versus-a-copy\n",
      "  df['Hospital Type'] = df['Hospital Type'].cat.codes\n",
      "/Users/adamsturza/Desktop/final_project_330/merged_and_analysis.py:162: SettingWithCopyWarning: \n",
      "A value is trying to be set on a copy of a slice from a DataFrame.\n",
      "Try using .loc[row_indexer,col_indexer] = value instead\n",
      "\n",
      "See the caveats in the documentation: https://pandas.pydata.org/pandas-docs/stable/user_guide/indexing.html#returning-a-view-versus-a-copy\n",
      "  df['Hospital Ownership'] = df['Hospital Ownership'].astype('category')\n",
      "/Users/adamsturza/Desktop/final_project_330/merged_and_analysis.py:163: SettingWithCopyWarning: \n",
      "A value is trying to be set on a copy of a slice from a DataFrame.\n",
      "Try using .loc[row_indexer,col_indexer] = value instead\n",
      "\n",
      "See the caveats in the documentation: https://pandas.pydata.org/pandas-docs/stable/user_guide/indexing.html#returning-a-view-versus-a-copy\n",
      "  df['Hospital Ownership'] = df['Hospital Ownership'].cat.codes\n",
      "/Users/adamsturza/Desktop/final_project_330/merged_and_analysis.py:175: SettingWithCopyWarning: \n",
      "A value is trying to be set on a copy of a slice from a DataFrame.\n",
      "Try using .loc[row_indexer,col_indexer] = value instead\n",
      "\n",
      "See the caveats in the documentation: https://pandas.pydata.org/pandas-docs/stable/user_guide/indexing.html#returning-a-view-versus-a-copy\n",
      "  df['Emergency Services'] = df['Emergency Services'].astype('category')\n",
      "/Users/adamsturza/Desktop/final_project_330/merged_and_analysis.py:176: SettingWithCopyWarning: \n",
      "A value is trying to be set on a copy of a slice from a DataFrame.\n",
      "Try using .loc[row_indexer,col_indexer] = value instead\n",
      "\n",
      "See the caveats in the documentation: https://pandas.pydata.org/pandas-docs/stable/user_guide/indexing.html#returning-a-view-versus-a-copy\n",
      "  df['Emergency Services'] = df['Emergency Services'].cat.codes\n",
      "/Users/adamsturza/Desktop/final_project_330/merged_and_analysis.py:180: SettingWithCopyWarning: \n",
      "A value is trying to be set on a copy of a slice from a DataFrame.\n",
      "Try using .loc[row_indexer,col_indexer] = value instead\n",
      "\n",
      "See the caveats in the documentation: https://pandas.pydata.org/pandas-docs/stable/user_guide/indexing.html#returning-a-view-versus-a-copy\n",
      "  df['Mortality national comparison'] = df['Mortality national comparison'].astype('category')\n",
      "/Users/adamsturza/Desktop/final_project_330/merged_and_analysis.py:181: SettingWithCopyWarning: \n",
      "A value is trying to be set on a copy of a slice from a DataFrame.\n",
      "Try using .loc[row_indexer,col_indexer] = value instead\n",
      "\n",
      "See the caveats in the documentation: https://pandas.pydata.org/pandas-docs/stable/user_guide/indexing.html#returning-a-view-versus-a-copy\n",
      "  df['Mortality national comparison'] = df['Mortality national comparison'].cat.codes\n",
      "/Users/adamsturza/Desktop/final_project_330/merged_and_analysis.py:187: SettingWithCopyWarning: \n",
      "A value is trying to be set on a copy of a slice from a DataFrame.\n",
      "Try using .loc[row_indexer,col_indexer] = value instead\n",
      "\n",
      "See the caveats in the documentation: https://pandas.pydata.org/pandas-docs/stable/user_guide/indexing.html#returning-a-view-versus-a-copy\n",
      "  df['Patient experience national comparison'] = df['Patient experience national comparison'].astype('category')\n",
      "/Users/adamsturza/Desktop/final_project_330/merged_and_analysis.py:188: SettingWithCopyWarning: \n",
      "A value is trying to be set on a copy of a slice from a DataFrame.\n",
      "Try using .loc[row_indexer,col_indexer] = value instead\n",
      "\n",
      "See the caveats in the documentation: https://pandas.pydata.org/pandas-docs/stable/user_guide/indexing.html#returning-a-view-versus-a-copy\n",
      "  df['Patient experience national comparison'] = df['Patient experience national comparison'].cat.codes\n",
      "/Users/adamsturza/Desktop/final_project_330/merged_and_analysis.py:194: SettingWithCopyWarning: \n",
      "A value is trying to be set on a copy of a slice from a DataFrame.\n",
      "Try using .loc[row_indexer,col_indexer] = value instead\n",
      "\n",
      "See the caveats in the documentation: https://pandas.pydata.org/pandas-docs/stable/user_guide/indexing.html#returning-a-view-versus-a-copy\n",
      "  df['Effectiveness of care national comparison'] = df['Effectiveness of care national comparison'].astype('category')\n",
      "/Users/adamsturza/Desktop/final_project_330/merged_and_analysis.py:195: SettingWithCopyWarning: \n",
      "A value is trying to be set on a copy of a slice from a DataFrame.\n",
      "Try using .loc[row_indexer,col_indexer] = value instead\n",
      "\n",
      "See the caveats in the documentation: https://pandas.pydata.org/pandas-docs/stable/user_guide/indexing.html#returning-a-view-versus-a-copy\n",
      "  df['Effectiveness of care national comparison'] = df['Effectiveness of care national comparison'].cat.codes\n"
     ]
    }
   ],
   "source": [
    "predict()"
   ]
  },
  {
   "cell_type": "code",
   "execution_count": null,
   "metadata": {},
   "outputs": [],
   "source": []
  }
 ],
 "metadata": {
  "kernelspec": {
   "display_name": "Python 3",
   "language": "python",
   "name": "python3"
  },
  "language_info": {
   "codemirror_mode": {
    "name": "ipython",
    "version": 3
   },
   "file_extension": ".py",
   "mimetype": "text/x-python",
   "name": "python",
   "nbconvert_exporter": "python",
   "pygments_lexer": "ipython3",
   "version": "3.6.13"
  }
 },
 "nbformat": 4,
 "nbformat_minor": 4
}
